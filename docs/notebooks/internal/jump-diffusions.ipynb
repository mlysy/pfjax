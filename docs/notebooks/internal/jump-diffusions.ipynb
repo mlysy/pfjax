{
 "cells": [
  {
   "cell_type": "markdown",
   "id": "f8988057",
   "metadata": {},
   "source": [
    "# Stochastic Volatility Model\n",
    "\n",
    "Implementing model in [Bayesian Filtering for Jump-Diffusions With Application to Stochastic Volatility](https://www.tandfonline.com/doi/abs/10.1198/jcgs.2009.07137).\n",
    "\n",
    "\\begin{equation}\n",
    "    \\begin{aligned}\n",
    "        dX_t = \\alpha dt + \\sqrt{Z_t} dW_t^x + V_t^x dN_t \\\\\n",
    "        dZ_t = (\\theta + \\kappa Z_t) dt + \\sigma_z \\sqrt{Z_t} dW_t^z + V_t^z dN_t \\\\\n",
    "    \\end{aligned}\n",
    "\\end{equation}\n",
    "\n",
    "Euler-Maruyama approximation: \n",
    "\n",
    "\\begin{equation}\n",
    "    \\begin{aligned}\n",
    "        X_{t + \\Delta t} = X_t + \\alpha \\Delta t + \\sqrt{Z_t} \\Delta W_t^x + V_t^x J_{t + \\Delta t} \\\\\n",
    "        Z_{t + \\Delta t} = Z_t + (\\theta + \\kappa Z_t) \\Delta t + \\sigma_z \\sqrt{Z_t} \\Delta W_t^z + V_t^z J_{t + \\Delta t} \\\\\n",
    "    \\end{aligned}\n",
    "\\end{equation}\n",
    "\n",
    "\n",
    "For `pfjax`, we need to specify: \n",
    "\n",
    "- `state_lpdf`\n",
    "- `state_sample`\n",
    "- `meas_lpdf`\n",
    "- `meas_sample`"
   ]
  },
  {
   "cell_type": "code",
   "execution_count": 3,
   "id": "59bbfbc9",
   "metadata": {},
   "outputs": [],
   "source": [
    "import jax\n",
    "import jax.numpy as jnp\n",
    "import jax.scipy as jsp\n",
    "from jax import random\n",
    "from jax import lax\n",
    "from pfjax import sde as sde\n",
    "\n",
    "\n",
    "import numpy as np\n",
    "import seaborn as sns\n",
    "import scipy.stats\n",
    "import matplotlib.pyplot as plt\n",
    "%matplotlib inline\n",
    "%config InlineBackend.figure_format = 'retina'\n",
    "sns.set()"
   ]
  },
  {
   "cell_type": "code",
   "execution_count": 4,
   "id": "c8fe13bb",
   "metadata": {},
   "outputs": [],
   "source": [
    "# Measurement model is X + N(0,1)\n",
    "# State model is the joint density: (X, Z)\n",
    "\n",
    "class SVJumps(sde.SDEModel):\n",
    "    def __init__ (self, dt, n_res):\n",
    "        super().__init__(dt, n_res, diff_diag=True)\n",
    "        self._n_state = (self._n_res, 2) # 2 latent variables (X, Z)\n",
    "        self.theta_names = [\"alpha\", \"mu_x\", \"sigma_x\", \"lambda\", \"_theta\", \"kappa\", \"mu_z\", \"sigma_z\"]\n",
    "        \n",
    "    def zip_theta (self, theta):\n",
    "        return dict(zip(self.theta_names, theta))\n",
    "    \n",
    "    def state_lpdf (self, x_curr, x_prev, theta):\n",
    "        r\"\"\"\n",
    "        Evaluate the log-pdf for the current state\n",
    "        \"\"\"\n",
    "        pass\n",
    "    \n",
    "    def state_sample (self, key, x_prev, theta):\n",
    "        r\"\"\"\n",
    "        Sample from the state model\n",
    "        \n",
    "        Args:\n",
    "            - key: PRNGKey\n",
    "            - x_prev: (X, Z)\n",
    "            - theta: (alpha, mu_x, sigma_x, lambda, theta, kappa, mu_z, sigma_z)\n",
    "        \"\"\"\n",
    "        theta_dict = self.zip_theta(theta)\n",
    "        \n",
    "        # sample jump sizes: \n",
    "        V_x = theta_dict[\"mu_x\"] + theta_dict[\"sigma_x\"]*random.normal(key) # jump size for X\n",
    "        V_z = random.exponential(key)/theta_dict[\"mu_z\"] # jump size for Z\n",
    "        \n",
    "        # sample jump:\n",
    "        jump = random.bernoulli(key, p=theta_dict[\"lambda\"]*self._dt)\n",
    "        \n",
    "        # sample X conditional on x_prev\n",
    "        noise_term = jnp.sqrt(x_prev[-1, 1]*self._dt)\n",
    "        x_mean = x_prev[-0] + theta_dict[\"alpha\"]*self._dt + V_x*jump\n",
    "        x_sd = noise_term\n",
    "        \n",
    "        z_mean = x_prev[1] + (theta_dict[\"_theta\"] + theta_dict[\"kappa\"]*x_prev[-1, 1])*self._dt + V_z*jump\n",
    "        z_sd = theta_dict[\"sigma_z\"]*noise_term\n",
    "        \n",
    "        return jnp.array([x_mean, z_mean]) + \\\n",
    "            jnp.array([x_sd, z_sd]) * random.normal(key, (self._n_state[1],))\n",
    "    \n",
    "    def meas_lpdf (self, y_curr, x_curr, theta):\n",
    "        pass\n",
    "    \n",
    "    def meas_sample (self, key, x_curr, theta):\n",
    "        return x_curr[-1]"
   ]
  },
  {
   "cell_type": "code",
   "execution_count": 5,
   "id": "da2f6942",
   "metadata": {},
   "outputs": [],
   "source": [
    "theta_true = [0.5, 1., 0.1, 0.2, 1., 0.5, 2, 0.3]\n",
    "n_res = 3\n",
    "dt = 0.5\n",
    "\n",
    "x_init = jnp.block([[jnp.zeros((n_res-1, 2))],\n",
    "           [jnp.array([5., 3.])]])\n",
    "\n",
    "sv = SVJumps(dt = dt, n_res = n_res)\n",
    "\n",
    "x_curr = sv.state_sample(\n",
    "    random.PRNGKey(0), \n",
    "    x_prev = x_init, \n",
    "    theta = theta_true)"
   ]
  },
  {
   "cell_type": "code",
   "execution_count": 6,
   "id": "600ddb4a",
   "metadata": {},
   "outputs": [
    {
     "data": {
      "text/plain": [
       "DeviceArray([[-0.7111381 ,  0.56467795],\n",
       "             [ 0.28886187,  1.564678  ]], dtype=float32)"
      ]
     },
     "execution_count": 6,
     "metadata": {},
     "output_type": "execute_result"
    }
   ],
   "source": [
    "x_curr"
   ]
  },
  {
   "cell_type": "code",
   "execution_count": null,
   "id": "5b0d6f3c",
   "metadata": {},
   "outputs": [],
   "source": [
    "def simulate(model, key, n_obs, x_init, theta):\n",
    "    def fun(carry, x):\n",
    "        key, *subkeys = random.split(carry[\"key\"], num=3)\n",
    "        x_state = model.state_sample(subkeys[0], carry[\"x_state\"], theta)\n",
    "        y_meas = model.meas_sample(subkeys[1], x_state, theta)\n",
    "        res = {\"y_meas\": y_meas, \"x_state\": x_state, \"key\": key}\n",
    "        return res, res\n",
    "\n",
    "    key, subkey = random.split(key)\n",
    "    init = {\n",
    "        \"y_meas\": model.meas_sample(subkey, x_init, theta),\n",
    "        \"x_state\": x_init,\n",
    "        \"key\": key\n",
    "    }\n",
    "    # scan itself\n",
    "    last, full = lax.scan(fun, init, jnp.arange(n_obs-1))\n",
    "    # append initial values\n",
    "    x_state = tree_append_first(full[\"x_state\"], first=init[\"x_state\"])\n",
    "    y_meas = tree_append_first(full[\"y_meas\"], first=init[\"y_meas\"])\n",
    "    return y_meas, x_state"
   ]
  }
 ],
 "metadata": {
  "kernelspec": {
   "display_name": "Python 3 (ipykernel)",
   "language": "python",
   "name": "python3"
  },
  "language_info": {
   "codemirror_mode": {
    "name": "ipython",
    "version": 3
   },
   "file_extension": ".py",
   "mimetype": "text/x-python",
   "name": "python",
   "nbconvert_exporter": "python",
   "pygments_lexer": "ipython3",
   "version": "3.9.13"
  },
  "latex_envs": {
   "LaTeX_envs_menu_present": true,
   "autoclose": false,
   "autocomplete": true,
   "bibliofile": "biblio.bib",
   "cite_by": "apalike",
   "current_citInitial": 1,
   "eqLabelWithNumbers": true,
   "eqNumInitial": 1,
   "hotkeys": {
    "equation": "Ctrl-E",
    "itemize": "Ctrl-I"
   },
   "labels_anchors": false,
   "latex_user_defs": false,
   "report_style_numbering": false,
   "user_envs_cfg": false
  }
 },
 "nbformat": 4,
 "nbformat_minor": 5
}
