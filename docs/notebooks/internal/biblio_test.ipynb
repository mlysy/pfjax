{
 "cells": [
  {
   "cell_type": "markdown",
   "id": "14b442f1",
   "metadata": {},
   "source": [
    "# LaTeX Bibliography Test\n",
    "\n",
    "Reference to papers: \\cite{poyiadjis_etal11}, \\cite{corenflos_etal21}, \\cite{doucet_johansen09}, \\cite{cappe_moulines05}."
   ]
  },
  {
   "cell_type": "code",
   "execution_count": null,
   "id": "0de81ec3",
   "metadata": {},
   "outputs": [],
   "source": []
  },
  {
   "cell_type": "markdown",
   "id": "2236802c",
   "metadata": {},
   "source": [
    "# References\n",
    "\n",
    "[<a id=\"cit-poyiadjis_etal11\" href=\"#call-poyiadjis_etal11\">1</a>] Poyiadjis G., Doucet A. and Singh S. S., ``_Particle approximations of the score and observed information matrix in state space models with application to parameter estimation_'', Biometrika, vol. 98, number 1, pp. 65--80,  2011.  [online](https://academic.oup.com/biomet/article-lookup/doi/10.1093/biomet/asq062)\n",
    "\n",
    "[<a id=\"cit-corenflos_etal21\" href=\"#call-corenflos_etal21\">2</a>] A. Corenflos, J. Thornton, G. Deligiannidis <em>et al.</em>, ``_Differentiable particle filtering via entropy-regularized optimal transport_'', Proceedings of the 38th international conference on machine learning, July 2021.  [online](https://proceedings.mlr.press/v139/corenflos21a.html)\n",
    "\n",
    "[<a id=\"cit-doucet_johansen09\" href=\"#call-doucet_johansen09\">3</a>] Arnaud Doucet and Adam M. Johansen, ``_A tutorial on particle filtering and smoothing: Fifteen years later._'',  2009.\n",
    "\n",
    "[<a id=\"cit-cappe_moulines05\" href=\"#call-cappe_moulines05\">4</a>] O. Cappé and E. Moulines, ``_On the use of particle filtering for maximum likelihood parameter estimation_'', 13th European Signal Processing Conference,  2005.\n",
    "\n"
   ]
  }
 ],
 "metadata": {
  "kernelspec": {
   "display_name": "Python 3 (ipykernel)",
   "language": "python",
   "name": "python3"
  },
  "language_info": {
   "codemirror_mode": {
    "name": "ipython",
    "version": 3
   },
   "file_extension": ".py",
   "mimetype": "text/x-python",
   "name": "python",
   "nbconvert_exporter": "python",
   "pygments_lexer": "ipython3",
   "version": "3.8.13"
  },
  "latex_envs": {
   "LaTeX_envs_menu_present": true,
   "autoclose": false,
   "autocomplete": true,
   "bibliofile": "biblio.bib",
   "cite_by": "number",
   "current_citInitial": 1,
   "eqLabelWithNumbers": true,
   "eqNumInitial": 1,
   "hotkeys": {
    "equation": "Ctrl-E",
    "itemize": "Ctrl-I"
   },
   "labels_anchors": false,
   "latex_user_defs": false,
   "report_style_numbering": false,
   "user_envs_cfg": false
  }
 },
 "nbformat": 4,
 "nbformat_minor": 5
}
