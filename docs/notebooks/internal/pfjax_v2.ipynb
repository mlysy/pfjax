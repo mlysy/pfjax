{
 "cells": [
  {
   "cell_type": "markdown",
   "id": "8f21d721",
   "metadata": {},
   "source": [
    "# A Quick Tour of PFJAX\n",
    "\n",
    "**Martin Lysy, University of Waterloo**\n",
    "\n",
    "**August 3, 2022**"
   ]
  },
  {
   "cell_type": "markdown",
   "id": "8c124e87",
   "metadata": {},
   "source": [
    "## Summary\n",
    "\n",
    "The goal of **PFJAX** is to provide tools for estimating the parameters $\\tth$ of a [state-space model](http://www.scholarpedia.org/article/State_space_model)\n",
    "\n",
    "$$\n",
    "\\begin{aligned}\n",
    "\\xx_0 & \\sim \\pi(\\xx_0 \\mid \\tth) \\\\\n",
    "\\xx_t & \\sim f(\\xx_t \\mid \\xx_{t-1}, \\tth) \\\\\n",
    "\\yy_t & \\sim g(\\yy_t \\mid \\xx_t, \\tth).\n",
    "\\end{aligned}\n",
    "$$\n",
    "\n",
    "In such models, only the *measurement variables* $\\yy_{0:T} = (\\yy_0, \\ldots, \\yy_T)$ are observed, whereas the *state variables* $\\xx_{0:T}$ are latent.  The marginal likelihood given the observed data is\n",
    "\n",
    "$$\n",
    "\\begin{aligned}\n",
    "\\Ell(\\tth) & = p(\\yy_{0:T} \\mid \\tth) \\\\\n",
    "& = \\int \\prod_{t=0}^T g(\\yy_t \\mid \\xx_t, \\tth) \\times \\prod_{t=1}^T f(\\xx_t \\mid \\xx_{t-1}, \\tth) \\times \\pi(\\xx_0 \\mid \\tth)\\, \\ud \\xx_{0:T},   \n",
    "\\end{aligned}\n",
    "$$\n",
    "\n",
    "but this integral is typically intractable.  The state-of-the-art for approximating it is via [particle filtering methods](https://warwick.ac.uk/fac/sci/statistics/staff/academic-research/johansen/publications/dj11.pdf).  **PFJAX** provides several particle filters to estimate the marginal loglikelihood $\\ell(\\tth) = \\log \\Ell(\\tth)$, along with its gradient $\\nabla \\ell(\\tth) = \\frac{\\partial}{\\partial \\tth} \\ell(\\tth)$ and hessian $\\nabla^2 \\ell(\\tth) = \\frac{\\partial^2}{\\partial \\tth \\partial \\tth'} \\ell(\\tth)$.  To do this efficiently, **PFJAX** uses JIT-compilation and automatic differentiation as provided by the [**JAX**](https://github.com/google/jax) library.\n",
    "\n",
    "In this tutorial, we'll show how to use **PFJAX** for:\n",
    "\n",
    "- Estimating the marginal loglikelihood $\\ell(\\tth)$.\n",
    "\n",
    "- Approximating the maximum likelihood estimator $\\hat \\tth = \\argmax_{\\tth} \\ell(\\tth)$ and its variance $\\var(\\hat \\tth)$ via stochastic optimization.\n",
    "\n",
    "- Calculating the posterior distribution $p(\\tth \\mid \\yy_{0:T}) \\propto \\Ell(\\tth) \\times \\pi(\\tth)$ via Markov chain Monte Carlo (MCMC) sampling."
   ]
  },
  {
   "cell_type": "markdown",
   "id": "1258bfca",
   "metadata": {},
   "source": [
    "## Example Model: Brownian Motion with Drift\n",
    "\n",
    "The model is\n",
    "\n",
    "$$\n",
    "\\begin{aligned}\n",
    "x_0 & \\sim \\N(0, \\sigma^2 \\dt) \\\\\n",
    "x_t & \\sim \\N(x_{t-1} + \\mu \\dt, \\sigma^2 \\dt) \\\\\n",
    "y_t & \\sim \\N(x_t, \\tau^2).\n",
    "\\end{aligned}\n",
    "$$\n",
    "\n",
    "The parameters of the model are $\\tth = (\\mu, \\sigma, \\tau)$.  Since $(\\xx_{0:T}, \\yy_{0:T})$ are jointly normal given $\\tth$, we can show (see [here](#bm_deriv)) that $\\yy_{0:T}$ is multivariate normal with mean and covariance \n",
    "\n",
    "$$\n",
    "E[y_t \\mid \\tth] = \\tilde \\mu t, \\qquad \\cov(y_s, y_t) = \\tilde \\sigma^2 \\cdot (1 + \\min(s, t)) + \\tau^2 \\delta_{st},\n",
    "$$\n",
    "\n",
    "where $\\tilde \\mu = \\mu \\dt$, $\\tilde \\sigma^2 = \\sigma^2 \\dt$, and $\\delta_{st}$ is the indicator function.  These formulas provide an analytic expression for $\\Ell(\\tth = p(\\yy_{0:T})$, which we can use to benchmark our calculations.  "
   ]
  },
  {
   "cell_type": "markdown",
   "id": "2944e8e3",
   "metadata": {},
   "source": []
  },
  {
   "cell_type": "markdown",
   "id": "8cd7b91d",
   "metadata": {},
   "source": [
    "<a id=\"bm_deriv\"></a>\n",
    "## Appendix: Exact Likelihood of the BM Model\n",
    "\n",
    "The distribution of $p(\\xx_{0:T}, \\yy_{0:T} \\mid \\tth)$ is multivariate normal.  Thus, $p(\\yy_{0:T} \\mid \\tth)$ is also multivariate normal, and we only need to find $E[y_t \\mid \\tth]$ and $\\cov(y_s, y_t \\mid \\tth)$.\n",
    "\n",
    "Conditioned on $x_0$ and $\\tth$, the Brownian latent variables $\\xx_{1:T}$ are multivariate normal with\n",
    "\n",
    "$$\n",
    "\\newcommand{\\cov}{\\operatorname{cov}}\n",
    "\\begin{aligned}\n",
    "E[x_t \\mid x_0, \\tth] & = x_0 + \\tilde \\mu t, \\\\\n",
    "\\cov(x_s, x_t \\mid x_0, \\tth) & = \\tilde \\sigma^2 \\min(s, t),\n",
    "\\end{aligned}\n",
    "$$\n",
    "\n",
    "where $\\tilde \\mu = \\mu \\dt$ and $\\tilde \\sigma^2 = \\sigma^2 \\dt$.\n",
    "\n",
    "Therefore, $p(\\xx_{0:T} \\mid \\tth)$ is multivariate normal with\n",
    "\n",
    "$$\n",
    "\\begin{aligned}\n",
    "E[x_t \\mid \\tth] & = E[E[x_t \\mid x_0, \\tth]] \\\\\n",
    "& = \\tilde \\mu t, \\\\\n",
    "\\cov(x_s, x_t \\mid \\tth) & = \\cov(E[x_s \\mid x_0, \\tth], E[x_t \\mid x_0, \\tth]) + E[\\cov(x_s, x_t \\mid x_0, \\tth)] \\\\\n",
    "& = \\tilde \\sigma^2 (1 + \\min(s, t)).\n",
    "\\end{aligned}\n",
    "$$\n",
    "\n",
    "Similarly, conditioned on $\\xx_{0:T}$ and $\\tth$, the measurement variables $\\yy_{0:T}$ are multivariate normal with\n",
    "\n",
    "$$\n",
    "\\begin{aligned}\n",
    "E[y_t \\mid \\xx_{0:T}, \\tth] & = x_t, \\\\\n",
    "\\cov(y_s, y_t \\mid \\xx_{0:T}, \\tth) & = \\tau^2 \\delta_{st}.\n",
    "\\end{aligned}\n",
    "$$\n",
    "\n",
    "Therefore, $p(\\yy_{0:T} \\mid \\tth)$ is multivariate normal with\n",
    "\n",
    "$$\n",
    "\\begin{aligned}\n",
    "E[y_t \\mid \\tth] & = \\tilde \\mu t, \\\\\n",
    "\\cov(y_s, y_t \\mid \\tth) & = \n",
    "% \\cov(E[y_s \\mid \\xx_{0:T}, \\tth], E[y_t \\mid \\xx_{0:T}, \\tth]) + E[\\cov(y_s, y_t \\mid \\xx_{0:T}, \\tth)] \\\\\n",
    "\\tilde \\sigma^2 (1 + \\min(s, t)) + \\tau^2 \\delta_{st}.\n",
    "\\end{aligned}\n",
    "$$"
   ]
  },
  {
   "cell_type": "code",
   "execution_count": null,
   "id": "1f5add36",
   "metadata": {},
   "outputs": [],
   "source": []
  }
 ],
 "metadata": {
  "kernelspec": {
   "display_name": "Python 3 (ipykernel)",
   "language": "python",
   "name": "python3"
  },
  "language_info": {
   "codemirror_mode": {
    "name": "ipython",
    "version": 3
   },
   "file_extension": ".py",
   "mimetype": "text/x-python",
   "name": "python",
   "nbconvert_exporter": "python",
   "pygments_lexer": "ipython3",
   "version": "3.8.13"
  },
  "latex_envs": {
   "LaTeX_envs_menu_present": true,
   "autoclose": false,
   "autocomplete": false,
   "bibliofile": "biblio.bib",
   "cite_by": "apalike",
   "current_citInitial": 1,
   "eqLabelWithNumbers": true,
   "eqNumInitial": 1,
   "hotkeys": {
    "equation": "Ctrl-E",
    "itemize": "Ctrl-I"
   },
   "labels_anchors": false,
   "latex_user_defs": true,
   "report_style_numbering": false,
   "user_envs_cfg": false
  }
 },
 "nbformat": 4,
 "nbformat_minor": 5
}
