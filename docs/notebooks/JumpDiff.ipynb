{
 "cells": [
  {
   "cell_type": "code",
   "execution_count": 1,
   "id": "fb8a72de",
   "metadata": {},
   "outputs": [],
   "source": [
    "import jax\n",
    "import jax.numpy as jnp\n",
    "import jax.scipy as jsp\n",
    "import jax.random as random\n",
    "from jax import lax\n",
    "import pandas as pd\n",
    "import seaborn as sns\n",
    "import matplotlib.pyplot as plt\n",
    "\n",
    "import pfjax as pf\n",
    "import pfjax.sde as sde\n",
    "\n",
    "key = random.PRNGKey(0)"
   ]
  },
  {
   "cell_type": "markdown",
   "id": "e63b65b1",
   "metadata": {},
   "source": [
    "## Model\n",
    "\n",
    "The Jump-Diffusion model is the following:\n",
    "\n",
    "$$\n",
    "\\begin{aligned}\n",
    "Z_{t+\\Delta t} &= Z_t + (\\theta + \\kappa Z_t) \\Delta t + \\sigma_z \\sqrt{Z_t} \\Delta W_t^z + V_{t+\\Delta t}^z J_{t+\\Delta t} \\\\\n",
    "X_{t+\\Delta t} &= X_t + \\alpha \\Delta t + \\sqrt{Z_t} \\Delta W_t^x + V_{t+\\Delta t}^x J_{t+\\Delta t} \n",
    "\\end{aligned}\n",
    "$$\n",
    "\n",
    "where\n",
    "\n",
    "$$\n",
    "\\begin{aligned}\n",
    "\\Delta W_t^x, \\Delta W_t^z &\\sim \\textrm{iid } N(0, \\Delta t) \\\\\n",
    "V_t^z &\\sim \\exp(\\mu_z) \\\\\n",
    "V_t^x &\\sim N(\\mu_x, \\sigma^2_x) \\\\\n",
    "J_{t+\\Delta t} &\\sim \\textrm{Bern}(\\lambda \\Delta t).\n",
    "\\end{aligned}\n",
    "$$\n",
    "\n",
    "Thus, our parameters are $\\Theta = (\\alpha, \\theta, \\kappa, \\sigma_z, \\lambda,\\mu_x, \\sigma_x, \\mu_z)$, observation is $X_t$ (the logarithm of asset price), and latent state $Z_t$ (unobserved volatility)."
   ]
  },
  {
   "cell_type": "code",
   "execution_count": 2,
   "id": "fbd1b4fb",
   "metadata": {},
   "outputs": [],
   "source": [
    "def euler_sim_jump(key, x, dt, drift, diff, jump, theta):\n",
    "    \"\"\"\n",
    "    Simulate SDE with dense diffusion using Euler-Maruyama discretization.\n",
    "    Args:\n",
    "        key: PRNG key.\n",
    "        x: Initial value of the SDE.  A vector of size `n_dims`.\n",
    "        dt: Interobservation time.\n",
    "        drift: Drift function having signature `drift(x, theta)` and returning a vector of size `n_dims`.\n",
    "        diff: Diffusion function having signature `diff(x, theta)` and returning a vector of size `n_dims`.\n",
    "        theta: Parameter value.\n",
    "    Returns:\n",
    "        Simulated SDE values. A vector of size `n_dims`.\n",
    "    \"\"\"\n",
    "    \n",
    "    diff_process = jax.random.multivariate_normal(\n",
    "        key,\n",
    "        mean= x[0:2] + drift(x[0:2], theta) * dt,\n",
    "        cov=diff(x[0:2], theta) * dt\n",
    "    )\n",
    "    vz_param, vx_param, lam = jump(theta)\n",
    "    isjump = jax.random.bernoulli(key, p=lam*dt)\n",
    "    jumpsize = jnp.where(isjump==1.0, \n",
    "                         jnp.array([vz_param*jax.random.exponential(key), \n",
    "                                    vx_param[0]+vx_param[1]*jax.random.normal(key)]),\n",
    "                         jnp.array([0.0,0.0]))\n",
    "    jump_process = jumpsize * isjump\n",
    "    \n",
    "    return jnp.append(diff_process + jump_process, jumpsize)\n",
    "\n",
    "class SDEModel_tmp(object):\n",
    "    \n",
    "    def __init__(self, dt, n_res, meas_model=\"Error-free\"):\n",
    "        self._dt = dt\n",
    "        self._n_res = n_res\n",
    "        self._meas_model = meas_model\n",
    "        \n",
    "        def euler_sim(self, key, x, dt, theta):\n",
    "            return euler_sim_jump(key, x, dt, self.drift, self.diff, self.jump, theta)\n",
    "        \n",
    "        setattr(self.__class__, 'euler_sim', euler_sim)\n",
    "    \n",
    "    def state_sample(self, key, x_prev, theta):\n",
    "        def fun(carry, t):\n",
    "            key, subkey = random.split(carry[\"key\"])\n",
    "            x = self.euler_sim(\n",
    "                key=subkey, x=carry[\"x\"],\n",
    "                dt=self._dt/self._n_res, theta=theta\n",
    "            )\n",
    "            res = {\"x\": x, \"key\": key}\n",
    "            return res, x\n",
    "        init = {\"x\": x_prev[-1], \"key\": key}\n",
    "        last, full = lax.scan(fun, init, jnp.arange(self._n_res))\n",
    "        return full"
   ]
  },
  {
   "cell_type": "code",
   "execution_count": 3,
   "id": "6623317c",
   "metadata": {},
   "outputs": [],
   "source": [
    "class JumpDiff(SDEModel_tmp):\n",
    "    \n",
    "    def __init___(self, dt, n_res, bootstrap=False):\n",
    "        self._dt = dt\n",
    "        self._n_res = n_res\n",
    "        \n",
    "    def drift(self, x, theta):\n",
    "        mu = jnp.array([theta[1]+theta[2]*x[0], theta[0]])\n",
    "        return mu\n",
    "    \n",
    "    def diff(self, x, theta):\n",
    "        Sigma = jnp.array([[x[0]*(theta[3]**2),0],[0,x[0]]])\n",
    "        return Sigma\n",
    "    \n",
    "    def jump(self, theta):\n",
    "        vx_param = jnp.array([theta[5], theta[6]])\n",
    "        vz_param = theta[7]\n",
    "        lam = theta[4]\n",
    "        return vz_param, vx_param, lam\n",
    "    \n",
    "    def meas_sample(self, key, x_curr, theta):\n",
    "        return x_curr[-1][1]"
   ]
  },
  {
   "cell_type": "code",
   "execution_count": 18,
   "id": "ff14efb9",
   "metadata": {},
   "outputs": [],
   "source": [
    "key = random.PRNGKey(1)\n",
    "\n",
    "dt = 1\n",
    "n_res = 5\n",
    "n_obs = 100\n",
    "theta = jnp.array([0.08, 0.02, -0.03, 0.12, 0.2, -3.1, 2.7, 1.7])\n",
    "x_init = jnp.block([[jnp.zeros((n_res-1, 4))],\n",
    "                    [jnp.array([2.0, 100.0,0,0])]])\n",
    "\n",
    "jdmodel = JumpDiff(dt, n_res)"
   ]
  },
  {
   "cell_type": "code",
   "execution_count": 5,
   "id": "dd275fbd",
   "metadata": {},
   "outputs": [],
   "source": [
    "y_meas, x_state = pf.simulate(jdmodel, key, n_obs, x_init, theta)\n"
   ]
  },
  {
   "cell_type": "code",
   "execution_count": 6,
   "id": "a78aa0ad",
   "metadata": {},
   "outputs": [
    {
     "data": {
      "text/plain": [
       "[<matplotlib.lines.Line2D at 0x7fdda066d490>]"
      ]
     },
     "execution_count": 6,
     "metadata": {},
     "output_type": "execute_result"
    },
    {
     "data": {
      "image/png": "[encoded data removed]",
      "text/plain": [
       "<Figure size 640x480 with 1 Axes>"
      ]
     },
     "metadata": {},
     "output_type": "display_data"
    }
   ],
   "source": [
    "plt.plot(y_meas)"
   ]
  },
  {
   "cell_type": "code",
   "execution_count": 7,
   "id": "1cef58a8",
   "metadata": {},
   "outputs": [
    {
     "data": {
      "text/plain": [
       "[<matplotlib.lines.Line2D at 0x7fdda0662fa0>]"
      ]
     },
     "execution_count": 7,
     "metadata": {},
     "output_type": "execute_result"
    },
    {
     "data": {
      "image/png": "[encoded data removed]",
      "text/plain": [
       "<Figure size 640x480 with 1 Axes>"
      ]
     },
     "metadata": {},
     "output_type": "display_data"
    }
   ],
   "source": [
    "plt.plot(x_state[:,:,1].reshape(n_res*n_obs,1)[(n_res-1):])\n",
    "#plt.plot(y_meas[:,])"
   ]
  },
  {
   "cell_type": "code",
   "execution_count": 8,
   "id": "bb1ae8c1",
   "metadata": {},
   "outputs": [],
   "source": [
    "def bridge_param(x, y_curr, theta, n, vz, vx, vx_invcumsum, dt, n_res):\n",
    "    k = n_res - n\n",
    "    dt_res = dt/n_res\n",
    "    \n",
    "    mu_z = x[0] + (theta[1]+theta[2]*x[0])*dt_res + vz\n",
    "    sig2_z = x[0]*(theta[3]**2)*dt_res\n",
    "    \n",
    "    mu_x = x[1] + (y_curr - x[1])/k + vx - vx_invcumsum/k\n",
    "    sig2_x = (k - 1)/k*x[0]*dt_res\n",
    "    \n",
    "    return mu_z, sig2_z, mu_x, sig2_x"
   ]
  },
  {
   "cell_type": "code",
   "execution_count": 9,
   "id": "99c37589",
   "metadata": {},
   "outputs": [],
   "source": [
    "def bridge_step(key, x_prev, y_curr, theta):\n",
    "        \n",
    "    def scan_fun(carry, t):\n",
    "        key = carry[\"key\"]\n",
    "        x = carry[\"x\"]\n",
    "        \n",
    "        n, vz, vx, vx_invcumsum = t\n",
    "        mu_z, sig2_z, mu_x, sig2_x = bridge_param(x, y_curr, theta, n, vz, vx, vx_invcumsum, dt, n_res)\n",
    "\n",
    "        mu_bridge = jnp.array([mu_z, mu_x])\n",
    "        Sigma_bridge = jnp.array([[sig2_z, 0],[0, sig2_x]])\n",
    "\n",
    "        key, subkey = random.split(key)\n",
    "\n",
    "        x_prop = jnp.where(n<n_res-1, \n",
    "                           #random.multivariate_normal(key, mean=mu_bridge, cov=Sigma_bridge),\n",
    "                           jnp.array([mu_z + jnp.sqrt(sig2_z) * random.normal(key), \n",
    "                                      mu_x + jnp.sqrt(sig2_x) * random.normal(key),\n",
    "                                      vz,\n",
    "                                      vx]),\n",
    "                           jnp.array([mu_z + jnp.sqrt(sig2_z) * random.normal(key), \n",
    "                                      y_curr,\n",
    "                                      vz,\n",
    "                                      vx])\n",
    "                           #jnp.array([mu_z + jnp.sqrt(sig2_z) * random.normal(key), y_curr])\n",
    "                          )\n",
    "        \n",
    "        lp_prop_z = jsp.stats.norm.logpdf(x=x_prop[0], loc=mu_z, scale=jnp.sqrt(sig2_z))\n",
    "        lp_prop_x = jnp.where(n<n_res-1,\n",
    "                              jsp.stats.norm.logpdf(x=x_prop[1], loc=mu_x, scale=jnp.sqrt(sig2_x)),\n",
    "                              0.0\n",
    "                             )\n",
    "        lp_prop = lp_prop_z + lp_prop_x\n",
    "        \n",
    "        res_carry = {\n",
    "            \"x\": x_prop,\n",
    "            \"key\": key,\n",
    "            \"lp\": carry[\"lp\"] + lp_prop,\n",
    "            \"lp_z\": carry[\"lp_z\"] + lp_prop_z,\n",
    "            \"lp_x\": carry[\"lp_x\"] + lp_prop_x\n",
    "        }\n",
    "\n",
    "        res_stack = {\"x\": x_prop, \"lp\":lp_prop, \"lp_z\": lp_prop_z, \"lp_x\": lp_prop_x}\n",
    "\n",
    "        return res_carry, res_stack\n",
    "    \n",
    "    scan_init = {\n",
    "        \"x\": x_prev[n_res-1],\n",
    "        \"key\": key,\n",
    "        \"lp\": jnp.array(0.),\n",
    "        \"lp_z\": jnp.array(0.),\n",
    "        \"lp_x\": jnp.array(0.)\n",
    "    }\n",
    "    \n",
    "    ns = jnp.arange(n_res)\n",
    "    jumps = jax.random.bernoulli(key, shape=(n_res,), p=theta[4]*dt/n_res)\n",
    "    vzs = jax.vmap(lambda x: jnp.where(x, theta[7]*jax.random.exponential(key), 0.0))(jumps)\n",
    "    vxs = jax.vmap(lambda x: jnp.where(x, theta[5]+theta[6]*jax.random.normal(key), 0.0))(jumps)\n",
    "    vxs_invcumsum = jax.lax.cumsum(vxs[::-1])[::-1]\n",
    "    \n",
    "    last, full = lax.scan(scan_fun, scan_init, (ns,vzs,vxs,vxs_invcumsum))\n",
    "    \n",
    "    x_prop = full[\"x\"]\n",
    "    \n",
    "    logw_trans = state_lpdf(\n",
    "        x_curr=x_prop,\n",
    "        x_prev=x_prev, \n",
    "        theta=theta\n",
    "    )\n",
    "    \n",
    "    logw = logw_trans - full[\"lp\"]\n",
    "    \n",
    "    return x_prop, logw, logw_trans, full[\"lp\"], full[\"lp_z\"], full[\"lp_x\"]"
   ]
  },
  {
   "cell_type": "code",
   "execution_count": 10,
   "id": "ec0008dc",
   "metadata": {},
   "outputs": [],
   "source": [
    "def bridge_step2(key, x_prev, y_curr, theta):\n",
    "        \n",
    "    def scan_fun(carry, t):\n",
    "        key = carry[\"key\"]\n",
    "        x = carry[\"x\"]\n",
    "        \n",
    "        n, vz, vx, vx_invcumsum = t\n",
    "        mu_z, sig2_z, mu_x, sig2_x = bridge_param(x, y_curr, theta, n, vz, vx, vx_invcumsum, dt, n_res)\n",
    "\n",
    "        key, subkey = random.split(key)\n",
    "\n",
    "        x_prop = jnp.where(n<n_res-1, \n",
    "                           #random.multivariate_normal(key, mean=mu_bridge, cov=Sigma_bridge),\n",
    "                           jnp.array([mu_z + jnp.sqrt(sig2_z) * random.normal(key), \n",
    "                                      mu_x + jnp.sqrt(sig2_x) * random.normal(key),\n",
    "                                      vz,\n",
    "                                      vx]),\n",
    "                           jnp.array([mu_z + jnp.sqrt(sig2_z) * random.normal(key), \n",
    "                                      y_curr,\n",
    "                                      vz,\n",
    "                                      vx])\n",
    "                           #jnp.array([mu_z + jnp.sqrt(sig2_z) * random.normal(key), y_curr])\n",
    "                          )\n",
    "\n",
    "        lp_prop_x = jnp.where(n<n_res-1,\n",
    "                              jsp.stats.norm.logpdf(x=x_prop[1], loc=mu_x, scale=jnp.sqrt(sig2_x)),\n",
    "                              0.0\n",
    "                             )\n",
    "        \n",
    "        res_carry = {\n",
    "            \"x\": x_prop,\n",
    "            \"key\": key,\n",
    "            \"lp_x\": carry[\"lp_x\"] + lp_prop_x\n",
    "        }\n",
    "\n",
    "        res_stack = {\"x\": x_prop, \"lp_x\":lp_prop_x}\n",
    "\n",
    "        return res_carry, res_stack\n",
    "    \n",
    "    scan_init = {\n",
    "        \"x\": x_prev[n_res-1],\n",
    "        \"key\": key,\n",
    "        \"lp_x\": jnp.array(0.)\n",
    "    }\n",
    "    \n",
    "    # key, subkeys = jax.random.split(key, num=)\n",
    "    \n",
    "    ns = jnp.arange(n_res)\n",
    "    jumps = jax.random.bernoulli(key, shape=(n_res,), p=theta[4]*dt/n_res)\n",
    "    vzs = jax.vmap(lambda x: jnp.where(x, theta[7]*jax.random.exponential(key), 0.0))(jumps)\n",
    "    vxs = jax.vmap(lambda x: jnp.where(x, theta[5]+theta[6]*jax.random.normal(key), 0.0))(jumps)\n",
    "    vxs_invcumsum = jax.lax.cumsum(vxs[::-1])[::-1]\n",
    "    \n",
    "    last, full = lax.scan(scan_fun, scan_init, (ns,vzs,vxs,vxs_invcumsum))\n",
    "    \n",
    "    x_prop = full[\"x\"]\n",
    "    \n",
    "    logw_trans = state_lpdf2(\n",
    "        x_curr=x_prop,\n",
    "        x_prev=x_prev, \n",
    "        theta=theta\n",
    "    )\n",
    "    \n",
    "    logw = logw_trans - full[\"lp_x\"]\n",
    "    \n",
    "    return x_prop, logw, logw_trans, full[\"lp_x\"]"
   ]
  },
  {
   "cell_type": "code",
   "execution_count": 61,
   "id": "b960bdbf",
   "metadata": {},
   "outputs": [],
   "source": [
    "def drift(x, x_curr, theta, dt):\n",
    "    mu = jnp.array([theta[1]+theta[2]*x[0], theta[0]]) * dt + jnp.array([x_curr[2], x_curr[3]])\n",
    "    return mu\n",
    "def diff(x, theta, dt):\n",
    "    Sigma = jnp.array([[x[0]*(theta[3]**2),0],[0,x[0]]]) * dt\n",
    "    return Sigma"
   ]
  },
  {
   "cell_type": "code",
   "execution_count": 67,
   "id": "b4eb54f9",
   "metadata": {},
   "outputs": [],
   "source": [
    "def euler_lpdf_jump(x_curr, x_prev, dt, drift, diff, theta):\n",
    "    return jsp.stats.multivariate_normal.logpdf(\n",
    "        x=x_curr[0:2],\n",
    "        mean=x_prev[0:2] + drift(x_prev, x_curr, theta, dt)[0:2],\n",
    "        cov=diff(x_prev[0:2], theta, dt)\n",
    "    ) \n",
    "\n",
    "def euler_lpdf_jump2(x_curr, x_prev, dt, drift, diff, theta):\n",
    "    return jsp.stats.norm.logpdf(\n",
    "        x=x_curr[1],\n",
    "        loc=x_prev[1] + (drift(x_prev, x_curr, theta, dt))[1],\n",
    "        scale=jnp.sqrt((diff(x_prev, theta, dt))[1,1])\n",
    "    ) "
   ]
  },
  {
   "cell_type": "code",
   "execution_count": 68,
   "id": "3938cfa5",
   "metadata": {},
   "outputs": [],
   "source": [
    "def state_lpdf(x_curr, x_prev, theta):\n",
    "    x0 = jnp.concatenate([x_prev[-1][None], x_curr[:-1]])\n",
    "    x1 = x_curr\n",
    "    lp = jax.vmap(lambda xp, xc:\n",
    "                  euler_lpdf_jump(\n",
    "                      x_curr=xc, x_prev=xp,\n",
    "                      dt=dt/n_res,\n",
    "                      drift=drift,\n",
    "                      diff=diff,\n",
    "                      theta=theta))(x0, x1)\n",
    "    return lp\n",
    "\n",
    "def state_lpdf2(x_curr, x_prev, theta):\n",
    "    x0 = jnp.concatenate([x_prev[-1][None], x_curr[:-1]])\n",
    "    x1 = x_curr\n",
    "    lp = jax.vmap(lambda xp, xc:\n",
    "                  euler_lpdf_jump2(\n",
    "                      x_curr=xc, x_prev=xp,\n",
    "                      dt=dt/n_res,\n",
    "                      drift=drift,\n",
    "                      diff=diff,\n",
    "                      theta=theta))(x0, x1)\n",
    "    return lp\n"
   ]
  },
  {
   "cell_type": "code",
   "execution_count": 69,
   "id": "5ad027c6",
   "metadata": {},
   "outputs": [],
   "source": [
    "Y = 90.5\n",
    "x_init = jnp.block([[jnp.zeros((n_res-1, 4))],\n",
    "                    [jnp.array([2.0, 100.0,0.0,0.0])]])"
   ]
  },
  {
   "cell_type": "code",
   "execution_count": 86,
   "id": "43ecf79a",
   "metadata": {},
   "outputs": [],
   "source": [
    "x_prop, logw1, logw_trans1, lp1, lp_z1, lp_x1 = bridge_step(key, x_init, Y, theta)"
   ]
  },
  {
   "cell_type": "code",
   "execution_count": 87,
   "id": "c61cb34e",
   "metadata": {},
   "outputs": [],
   "source": [
    "x_prop2, logw2, logw_trans2, lp_x2 = bridge_step2(key, x_init, Y, theta)"
   ]
  },
  {
   "cell_type": "code",
   "execution_count": 88,
   "id": "3285b447",
   "metadata": {
    "scrolled": true
   },
   "outputs": [
    {
     "data": {
      "text/plain": [
       "(DeviceArray([[ 1.9045547 , 98.70773   ,  0.        ,  0.        ],\n",
       "              [ 2.1800199 , 92.43164   ,  0.21374707, -6.2975674 ],\n",
       "              [ 2.2292078 , 92.18422   ,  0.        ,  0.        ],\n",
       "              [ 2.156301  , 90.96775   ,  0.        ,  0.        ],\n",
       "              [ 2.1452534 , 90.5       ,  0.        ,  0.        ]],            dtype=float32),\n",
       " DeviceArray([-1.5872457 ,  0.29194605, -0.01192856, -1.7357295 ,\n",
       "              -0.76973045], dtype=float32),\n",
       " DeviceArray([-1.6045456 ,  0.8117125 ,  0.76253295, -0.9276583 ,\n",
       "               0.851758  ], dtype=float32),\n",
       " DeviceArray([-0.01729989,  0.51976645,  0.7744615 ,  0.80807114,\n",
       "               1.6214885 ], dtype=float32),\n",
       " DeviceArray([0.99569654, 1.2480959 , 1.3459945 , 1.2908778 , 1.6214885 ],            dtype=float32),\n",
       " DeviceArray([-1.0129964 , -0.7283294 , -0.57153296, -0.4828067 ,\n",
       "               0.        ], dtype=float32))"
      ]
     },
     "execution_count": 88,
     "metadata": {},
     "output_type": "execute_result"
    }
   ],
   "source": [
    "bridge_step(key, x_init, Y, theta)"
   ]
  },
  {
   "cell_type": "code",
   "execution_count": 89,
   "id": "b57ee9ae",
   "metadata": {},
   "outputs": [
    {
     "data": {
      "text/plain": [
       "(DeviceArray([[ 1.9045547 , 98.70773   ,  0.        ,  0.        ],\n",
       "              [ 2.1800199 , 92.43164   ,  0.21374707, -6.2975674 ],\n",
       "              [ 2.2292078 , 92.18422   ,  0.        ,  0.        ],\n",
       "              [ 2.156301  , 90.96775   ,  0.        ,  0.        ],\n",
       "              [ 2.1452534 , 90.5       ,  0.        ,  0.        ]],            dtype=float32),\n",
       " DeviceArray([-1.5872457 ,  0.29194626, -0.01192874, -1.7357297 ,\n",
       "              -0.76973027], dtype=float32),\n",
       " DeviceArray([-2.6002421 , -0.43638316, -0.5834617 , -2.2185364 ,\n",
       "              -0.76973027], dtype=float32),\n",
       " DeviceArray([-1.0129964 , -0.7283294 , -0.57153296, -0.4828067 ,\n",
       "               0.        ], dtype=float32))"
      ]
     },
     "execution_count": 89,
     "metadata": {},
     "output_type": "execute_result"
    }
   ],
   "source": [
    "bridge_step2(key, x_init, Y, theta)"
   ]
  },
  {
   "cell_type": "code",
   "execution_count": 91,
   "id": "a3e982ff",
   "metadata": {},
   "outputs": [
    {
     "data": {
      "text/plain": [
       "DeviceArray([ 0.0000000e+00, -2.0861626e-07,  1.7881393e-07,\n",
       "              2.3841858e-07, -1.7881393e-07], dtype=float32)"
      ]
     },
     "execution_count": 91,
     "metadata": {},
     "output_type": "execute_result"
    }
   ],
   "source": [
    "logw1 - logw2"
   ]
  },
  {
   "cell_type": "code",
   "execution_count": 82,
   "id": "48736f58",
   "metadata": {},
   "outputs": [],
   "source": [
    "dt = 1\n",
    "n_res = 5\n",
    "n_obs = 100\n",
    "theta = jnp.array([0.08, 0.02, -0.03, 0.12, 1.0, -3.1, 2.7, 1.7])\n",
    "x_init = jnp.block([[jnp.zeros((n_res-1, 4))],\n",
    "                    [jnp.array([2.0, 100.0,0,0])]])\n"
   ]
  },
  {
   "cell_type": "code",
   "execution_count": null,
   "id": "532cb536",
   "metadata": {},
   "outputs": [],
   "source": []
  }
 ],
 "metadata": {
  "kernelspec": {
   "display_name": "Python 3 (ipykernel)",
   "language": "python",
   "name": "python3"
  },
  "language_info": {
   "codemirror_mode": {
    "name": "ipython",
    "version": 3
   },
   "file_extension": ".py",
   "mimetype": "text/x-python",
   "name": "python",
   "nbconvert_exporter": "python",
   "pygments_lexer": "ipython3",
   "version": "3.9.13"
  }
 },
 "nbformat": 4,
 "nbformat_minor": 5
}
