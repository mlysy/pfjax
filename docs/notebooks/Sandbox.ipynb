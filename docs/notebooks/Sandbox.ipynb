{
 "cells": [
  {
   "cell_type": "code",
   "execution_count": 1,
   "id": "fa7be1cd",
   "metadata": {},
   "outputs": [],
   "source": [
    "from jax import config\n",
    "config.update(\"jax_enable_x64\", True)"
   ]
  },
  {
   "cell_type": "code",
   "execution_count": 1,
   "id": "a5622e6e",
   "metadata": {},
   "outputs": [],
   "source": [
    "import jax\n",
    "import jax.numpy as jnp\n",
    "import jax.scipy as jsp\n",
    "import jax.random as random\n",
    "from jax import lax\n",
    "import pandas as pd\n",
    "import seaborn as sns\n",
    "import matplotlib.pyplot as plt\n",
    "\n",
    "import pfjax as pf\n",
    "from pfjax import particle_resamplers as resampler\n",
    "import pfjax.sde as sde\n",
    "import pfjax.mcmc as mcmc"
   ]
  },
  {
   "cell_type": "code",
   "execution_count": 2,
   "id": "690b46d8",
   "metadata": {},
   "outputs": [],
   "source": [
    "import jaxopt\n",
    "from jax.nn import softmax\n"
   ]
  },
  {
   "cell_type": "markdown",
   "id": "84bd6b9e",
   "metadata": {},
   "source": [
    "$$\n",
    "\\begin{aligned}\n",
    "Z_{t+\\Delta t} &= Z_t + \\kappa(\\theta - Z_t) \\Delta t + \\sigma \\sqrt{Z_t} \\Delta W_t^z + V_{t+\\Delta t}^z J_{t+\\Delta t} \\\\\n",
    "X_{t+\\Delta t} &= X_t + \\alpha \\Delta t + {\\sqrt{Z_t}} \\Delta W_t^x + V_{t+\\Delta t}^x J_{t+\\Delta t} \\\\\n",
    "\\end{aligned}\n",
    "$$\n",
    "\n",
    "where\n",
    "\n",
    "$$\n",
    "\\begin{aligned}\n",
    "\\Delta W_t^x, \\Delta W_t^z &\\sim \\textrm{iid } N(0, \\Delta t) \\\\\n",
    "V_t^z &\\sim Exp(\\mu_z) \\\\\n",
    "V_t^x &\\sim N(\\mu_x, \\sigma^2_x) \\\\\n",
    "J_{t+\\Delta t} &\\sim \\textrm{Bern}(\\lambda \\Delta t).\n",
    "\\end{aligned}\n",
    "$$"
   ]
  },
  {
   "cell_type": "markdown",
   "id": "31cd45e6",
   "metadata": {},
   "source": [
    "Thus, our parameters are $\\Theta = (\\alpha, \\theta, \\kappa, \\sigma, \\lambda,\\mu_x, \\sigma_x, \\mu_z, \\sigma_z)$, observation is $X_t$ (the logarithm of asset price), and latent state $Z_t$ (unobserved log volatility)."
   ]
  },
  {
   "cell_type": "code",
   "execution_count": 4,
   "id": "79302da7",
   "metadata": {},
   "outputs": [],
   "source": [
    "class SDEModel(object):\n",
    "    \"\"\"\n",
    "    Generic SDE model. \n",
    "    \"\"\"\n",
    "    def __init__(self, dt, n_res):\n",
    "        self._dt = dt\n",
    "        self._n_res = n_res\n",
    "        \n",
    "        def euler_sim_jump(key, x, dt, drift_diff, jump, theta):\n",
    "            \"\"\"\n",
    "            Simulate Jump-Diffusion SDE under Euler-Maruyama scheme.\n",
    "            Args:\n",
    "                key: PRNG key.\n",
    "                x: Current latent state, a vector of size `n_dims`.\n",
    "                dt: Time between observations, a scalar. \n",
    "                drift_diff: Drift and diffusion function that returns a vector of size `n_dims`.\n",
    "                jump: Jump function that returns a vector of size `n_dims`.\n",
    "                theta: Static parameters, a vector of size `n_pars`.\n",
    "            Returns:\n",
    "                Next latent state sample. A vector of size `n_dims`.\n",
    "            \"\"\"\n",
    "            _, diff_subkey, jump_subkey = random.split(key, 3)\n",
    "            diff_process = drift_diff(diff_subkey, x, theta, dt)\n",
    "            jump_process = jump(jump_subkey, x, theta, dt)\n",
    "            return jnp.append(diff_process + jump_process[0:2] * jump_process[2],\n",
    "                              jump_process)\n",
    "        \n",
    "        def euler_sim(self, key, x, dt, theta):\n",
    "            return euler_sim_jump(key, x, dt, self.drift_diff, self.jump, theta)\n",
    "        \n",
    "        setattr(self.__class__, 'euler_sim', euler_sim)\n",
    "    \n",
    "    def state_sample(self, key, x_prev, theta):\n",
    "        \"\"\"\n",
    "        Samples from `x_curr ~ p(x_curr | x_prev, theta)`.\n",
    "        Args:\n",
    "            key: PRNG key.\n",
    "            x_prev: Latent state at previous time, an array of size `n_res` by `n_dim`.\n",
    "            theta: Static parameters, a vector of size `n_pars`.\n",
    "        Returns:\n",
    "            Sample of the latent state at current time, a dictionary: \n",
    "                - \"x\": an array of size `n_res` by `n_dim`.\n",
    "                - \"key\": PRNG key.\n",
    "        \"\"\"\n",
    "        def fun(carry, t):\n",
    "            key, subkey = random.split(carry[\"key\"])\n",
    "            x = self.euler_sim(\n",
    "                key=subkey, x=carry[\"x\"],\n",
    "                dt=self._dt/self._n_res, theta=theta\n",
    "            )\n",
    "            res = {\"x\": x, \"key\": key}\n",
    "            return res, x\n",
    "        init = {\"x\": x_prev[-1], \"key\": key}\n",
    "        last, full = lax.scan(fun, init, jnp.arange(self._n_res))\n",
    "        return full\n",
    "    \n",
    "    def is_valid(self, x, theta):\n",
    "        \"\"\"\n",
    "        Validity check for parameter. These are turned off\n",
    "        \"\"\"\n",
    "        return True\n",
    "    \n",
    "    def is_valid_state(self, x, theta):\n",
    "        \"\"\"\n",
    "        Validity check for latent state.\n",
    "        \"\"\"\n",
    "        return True"
   ]
  },
  {
   "cell_type": "code",
   "execution_count": 20,
   "id": "8a80544d",
   "metadata": {},
   "outputs": [],
   "source": [
    "class HestonJump(SDEModel):\n",
    "    \"\"\"\n",
    "    Jump-Diffusion model. \n",
    "    \"\"\"\n",
    "    def __init__(self, dt, n_res, lmbda_upper, bootstrap=False):\n",
    "        # Inherits from the SDEModel\n",
    "        super().__init__(dt, n_res) \n",
    "        self._n_state = (self._n_res, 5)\n",
    "        self._lmbda_upper = lmbda_upper\n",
    "        \n",
    "    def drift(self, x, theta):\n",
    "        \"\"\"\n",
    "        Drift term.\n",
    "        Args:\n",
    "            x: Current latent state, a vector of size `n_dims`.\n",
    "            theta: Static parameters, a vector of size `n_pars`.\n",
    "        Returns:\n",
    "            A drift term, a vector of size 2.\n",
    "        \"\"\"\n",
    "        theta_use = self.get_theta(theta)\n",
    "        mu = jnp.array([theta_use[\"kappa\"]*(theta_use[\"theta\"]-x[0]), theta_use[\"alpha\"]])\n",
    "        return mu\n",
    "    \n",
    "    def diff(self, x, theta):\n",
    "        \"\"\"\n",
    "        Diffusion term.\n",
    "        Args:\n",
    "            x: Current latent state, a vector of size `n_dims`.\n",
    "            theta: Static parameters, a vector of size `n_pars`.\n",
    "        Returns:\n",
    "            A diffusion term, an array of size 2 by 2.\n",
    "        \"\"\"\n",
    "        theta_use = self.get_theta(theta)\n",
    "        Sigma = jnp.array([[(x[0]) * theta_use[\"sigma\"]**2,0.],\n",
    "                           [0., (x[0])]])\n",
    "        return Sigma\n",
    "    \n",
    "    def drift_diff(self, key, x, theta, dt):\n",
    "        \"\"\"\n",
    "        Combines the drift, diffusion and dt terms for the diffusion process.\n",
    "        Args:\n",
    "            key: PRNG key.\n",
    "            x: Current latent state, a vector of size `n_dims`.\n",
    "            theta: Static parameters, a vector of size `n_pars`.\n",
    "            dt: Time step, a scalar.\n",
    "        Returns:\n",
    "            The diffusion process, a vector of size 2.\n",
    "        \"\"\"\n",
    "        theta_use = self.get_theta(theta)\n",
    "        mu = jnp.array([theta_use[\"kappa\"]*(theta_use[\"theta\"]-x[0]), theta_use[\"alpha\"]])\n",
    "        Sigma = jnp.array([[(x[0]) * theta_use[\"sigma\"]**2,0.],\n",
    "                           [0., (x[0])]])\n",
    "        diff_process = jax.random.multivariate_normal(key, mean= x[:2] + mu*dt, cov=Sigma*dt)\n",
    "        return diff_process\n",
    "    \n",
    "    def jump(self, key, x, theta, dt):\n",
    "        \"\"\"\n",
    "        Jump process.\n",
    "        Args:\n",
    "            key: PRNG key.\n",
    "            x: Current latent state, a vector of size `n_dims`.\n",
    "            theta: Static parameters, a vector of size `n_pars`.\n",
    "            dt: Time step, a scalar.\n",
    "        Returns:\n",
    "            The jump process, a vector of size 2.\n",
    "        \"\"\"\n",
    "        theta_use = self.get_theta(theta)\n",
    "        p = theta_use[\"lambda\"]*dt\n",
    "        keys = random.split(key, 3)\n",
    "        \"\"\"\n",
    "        X = random.logistic(keys[0])\n",
    "        is_jump = softmax(jnp.array([0.,(X+jnp.log((1.-p)/p))/self._tau]))[0]\n",
    "        \"\"\"\n",
    "        is_jump = jax.random.bernoulli(keys[0], p=theta_use[\"lambda\"]*dt)\n",
    "        jump_process = jnp.array([theta_use[\"mu_z\"]*jax.random.exponential(keys[1]),\n",
    "                                  theta_use[\"mu_x\"] + theta_use[\"sigma_x\"]*jax.random.normal(keys[2]),\n",
    "                                  is_jump])\n",
    "        \n",
    "        return jump_process\n",
    "    \n",
    "    def get_theta(self, theta):\n",
    "        \"\"\"\n",
    "        Retrieves the static parameters to the regular scale.\n",
    "        Args:\n",
    "            theta: Static parameters, a vector of size `n_pars`.\n",
    "        Returns:\n",
    "            The static parameters in the regular scale.\n",
    "        \"\"\"\n",
    "        d = {\n",
    "            \"alpha\": theta[0],\n",
    "            \"theta\": theta[1],\n",
    "            \"kappa\": jnp.exp(theta[2]),\n",
    "            \"sigma\": jnp.exp(theta[3]),\n",
    "            \"lambda\": jsp.special.expit(theta[4])*self._lmbda_upper,\n",
    "            \"mu_x\": theta[5],\n",
    "            \"sigma_x\": jnp.exp(theta[6]),\n",
    "            \"mu_z\": jnp.exp(theta[7])\n",
    "        }\n",
    "        return d\n",
    "    \n",
    "    def meas_lpdf(self, y_curr, x_curr, theta):\n",
    "        \"\"\"\n",
    "        The log-density the error-free measurement model.\n",
    "        Args:\n",
    "            y_curr: Observation at current time, a scalar.\n",
    "            x_curr: Current latent state, an array of size `n_res` by `n_dim`.\n",
    "            theta: Static parameters, a vector of size `n_pars`.\n",
    "        Returns:\n",
    "            0.0, since measurement model is a delta function.\n",
    "        \"\"\"\n",
    "        return 0.0\n",
    "    \n",
    "    def meas_sample(self, key, x_curr, theta):\n",
    "        \"\"\"\n",
    "        Sample from the error-free measurement model.\n",
    "        Args:\n",
    "            key: PRNG key.\n",
    "            x_curr: Current latent state, an array of size `n_res` by `n_dim`.\n",
    "            theta: Static parameters, a vector of size `n_pars`.\n",
    "        Returns:\n",
    "            Sample of the observation at current time, a scalar.\n",
    "        \"\"\"\n",
    "        return x_curr[-1][1]\n",
    "    \n",
    "    def state_lpdf_lean(self, x_curr, x_prev, theta):\n",
    "        \"\"\"\n",
    "        The log-density of transition of the latent states.\n",
    "        Args:\n",
    "            x_curr: Current latent state, an array of size `n_res` by `n_dim`.\n",
    "            x_prev: Latent state at previous time, an array of size `n_res` by `n_dim`.\n",
    "            theta: Static parameters, a vector of size `n_pars`.\n",
    "        Returns:\n",
    "            Log-density, a scalar.\n",
    "        \"\"\"\n",
    "        x0 = jnp.concatenate([x_prev[-1][None], x_curr[:-1]])\n",
    "        x1 = x_curr\n",
    "        \n",
    "        \n",
    "        def euler_lpdf_jump(x_curr, x_prev, dt, drift, diff, theta):\n",
    "            return jsp.stats.norm.logpdf(\n",
    "                x=x_curr[1],\n",
    "                loc=x_prev[1] + drift(x_prev, theta)[1]*dt + x_curr[3]*x_curr[4],\n",
    "                scale=jnp.sqrt(diff(x_prev, theta)[1,1]*dt))\n",
    "\n",
    "        \n",
    "        lp = jax.vmap(lambda xp, xc:\n",
    "                      euler_lpdf_jump(\n",
    "                          x_curr=xc, x_prev=xp,\n",
    "                          dt=self._dt/self._n_res,\n",
    "                          drift=self.drift,\n",
    "                          diff=self.diff,\n",
    "                          theta=theta))(x0, x1)\n",
    "        return jnp.sum(lp)\n",
    "    \n",
    "    \"\"\"\n",
    "    def state_lpdf(self, x_curr, x_prev, theta):\n",
    "        \n",
    "        x0 = jnp.concatenate([x_prev[-1][None], x_curr[:-1]])\n",
    "        x1 = x_curr\n",
    "        \n",
    "        def euler_lpdf_jump(x_curr, x_prev, dt, drift, diff, theta):\n",
    "            theta_use = self.get_theta(theta)\n",
    "            \n",
    "            diff_lpdf = jsp.stats.multivariate_normal.logpdf(\n",
    "                x=x_curr[0:2],\n",
    "                mean=x_prev[0:2] + drift(x_prev, theta)*dt + jnp.array([jnp.exp(x_curr[2]), x_curr[3]]) * x_curr[4],\n",
    "                cov=diff(x_prev[0:2], theta)*dt\n",
    "            )\n",
    "            \n",
    "            is_jump_lpdf = lax.cond(x_curr[4]==1,\n",
    "                                 lambda: jnp.log(theta_use[4]*dt),\n",
    "                                 lambda: jnp.log(1-theta_use[4]*dt)) \n",
    "            \n",
    "            jump_lpdf = is_jump_lpdf \\\n",
    "                                 + self.lognorm_logpdf(x_curr[2], theta_use[\"mu_z\"], theta_use[\"sigma_z\"]) \\\n",
    "                                 + jsp.stats.norm.logpdf(x_curr[3], theta_use[\"mu_x\"], theta_use[\"sigma_x\"])\n",
    "            return diff_lpdf + jump_lpdf\n",
    "        \n",
    "        lp = jax.vmap(lambda xp, xc:\n",
    "                      euler_lpdf_jump(\n",
    "                          x_curr=xc, x_prev=xp,\n",
    "                          dt=self._dt/self._n_res,\n",
    "                          drift=self.drift,\n",
    "                          diff=self.diff,\n",
    "                          theta=theta))(x0, x1)\n",
    "        return jnp.sum(lp)\n",
    "    \"\"\"\n",
    "    \n",
    "    def _bridge_param(self, x, y_curr, theta, n, vz, vx, jvx_invcumsum, jump):\n",
    "        \"\"\"\n",
    "        Calculate the mean and variance of the bridge proposal.\n",
    "        Args:\n",
    "            x: Current latent state, a vector of size `n_dims`.\n",
    "            y_curr: Observation at current time, a scalar.\n",
    "            theta: Static parameters, a vector of size `n_pars`.\n",
    "            n: Index of the subinterval, a scalar.\n",
    "            vz: Jump size in log asset price, a scalar.\n",
    "            vx: Jump size in volatility, a scalar.\n",
    "            vx_invcumsum: n-th inverse cumulative sum of volatility jump sizes, a scalar.\n",
    "        Returns:\n",
    "            Bridge mean and variance of the bridge proposal, a tuple of scalars.\n",
    "        \"\"\"\n",
    "        k = self._n_res - n\n",
    "        dt_res = self._dt/self._n_res\n",
    "        theta_use = self.get_theta(theta)\n",
    "\n",
    "        mu_z = x[0] + theta_use[\"kappa\"]*(theta_use[\"theta\"]-x[0])*dt_res + vz*jump\n",
    "        sig2_z = jnp.maximum((theta_use[\"sigma\"]**2)*dt_res, 1e-12)\n",
    "\n",
    "        mu_x = x[1] + (y_curr - x[1])/k + vx*jump - jvx_invcumsum/k\n",
    "        sig2_x = jnp.maximum((k - 1.)/k*(x[0])*dt_res, 1e-12)\n",
    "\n",
    "        return mu_z, sig2_z, mu_x, sig2_x\n",
    "    \n",
    "    def pf_step(self, key, x_prev, y_curr, theta):\n",
    "        \"\"\"\n",
    "        Particle update for a bridge particle filter.\n",
    "        Args:\n",
    "            key: PRNG key.\n",
    "            x_prev: State variable at previous time `t-1`.\n",
    "            y_curr: Measurement variable at current time `t`.\n",
    "            theta: Parameter value.\n",
    "        Returns:\n",
    "            The result of the particle update, a tuple:\n",
    "                - x_curr: Current latent state sample, an array of size `n_res` by `n_dim`.\n",
    "                - logw: The log-weight of the particle, a scalar.\n",
    "        \"\"\"\n",
    "        key, jump_subkey, z_subkey, x_subkey = random.split(key, 4)\n",
    "        dt_res = self._dt/self._n_res\n",
    "        \n",
    "        def scan_fun(carry, t):\n",
    "            key = carry[\"key\"]\n",
    "            x = carry[\"x\"]\n",
    "\n",
    "            n, vz, vx, jvx_invcumsum, jump = t\n",
    "            mu_z, sig2_z, mu_x, sig2_x = self._bridge_param(x, y_curr, theta, n, vz, vx, jvx_invcumsum, jump)\n",
    "\n",
    "            key, z_subkey, x_subkey = random.split(key,3)\n",
    "\n",
    "            x_prop = jnp.array([(mu_z + jnp.sqrt(sig2_z) * random.normal(z_subkey)),\n",
    "                                jnp.where(n<self._n_res-1, \n",
    "                                          mu_x + jnp.sqrt(sig2_x) * random.normal(x_subkey),\n",
    "                                          y_curr),\n",
    "                                vz, vx, jump])\n",
    "            \n",
    "            lp_prop = jnp.where(n<self._n_res-1,\n",
    "                                jsp.stats.norm.logpdf(x=x_prop[1], \n",
    "                                                      loc=mu_x,\n",
    "                                                      scale=jnp.sqrt(sig2_x)),\n",
    "                                0.0)\n",
    "\n",
    "            res_carry = {\n",
    "                \"x\": x_prop,\n",
    "                \"key\": key,\n",
    "                \"lp\": carry[\"lp\"] + lp_prop\n",
    "            }\n",
    "\n",
    "            res_stack = {\"x\": x_prop, \"lp\": lp_prop}\n",
    "\n",
    "            return res_carry, res_stack\n",
    "\n",
    "        scan_init = {\n",
    "            \"x\": x_prev[-1],\n",
    "            \"key\": key,\n",
    "            \"lp\": jnp.array(0.)\n",
    "        }\n",
    "        \n",
    "        theta_use = self.get_theta(theta)\n",
    "        p = theta_use[\"lambda\"]*dt_res\n",
    "        \n",
    "        ns = jnp.arange(self._n_res)\n",
    "        #jumps = self.smooth_bern(jump_subkey, self._n_res, p)\n",
    "        jumps = jax.random.bernoulli(jump_subkey, shape=(self._n_res,), p=theta_use[\"lambda\"]*self._dt/self._n_res)\n",
    "        #vzs = jnp.exp(theta_use[\"mu_z\"]+theta_use[\"sigma_z\"]*jax.random.normal(z_subkey, shape=(self._n_res,)))\n",
    "        vzs = theta_use[\"mu_z\"]*jax.random.exponential(z_subkey, shape=(self._n_res,))\n",
    "        vxs = (theta_use[\"mu_x\"]+theta_use[\"sigma_x\"]*jax.random.normal(x_subkey, shape=(self._n_res,)))\n",
    "        jvxs = vxs * jumps\n",
    "        jvxs_invcumsums = jax.lax.cumsum(jvxs[::-1])[::-1]\n",
    "\n",
    "        last, full = lax.scan(scan_fun, scan_init, (ns,vzs,vxs,jvxs_invcumsums,jumps))\n",
    "        \n",
    "        x_prop = full[\"x\"]\n",
    "        \n",
    "        logw_trans = self.state_lpdf_lean(\n",
    "            x_curr=x_prop, \n",
    "            x_prev=x_prev, \n",
    "            theta=theta\n",
    "        )\n",
    "\n",
    "        logw = logw_trans - last[\"lp\"]\n",
    "\n",
    "        return x_prop, logw\n",
    "    \n",
    "    def pf_init(self, key, y_init, theta):\n",
    "        \"\"\"\n",
    "        Initializer for the particle filter.\n",
    "        Args:\n",
    "            key: PRNG key.\n",
    "            y_init: Initial observation, a scalar.\n",
    "            theta: Static parameters, a vector of size `n_pars`.\n",
    "        Returns:\n",
    "            The result of the particle initialization, a tuple:\n",
    "                - x_curr: Current latent state sample, an array of size `n_res` by `n_dim`.\n",
    "                - logw: The log-weight of the particle, a scalar.\n",
    "        \"\"\"\n",
    "        key, *subkeys = random.split(key,num=3)\n",
    "        x_init = y_init + 0.1*random.normal(\n",
    "            subkeys[0]\n",
    "        )\n",
    "        z_init = random.normal(\n",
    "            subkeys[1])*0.1 + 1.9\n",
    "        logw = jnp.sum(jsp.stats.norm.logcdf(y_init))\n",
    "        return \\\n",
    "            jnp.append(jnp.zeros((self._n_res-1,) + (self._n_state[1], )),\n",
    "                       jnp.expand_dims(jnp.array([z_init, x_init, 0.0, 0.0, 0.0]), axis = 0), axis=0), \\\n",
    "            logw\n"
   ]
  },
  {
   "cell_type": "code",
   "execution_count": 88,
   "id": "7aa2192c",
   "metadata": {},
   "outputs": [],
   "source": [
    "# Settings\n",
    "my_key = random.PRNGKey(123)\n",
    "my_dt = 1.\n",
    "my_n_res = 5\n",
    "my_n_obs = 252 * 8 # trading days in 5 years\n",
    "my_lmbda_upper = 0.2\n",
    "\n",
    "my_theta = jnp.array([0.04, 0.2, jnp.log(0.012), jnp.log(0.06), \n",
    "                      jnp.log(0.02), \n",
    "                      -3.1, jnp.log(0.6), \n",
    "                      jnp.log(0.83)])\n",
    "\n",
    "\"\"\"\n",
    "my_theta = jnp.array([0.08, -1.9, jnp.log(0.01), jnp.log(0.3), \n",
    "                      jnp.log(0.02), -3.1, jnp.log(0.6), jnp.log(0.3)])\n",
    "\"\"\"\n",
    "my_x_init = jnp.block([[jnp.zeros((my_n_res-1, 5))],\n",
    "                    [jnp.array([0.2, 100.0,0.0,0.0, 0.0])]])\n",
    "hestonmodel = HestonJump(my_dt, my_n_res, my_lmbda_upper)"
   ]
  },
  {
   "cell_type": "code",
   "execution_count": 89,
   "id": "a00aa643",
   "metadata": {},
   "outputs": [],
   "source": [
    "y_meas_reparam, x_state_reparam = pf.simulate(hestonmodel, my_key, my_n_obs, my_x_init, \n",
    "                                              my_theta)\n"
   ]
  },
  {
   "cell_type": "code",
   "execution_count": 90,
   "id": "64a35187",
   "metadata": {},
   "outputs": [
    {
     "data": {
      "image/png": "[encoded data removed]",
      "text/plain": [
       "<Figure size 1200x500 with 3 Axes>"
      ]
     },
     "metadata": {},
     "output_type": "display_data"
    }
   ],
   "source": [
    "tmp = pd.DataFrame(jnp.array([\n",
    "    jnp.arange(y_meas_reparam.shape[0]) * my_n_res,\n",
    "    y_meas_reparam\n",
    "]).T, columns = [\"Time\", \"Log Asset Price\"])\n",
    "\n",
    "fig, ax = plt.subplots(nrows=1, ncols=3, figsize=(12, 5), sharey = False)\n",
    "\n",
    "sns.lineplot(data= x_state_reparam[:,:,1].reshape(my_n_res*my_n_obs,1)[(my_n_res-1):].squeeze(),\n",
    "             ax = ax[0],\n",
    "             label = \"Latent\")\n",
    "sns.scatterplot(x = \"Time\", y = \"Log Asset Price\", \n",
    "                data = tmp,\n",
    "                color = \"firebrick\",\n",
    "                ax = ax[0],\n",
    "                label=\"Observed\").set(title =\"$X_t$\");\n",
    "\n",
    "sns.lineplot(data= jnp.sqrt(x_state_reparam[:,:,0].reshape(my_n_res*my_n_obs,1)[(my_n_res-1):].squeeze()),\n",
    "             ax = ax[1],\n",
    "             label = \"Latent Volatility\").set(xlabel=\"Time\",title = \"$Z_t$\", ylabel=\"Volatility\");\n",
    "\n",
    "sns.move_legend(ax[1], \"upper left\")\n",
    "\n",
    "sns.lineplot(data= x_state_reparam[:,:,-1].reshape(my_n_res*my_n_obs,1)[(my_n_res-1):].squeeze(),\n",
    "             ax = ax[2],\n",
    "             label = \"Jumps\").set(xlabel=\"Time\",title = \"$J_t$\", ylabel=\"Jumps\");\n",
    "sns.move_legend(ax[2], \"upper left\")"
   ]
  },
  {
   "cell_type": "code",
   "execution_count": 91,
   "id": "febb939e",
   "metadata": {
    "scrolled": false
   },
   "outputs": [
    {
     "data": {
      "text/plain": [
       "[<matplotlib.lines.Line2D at 0x7f8b33f5b970>]"
      ]
     },
     "execution_count": 91,
     "metadata": {},
     "output_type": "execute_result"
    },
    {
     "data": {
      "image/png": "[encoded data removed]",
      "text/plain": [
       "<Figure size 640x480 with 1 Axes>"
      ]
     },
     "metadata": {},
     "output_type": "display_data"
    }
   ],
   "source": [
    "plt.plot(jnp.diff(x_state_reparam[:,:,1].reshape(my_n_res*my_n_obs,1)[(my_n_res-1):].squeeze()))"
   ]
  },
  {
   "cell_type": "code",
   "execution_count": 237,
   "id": "dd84ef23",
   "metadata": {},
   "outputs": [],
   "source": [
    "import jax.tree_util as jtu\n",
    "import jax.flatten_util as jfu\n",
    "\n",
    "def logw_to_prob(logw):\n",
    "    r\"\"\"\n",
    "    Calculate normalized probabilities from unnormalized log weights.\n",
    "\n",
    "    Args:\n",
    "        logw: Vector of `n_particles` unnormalized log-weights.\n",
    "\n",
    "    Returns:\n",
    "        Vector of `n_particles` normalized weights that sum to 1.\n",
    "    \"\"\"\n",
    "    wgt = jnp.exp(logw - jnp.max(logw))\n",
    "    prob = wgt / jnp.sum(wgt)\n",
    "    return prob\n",
    "\n",
    "\n",
    "def tree_array2d(x, shape0=None):\n",
    "    r\"\"\"\n",
    "    Convert a PyTree into a 2D JAX array.\n",
    "\n",
    "    Starts by converting each leaf array to a 2D JAX array with same leading dimension.  Then concatenates these arrays along `axis=1`.  Assumes the leading dimension of each leaf is the same.\n",
    "\n",
    "    **Notes:**\n",
    "\n",
    "    - This function returns a tuple containing a Callable, so can't be jitted directly.  Can however be called in jitted code so long as the output is a PyTree.\n",
    "\n",
    "    Args:\n",
    "        x: A Pytree.\n",
    "        shape0: Optional value of the leading dimension.  If `None` is deduced from `x`.\n",
    "\n",
    "    Returns:\n",
    "        tuple:\n",
    "        - **array2d** - A two dimensional JAX array.\n",
    "        - **unravel_fn** - A Callable to reconstruct the original PyTree.\n",
    "    \"\"\"\n",
    "    if shape0 is None:\n",
    "        shape0 = jtu.tree_leaves(x)[0].shape[0]  # leading dimension\n",
    "    y, _unravel_fn = jfu.ravel_pytree(x)\n",
    "    y = jnp.reshape(y, (shape0, -1))\n",
    "    def unravel_fn(array2d): return _unravel_fn(jnp.ravel(array2d))\n",
    "    return y, unravel_fn\n",
    "\n",
    "\n",
    "def resample_custom(key, x_particles_prev, logw):\n",
    "    r\"\"\"\n",
    "    Particle resampler with Multivariate Normal approximation.\n",
    "\n",
    "    Args:\n",
    "        key: PRNG key.\n",
    "        x_particles_prev: An `ndarray` with leading dimension `n_particles` consisting of the particles from the previous time step.\n",
    "        logw: Vector of corresponding `n_particles` unnormalized log-weights.\n",
    "\n",
    "    Returns:\n",
    "        A dictionary with elements:\n",
    "            - `x_particles`: An `ndarray` with leading dimension `n_particles` consisting of the particles from the current time step.\n",
    "            - `mvn_mean`: Vector of length `n_state = prod(x_particles.shape[1:])` representing the mean of the MVN.\n",
    "            - `mvn_cov`: Matrix of size `n_state x n_state` representing the covariance matrix of the MVN.\n",
    "    \"\"\"\n",
    "    prob = logw_to_prob(logw)\n",
    "    \n",
    "    n_particles = logw.shape[0]\n",
    "    \n",
    "    condition = jnp.sum(prob) > 0.\n",
    "    \n",
    "    particles_tmp = x_particles_prev[:,-1,0]\n",
    "    prob_tmp = jnp.where(condition,\n",
    "                         prob,\n",
    "                         jnp.array([1./n_particles]*n_particles))\n",
    "    \n",
    "    vol_mean = jnp.average(particles_tmp, weights=prob_tmp)\n",
    "    vol_var = jnp.average((particles_tmp - vol_mean)**2, \n",
    "                          weights=prob_tmp)\n",
    "    \n",
    "    vol_std = jnp.sqrt(jnp.where(vol_var > 0., vol_var, 1e-6)) \n",
    "    vol_samples = vol_mean + vol_std * random.normal(key, shape=(n_particles,))\n",
    "    x_particles = x_particles_prev.at[:,-1,0].set(vol_samples)\n",
    "    return {\n",
    "        \"x_particles\": x_particles,\n",
    "        \"vol_mean\": vol_mean,\n",
    "        \"vol_std\": vol_std\n",
    "    }\n"
   ]
  },
  {
   "cell_type": "code",
   "execution_count": 238,
   "id": "14f87f1b",
   "metadata": {},
   "outputs": [],
   "source": [
    "pf_mvn = pf.particle_filter(\n",
    "            model=eoumodel_reparam,\n",
    "            key=random.PRNGKey(0),\n",
    "            y_meas=y_meas_reparam,\n",
    "            theta=my_theta,\n",
    "            n_particles=300,\n",
    "            resampler=resample_custom,\n",
    "            history=True\n",
    "        )"
   ]
  },
  {
   "cell_type": "code",
   "execution_count": 239,
   "id": "1fcc0613",
   "metadata": {},
   "outputs": [
    {
     "data": {
      "text/plain": [
       "DeviceArray(-1162.5671, dtype=float32)"
      ]
     },
     "execution_count": 239,
     "metadata": {},
     "output_type": "execute_result"
    }
   ],
   "source": [
    "pf_mvn['loglik']"
   ]
  },
  {
   "cell_type": "code",
   "execution_count": 763,
   "id": "50e56d6d",
   "metadata": {},
   "outputs": [],
   "source": []
  },
  {
   "cell_type": "code",
   "execution_count": 91,
   "id": "51d0f09f",
   "metadata": {},
   "outputs": [],
   "source": [
    "\n",
    "def pf_mvn_objective(params):\n",
    "    pf_mvn = pf.particle_filter(\n",
    "            model=eoumodel_reparam,\n",
    "            key=random.PRNGKey(0),\n",
    "            y_meas=y_meas_reparam,\n",
    "            theta=params,\n",
    "            n_particles=100,\n",
    "            resampler=resample_custom\n",
    "        )\n",
    "    \n",
    "    negloglik = -pf_mvn[\"loglik\"]\n",
    "    return negloglik\n"
   ]
  },
  {
   "cell_type": "code",
   "execution_count": 878,
   "id": "82ad5223",
   "metadata": {},
   "outputs": [],
   "source": [
    "alpha,theta,kappa,sigma,lmbda,mu_x,sigma_x,mu_z = my_theta\n",
    "def pf_mvn_objective_full(params):\n",
    "    alpha,theta,kappa,sigma,mu_x = params\n",
    "    my_theta = jnp.array([alpha,theta,kappa,sigma,lmbda,mu_x,sigma_x,mu_z])\n",
    "    pf_mvn = pf.particle_filter(\n",
    "            model=eoumodel_reparam,\n",
    "            key=random.PRNGKey(0),\n",
    "            y_meas=y_meas_reparam,\n",
    "            theta=my_theta,\n",
    "            n_particles=300,\n",
    "            resampler=resample_custom\n",
    "        )\n",
    "    \n",
    "    negloglik = -pf_mvn[\"loglik\"]\n",
    "    return negloglik\n"
   ]
  },
  {
   "cell_type": "code",
   "execution_count": 249,
   "id": "0575eaf9",
   "metadata": {},
   "outputs": [],
   "source": [
    "alpha,theta,kappa,sigma,lmbda,mu_x,sigma_x,mu_z = my_theta\n",
    "def pf_mvn_objective(lmbda):\n",
    "    params = jnp.array([alpha,theta,kappa,sigma,lmbda,mu_x,sigma_x,mu_z,sigma_z])\n",
    "    pf_mvn = pf.particle_filter(\n",
    "            model=eoumodel_reparam,\n",
    "            key=random.PRNGKey(0),\n",
    "            y_meas=y_meas_reparam,\n",
    "            theta=params,\n",
    "            n_particles=300,\n",
    "            resampler=resample_custom\n",
    "        )\n",
    "    \n",
    "    negloglik = -pf_mvn[\"loglik\"]\n",
    "    return negloglik\n",
    "\n"
   ]
  },
  {
   "cell_type": "code",
   "execution_count": 250,
   "id": "2e1d611e",
   "metadata": {},
   "outputs": [],
   "source": [
    "xs = jnp.linspace(lmbda - 3., lmbda + 1., num=100)"
   ]
  },
  {
   "cell_type": "code",
   "execution_count": 251,
   "id": "5c918336",
   "metadata": {},
   "outputs": [
    {
     "data": {
      "text/plain": [
       "<matplotlib.lines.Line2D at 0x7fb947ea8400>"
      ]
     },
     "execution_count": 251,
     "metadata": {},
     "output_type": "execute_result"
    },
    {
     "data": {
      "image/png": "[encoded data removed]",
      "text/plain": [
       "<Figure size 640x480 with 1 Axes>"
      ]
     },
     "metadata": {},
     "output_type": "display_data"
    }
   ],
   "source": [
    "plt.plot(xs,jax.vmap(pf_mvn_objective)(xs))\n",
    "plt.axvline(x=lmbda)"
   ]
  },
  {
   "cell_type": "code",
   "execution_count": 858,
   "id": "823462f7",
   "metadata": {},
   "outputs": [],
   "source": [
    "solver = jaxopt.GradientDescent(fun=pf_mvn_objective)\n",
    "res = solver.run(jnp.array([alpha,theta,kappa,sigma]))"
   ]
  },
  {
   "cell_type": "code",
   "execution_count": 859,
   "id": "f030bd9c",
   "metadata": {},
   "outputs": [
    {
     "data": {
      "text/plain": [
       "OptStep(params=DeviceArray([ 0.08680936, -1.5807046 , -3.0295212 , -1.1367768 ], dtype=float32), state=ProxGradState(iter_num=DeviceArray(500, dtype=int32, weak_type=True), stepsize=DeviceArray(0.00024414, dtype=float32, weak_type=True), error=DeviceArray(0.11121385, dtype=float32), aux=None, velocity=DeviceArray([ 0.08679288, -1.580781  , -3.0292218 , -1.1366563 ], dtype=float32), t=DeviceArray(252.37917, dtype=float32, weak_type=True)))"
      ]
     },
     "execution_count": 859,
     "metadata": {},
     "output_type": "execute_result"
    }
   ],
   "source": [
    "res"
   ]
  },
  {
   "cell_type": "code",
   "execution_count": 855,
   "id": "5bd94909",
   "metadata": {},
   "outputs": [],
   "source": [
    "solver = jaxopt.GradientDescent(fun=pf_mvn_objective)\n",
    "res = solver.run(alpha)"
   ]
  },
  {
   "cell_type": "code",
   "execution_count": 856,
   "id": "dca8697b",
   "metadata": {},
   "outputs": [
    {
     "data": {
      "text/plain": [
       "OptStep(params=DeviceArray(-1.4385874, dtype=float32), state=ProxGradState(iter_num=DeviceArray(5, dtype=int32, weak_type=True), stepsize=DeviceArray(0.5, dtype=float32, weak_type=True), error=DeviceArray(5.722046e-05, dtype=float32), aux=None, velocity=DeviceArray(-1.4389218, dtype=float32), t=DeviceArray(3.8326013, dtype=float32, weak_type=True)))"
      ]
     },
     "execution_count": 856,
     "metadata": {},
     "output_type": "execute_result"
    }
   ],
   "source": [
    "res"
   ]
  },
  {
   "cell_type": "code",
   "execution_count": null,
   "id": "8209ba0f",
   "metadata": {},
   "outputs": [],
   "source": [
    "solver = jaxopt.GradientDescent(fun=pf_mvn_objective_full)\n",
    "res_full = solver.run(jnp.array([alpha,theta,kappa,sigma,mu_x]))"
   ]
  },
  {
   "cell_type": "code",
   "execution_count": 865,
   "id": "60b62554",
   "metadata": {},
   "outputs": [
    {
     "data": {
      "text/plain": [
       "OptStep(params=DeviceArray([ 5.1481472e+01, -5.0498605e-02,  1.9226394e+00,\n",
       "             -7.1136975e+00,  2.0098900e+01, -1.2039459e+00,\n",
       "              6.8473411e-01], dtype=float32), state=ProxGradState(iter_num=DeviceArray(1, dtype=int32, weak_type=True), stepsize=DeviceArray(2., dtype=float32, weak_type=True), error=DeviceArray(nan, dtype=float32), aux=None, velocity=DeviceArray([ 5.1481472e+01, -5.0498605e-02,  1.9226394e+00,\n",
       "             -7.1136975e+00,  2.0098900e+01, -1.2039459e+00,\n",
       "              6.8473411e-01], dtype=float32), t=DeviceArray(1.618034, dtype=float32, weak_type=True)))"
      ]
     },
     "execution_count": 865,
     "metadata": {},
     "output_type": "execute_result"
    }
   ],
   "source": [
    "res_full"
   ]
  },
  {
   "cell_type": "code",
   "execution_count": 860,
   "id": "70378033",
   "metadata": {
    "scrolled": true
   },
   "outputs": [
    {
     "data": {
      "text/plain": [
       "DeviceArray([ 0.08     , -1.9      , -3.912023 , -1.2039728, -3.912023 ,\n",
       "             -3.1      , -0.5108256, -1.7      , -3.912023 ],            dtype=float32)"
      ]
     },
     "execution_count": 860,
     "metadata": {},
     "output_type": "execute_result"
    }
   ],
   "source": [
    "my_theta"
   ]
  },
  {
   "cell_type": "code",
   "execution_count": 20,
   "id": "d1635390",
   "metadata": {},
   "outputs": [],
   "source": [
    "from jaxopt import ScipyBoundedMinimize\n",
    "\n",
    "lbfgsb = ScipyBoundedMinimize(fun=pf_mvn_objective)\n",
    "lower_bounds = alpha-jnp.ones_like(alpha)\n",
    "upper_bounds = alpha+jnp.ones_like(alpha)\n",
    "bounds = (lower_bounds, upper_bounds)\n",
    "lbfgsb_sol = lbfgsb.run(alpha, bounds=bounds)\n"
   ]
  },
  {
   "cell_type": "code",
   "execution_count": 454,
   "id": "d12e0308",
   "metadata": {
    "scrolled": true
   },
   "outputs": [
    {
     "data": {
      "text/plain": [
       "DeviceArray(13.692081, dtype=float32)"
      ]
     },
     "execution_count": 454,
     "metadata": {},
     "output_type": "execute_result"
    }
   ],
   "source": [
    "pf_mvn_objective(alpha,theta,kappa,sigma,lmbda,mu_x,sigma_x,mu_z)"
   ]
  },
  {
   "cell_type": "code",
   "execution_count": 338,
   "id": "bfac4db5",
   "metadata": {
    "scrolled": true
   },
   "outputs": [
    {
     "data": {
      "text/plain": [
       "DeviceArray(123.54288, dtype=float32)"
      ]
     },
     "execution_count": 338,
     "metadata": {},
     "output_type": "execute_result"
    }
   ],
   "source": [
    "pf_mvn_objective(my_theta+.01*jnp.ones_like(my_theta))"
   ]
  },
  {
   "cell_type": "code",
   "execution_count": 273,
   "id": "d3763894",
   "metadata": {},
   "outputs": [
    {
     "data": {
      "text/plain": [
       "DeviceArray(True, dtype=bool)"
      ]
     },
     "execution_count": 273,
     "metadata": {},
     "output_type": "execute_result"
    }
   ],
   "source": [
    "jnp.isnan(test)"
   ]
  },
  {
   "cell_type": "code",
   "execution_count": 204,
   "id": "beba4c4e",
   "metadata": {},
   "outputs": [
    {
     "data": {
      "text/plain": [
       "{'alpha': DeviceArray(2.08, dtype=float32),\n",
       " 'theta': DeviceArray(1.5, dtype=float32),\n",
       " 'kappa': DeviceArray(2.1, dtype=float32),\n",
       " 'sigma_z': DeviceArray(0.8127962, dtype=float32),\n",
       " 'lambda': DeviceArray(0.22167167, dtype=float32),\n",
       " 'mu_x': DeviceArray(-1.0999999, dtype=float32),\n",
       " 'sigma_x': DeviceArray(4.4334335, dtype=float32),\n",
       " 'mu_z': DeviceArray(5.9112444, dtype=float32)}"
      ]
     },
     "execution_count": 204,
     "metadata": {},
     "output_type": "execute_result"
    }
   ],
   "source": [
    "eoumodel_reparam.get_theta(my_theta+2*jnp.ones_like(my_theta))"
   ]
  },
  {
   "cell_type": "code",
   "execution_count": 280,
   "id": "1a4ded19",
   "metadata": {},
   "outputs": [],
   "source": [
    "maxiter = 2\n",
    "solver = jaxopt.BFGS(fun=pf_mvn_objective, maxiter=maxiter)\n",
    "res = solver.run(my_theta, key=my_key)\n"
   ]
  },
  {
   "cell_type": "code",
   "execution_count": 76,
   "id": "73d8921a",
   "metadata": {},
   "outputs": [],
   "source": [
    "point_plot = pd.DataFrame(jnp.array([\n",
    "    jnp.arange(y_meas_reparam.shape[0]) * my_n_res,\n",
    "    y_meas_reparam\n",
    "]).T, columns = [\"Time\", \"Log Asset Price\"])\n",
    "\n",
    "\n",
    "def plot_particles (x_state, y_meas, vol_particles, price_particles, title=\"\"):\n",
    "    fig, ax = plt.subplots(nrows=2, ncols=1, figsize=(7, 5), sharex = True)\n",
    "    fig.suptitle(title)\n",
    "\n",
    "    sns.lineplot(data= x_state[..., 1].reshape(my_n_res*my_n_obs, 1)[(my_n_res-1):].squeeze(),\n",
    "                 ax = ax[0],\n",
    "                 label = \"Latent\")\n",
    "    \n",
    "    sns.lineplot(data= x_state[..., 0].reshape(my_n_res*my_n_obs,1)[(my_n_res-1):].squeeze(),\n",
    "                 ax = ax[1],\n",
    "                 label = \"Latent Volatility\").set(xlabel=\"Time\",title = \"$Z_t$\", ylabel=\"Volatility\");\n",
    "    \n",
    "    \n",
    "    for t in range(my_n_obs-1):\n",
    "        for s in range(my_n_res):\n",
    "            my_x = (t*my_n_res) + s\n",
    "            sns.lineplot(x = my_x, \n",
    "                            y=price_particles[t, :, s], \n",
    "                            #s = 2, \n",
    "                            alpha = 0.3,\n",
    "                            color = \"green\", ax = ax[0]);\n",
    "            sns.lineplot(x = my_x, \n",
    "                            y=vol_particles[t, :, s], \n",
    "                            #s = 2, \n",
    "                            alpha = 0.3,\n",
    "                            color = \"green\", ax = ax[1]);\n",
    "            \n",
    "    sns.scatterplot(x = \"Time\", y = \"Log Asset Price\", \n",
    "                    data = point_plot,\n",
    "                    color = \"firebrick\",\n",
    "                    ax = ax[0],\n",
    "                    label=\"Observed\").set(xlabel=\"Time\",title =\"$X_t$\");\n"
   ]
  },
  {
   "cell_type": "code",
   "execution_count": 77,
   "id": "6dd04da9",
   "metadata": {},
   "outputs": [
    {
     "ename": "NameError",
     "evalue": "name 'pf_mvn' is not defined",
     "output_type": "error",
     "traceback": [
      "\u001b[0;31m---------------------------------------------------------------------------\u001b[0m",
      "\u001b[0;31mNameError\u001b[0m                                 Traceback (most recent call last)",
      "Input \u001b[0;32mIn [77]\u001b[0m, in \u001b[0;36m<cell line: 1>\u001b[0;34m()\u001b[0m\n\u001b[1;32m      1\u001b[0m plot_particles(x_state_reparam, y_meas_reparam, \n\u001b[0;32m----> 2\u001b[0m                vol_particles\u001b[38;5;241m=\u001b[39m\u001b[43mpf_mvn\u001b[49m[\u001b[38;5;124m\"\u001b[39m\u001b[38;5;124mx_particles\u001b[39m\u001b[38;5;124m\"\u001b[39m][\u001b[38;5;241m1\u001b[39m:, :, :, \u001b[38;5;241m0\u001b[39m], \n\u001b[1;32m      3\u001b[0m                price_particles\u001b[38;5;241m=\u001b[39mpf_mvn[\u001b[38;5;124m\"\u001b[39m\u001b[38;5;124mx_particles\u001b[39m\u001b[38;5;124m\"\u001b[39m][\u001b[38;5;241m1\u001b[39m:, :, :, \u001b[38;5;241m1\u001b[39m],\n\u001b[1;32m      4\u001b[0m                title \u001b[38;5;241m=\u001b[39m \u001b[38;5;124m\"\u001b[39m\u001b[38;5;124mMVN Resampling\u001b[39m\u001b[38;5;124m\"\u001b[39m)\n",
      "\u001b[0;31mNameError\u001b[0m: name 'pf_mvn' is not defined"
     ]
    }
   ],
   "source": [
    "plot_particles(x_state_reparam, y_meas_reparam, \n",
    "               vol_particles=pf_mvn[\"x_particles\"][1:, :, :, 0], \n",
    "               price_particles=pf_mvn[\"x_particles\"][1:, :, :, 1],\n",
    "               title = \"MVN Resampling\")"
   ]
  },
  {
   "cell_type": "code",
   "execution_count": 404,
   "id": "c402db3a",
   "metadata": {},
   "outputs": [
    {
     "data": {
      "image/png": "[encoded data removed]",
      "text/plain": [
       "<Figure size 600x600 with 1 Axes>"
      ]
     },
     "metadata": {},
     "output_type": "display_data"
    }
   ],
   "source": [
    "from pfjax.models import BMModel\n",
    "# initial key for random numbers\n",
    "key = random.PRNGKey(0)\n",
    "\n",
    "# parameter values\n",
    "mu, sigma, tau = 1., .5, .8\n",
    "theta_true = jnp.array([mu, jnp.log(sigma), jnp.log(tau)])\n",
    "\n",
    "# data specification\n",
    "dt = .2\n",
    "n_obs = 100\n",
    "x_init = jnp.array([0.])\n",
    "\n",
    "# simulate data\n",
    "bm_model = BMModel(\n",
    "    dt=dt, \n",
    "    unconstrained_theta=True # puts theta on the unconstrained scale\n",
    ") \n",
    "key, subkey = random.split(key)\n",
    "y_meas, x_state = pf.simulate(\n",
    "    model=bm_model,\n",
    "    key=subkey,\n",
    "    n_obs=n_obs,\n",
    "    x_init=x_init,\n",
    "    theta=theta_true\n",
    ")\n",
    "\n",
    "# plot data\n",
    "plot_df = (pd.DataFrame({\"time\": jnp.arange(n_obs) * dt,\n",
    "                         \"state\": jnp.squeeze(x_state),\n",
    "                         \"meas\": jnp.squeeze(y_meas)}))\n",
    "\n",
    "g = sns.FacetGrid(plot_df, height = 6)\n",
    "g = g.map(plt.scatter, \"time\", \"meas\", color=\"grey\")\n",
    "plt.plot(plot_df['time'], plot_df['state'], color='black')\n",
    "plt.legend(labels=[\"Measurement\",\"State\"])\n",
    "plt.xlabel(\"Time\")\n",
    "plt.ylabel(\"Value\")\n",
    "plt.show()"
   ]
  },
  {
   "cell_type": "code",
   "execution_count": 405,
   "id": "3e7290e8",
   "metadata": {},
   "outputs": [],
   "source": [
    "from pfjax.particle_resamplers import resample_mvn"
   ]
  },
  {
   "cell_type": "code",
   "execution_count": 406,
   "id": "e027c45c",
   "metadata": {},
   "outputs": [],
   "source": [
    "bm_out = pf.particle_filter(\n",
    "            model=bm_model,\n",
    "            key=random.PRNGKey(123),\n",
    "            y_meas=y_meas,\n",
    "            theta=theta_true,\n",
    "            n_particles=100,\n",
    "            resampler=resample_mvn,\n",
    "            history=True\n",
    "        )\n"
   ]
  },
  {
   "cell_type": "code",
   "execution_count": 410,
   "id": "a41976af",
   "metadata": {},
   "outputs": [
    {
     "data": {
      "text/plain": [
       "DeviceArray(141.43091, dtype=float32)"
      ]
     },
     "execution_count": 410,
     "metadata": {},
     "output_type": "execute_result"
    }
   ],
   "source": [
    "pf_mvn_objective(theta_true)"
   ]
  },
  {
   "cell_type": "code",
   "execution_count": 408,
   "id": "6375c1a2",
   "metadata": {},
   "outputs": [],
   "source": [
    "def pf_mvn_objective(params):\n",
    "    bm_out = pf.particle_filter(\n",
    "            model=bm_model,\n",
    "            key=random.PRNGKey(123),\n",
    "            y_meas=y_meas,\n",
    "            theta=params,\n",
    "            n_particles=100,\n",
    "            resampler=resample_mvn\n",
    "        )\n",
    "    negloglik = -bm_out[\"loglik\"]\n",
    "    return negloglik"
   ]
  },
  {
   "cell_type": "code",
   "execution_count": 411,
   "id": "467d6b57",
   "metadata": {},
   "outputs": [],
   "source": [
    "pf_mvn_grad = jax.grad(pf_mvn_objective)"
   ]
  },
  {
   "cell_type": "code",
   "execution_count": 434,
   "id": "036b582f",
   "metadata": {},
   "outputs": [],
   "source": [
    "solver = jaxopt.GradientDescent(fun=pf_mvn_objective, tol=1e-6)\n",
    "res = solver.run(theta_true*1.1)"
   ]
  },
  {
   "cell_type": "code",
   "execution_count": 433,
   "id": "609bd77b",
   "metadata": {},
   "outputs": [
    {
     "data": {
      "text/plain": [
       "OptStep(params=DeviceArray([ 0.9399212 , -0.4955424 , -0.18451013], dtype=float32), state=ProxGradState(iter_num=DeviceArray(500, dtype=int32, weak_type=True), stepsize=DeviceArray(0.00390625, dtype=float32, weak_type=True), error=DeviceArray(0.01299369, dtype=float32), aux=None, velocity=DeviceArray([ 0.9399225 , -0.4955473 , -0.18457045], dtype=float32), t=DeviceArray(252.37917, dtype=float32, weak_type=True)))"
      ]
     },
     "execution_count": 433,
     "metadata": {},
     "output_type": "execute_result"
    }
   ],
   "source": [
    "res"
   ]
  },
  {
   "cell_type": "code",
   "execution_count": 440,
   "id": "c283827c",
   "metadata": {},
   "outputs": [
    {
     "data": {
      "text/plain": [
       "DeviceArray(0.8314431, dtype=float32)"
      ]
     },
     "execution_count": 440,
     "metadata": {},
     "output_type": "execute_result"
    }
   ],
   "source": [
    "jnp.exp(res.params[2])"
   ]
  },
  {
   "cell_type": "code",
   "execution_count": 438,
   "id": "050a559d",
   "metadata": {},
   "outputs": [
    {
     "data": {
      "text/plain": [
       "DeviceArray([-4.8398972e-05, -2.7790666e-06,  5.6773424e-05], dtype=float32)"
      ]
     },
     "execution_count": 438,
     "metadata": {},
     "output_type": "execute_result"
    }
   ],
   "source": [
    "pf_mvn_grad(res.params)"
   ]
  },
  {
   "cell_type": "code",
   "execution_count": 436,
   "id": "ebcc3e50",
   "metadata": {},
   "outputs": [
    {
     "data": {
      "text/plain": [
       "DeviceArray(138.82132, dtype=float32)"
      ]
     },
     "execution_count": 436,
     "metadata": {},
     "output_type": "execute_result"
    }
   ],
   "source": [
    "pf_mvn_objective(jnp.array([ 0.9399212 , -0.4955424 , -0.18451013]))"
   ]
  },
  {
   "cell_type": "code",
   "execution_count": 422,
   "id": "29b1038e",
   "metadata": {},
   "outputs": [
    {
     "data": {
      "text/plain": [
       "DeviceArray(139.6283, dtype=float32)"
      ]
     },
     "execution_count": 422,
     "metadata": {},
     "output_type": "execute_result"
    }
   ],
   "source": [
    "pf_mvn_objective(theta_true)"
   ]
  },
  {
   "cell_type": "code",
   "execution_count": 441,
   "id": "283f6339",
   "metadata": {},
   "outputs": [
    {
     "data": {
      "text/plain": [
       "DeviceArray([ 1.        , -0.6931472 , -0.22314353], dtype=float32)"
      ]
     },
     "execution_count": 441,
     "metadata": {},
     "output_type": "execute_result"
    }
   ],
   "source": [
    "theta_true"
   ]
  },
  {
   "cell_type": "code",
   "execution_count": null,
   "id": "125c797d",
   "metadata": {},
   "outputs": [],
   "source": []
  },
  {
   "cell_type": "code",
   "execution_count": 431,
   "id": "365d106e",
   "metadata": {},
   "outputs": [
    {
     "data": {
      "text/plain": [
       "DeviceArray([ 0.9       , -0.62383246, -0.20082918], dtype=float32)"
      ]
     },
     "execution_count": 431,
     "metadata": {},
     "output_type": "execute_result"
    }
   ],
   "source": [
    "theta_true*0.9"
   ]
  },
  {
   "cell_type": "code",
   "execution_count": 435,
   "id": "42e67e33",
   "metadata": {},
   "outputs": [
    {
     "data": {
      "text/plain": [
       "OptStep(params=DeviceArray([ 0.93992513, -0.49554735, -0.18459243], dtype=float32), state=ProxGradState(iter_num=DeviceArray(500, dtype=int32, weak_type=True), stepsize=DeviceArray(0.015625, dtype=float32, weak_type=True), error=DeviceArray(8.2252154e-05, dtype=float32), aux=None, velocity=DeviceArray([ 0.93992543, -0.4955473 , -0.1845942 ], dtype=float32), t=DeviceArray(252.37917, dtype=float32, weak_type=True)))"
      ]
     },
     "execution_count": 435,
     "metadata": {},
     "output_type": "execute_result"
    }
   ],
   "source": [
    "res"
   ]
  },
  {
   "cell_type": "code",
   "execution_count": 4,
   "id": "78d78496",
   "metadata": {},
   "outputs": [],
   "source": [
    "def g(x):\n",
    "    return x\n",
    "    \n",
    "def dg(x):\n",
    "    return jax.grad(g)(x)\n",
    "    \n"
   ]
  },
  {
   "cell_type": "code",
   "execution_count": 5,
   "id": "14025056",
   "metadata": {},
   "outputs": [],
   "source": [
    "xs = jnp.linspace(0.,1)"
   ]
  },
  {
   "cell_type": "code",
   "execution_count": 6,
   "id": "fe1d998b",
   "metadata": {},
   "outputs": [
    {
     "data": {
      "text/plain": [
       "DeviceArray(1., dtype=float64, weak_type=True)"
      ]
     },
     "execution_count": 6,
     "metadata": {},
     "output_type": "execute_result"
    }
   ],
   "source": [
    "dg(1.**2)"
   ]
  },
  {
   "cell_type": "code",
   "execution_count": 245,
   "id": "0674e631",
   "metadata": {},
   "outputs": [
    {
     "data": {
      "text/plain": [
       "DeviceArray([0., 1., 1., 1., 1., 1., 1., 1., 1., 1., 1., 1., 1., 1., 1.,\n",
       "             1., 1., 1., 1., 1., 1., 1., 1., 1., 1., 1., 1., 1., 1., 1.,\n",
       "             1., 1., 1., 1., 1., 1., 1., 1., 1., 1., 1., 1., 1., 1., 1.,\n",
       "             1., 1., 1., 1., 1.], dtype=float32)"
      ]
     },
     "execution_count": 245,
     "metadata": {},
     "output_type": "execute_result"
    }
   ],
   "source": [
    "jax.vmap(dg)(xs)"
   ]
  },
  {
   "cell_type": "code",
   "execution_count": null,
   "id": "16ecf2a5",
   "metadata": {},
   "outputs": [],
   "source": []
  }
 ],
 "metadata": {
  "kernelspec": {
   "display_name": "Python 3 (ipykernel)",
   "language": "python",
   "name": "python3"
  },
  "language_info": {
   "codemirror_mode": {
    "name": "ipython",
    "version": 3
   },
   "file_extension": ".py",
   "mimetype": "text/x-python",
   "name": "python",
   "nbconvert_exporter": "python",
   "pygments_lexer": "ipython3",
   "version": "3.9.13"
  }
 },
 "nbformat": 4,
 "nbformat_minor": 5
}
