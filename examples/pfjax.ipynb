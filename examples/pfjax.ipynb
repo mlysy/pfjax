{
 "cells": [
  {
   "cell_type": "markdown",
   "source": [
    "# PFJAX: Particle Filtering with JAX\n",
    "\n",
    "**Martin Lysy, University of Waterloo**\n",
    "\n",
    "**November 11, 2021**\n",
    "\n",
    "## Summary\n",
    "\n",
    "The goal is to provide a fast implementation of a particle filter to estimate the marginal likelihood of a state-space model,\n",
    "$$\n",
    "\\begin{aligned}\n",
    "\\mathcal{L}(\\tth) & = p(\\yy_{0:T} \\mid \\tth) \\\\\n",
    "& = \\int \\prod_{t=0}^T p(\\yy_t \\mid \\xx_t, \\tth) \\times \\prod_{t=1}^T p(\\xx_t \\mid \\xx_{t-1}, \\tth) \\times p(\\xx_0 \\mid \\tth)\\, d \\xx_{0:T},   \n",
    "\\end{aligned}\n",
    "$$\n",
    "along with its gradient, $\\nabla \\mathcal{L}(\\tth) = \\frac{\\partial}{\\partial \\tth} \\mathcal{L}(\\tth)$.  The [**JAX**](https://github.com/google/jax) library is used to efficiently compose jit and autodiff operations  in order to achieve this.\n",
    "\n",
    "## API\n",
    "\n",
    "For given $\\tth$, the particle filter begins by running an importance sampler for $p(x_0 \\mid y_0, \\tth)$.  In order to do this, the user supplies a sampling proposal distribution,\n",
    "\n",
    "$$\n",
    "\\xx_0 \\sim q(\\xx_0 \\mid \\yy_0, \\tth),\n",
    "$$\n",
    "\n",
    "along with a function to calculate the importance log weights,\n",
    "\n",
    "$$\n",
    "w(\\xx_0 \\mid \\yy_0, \\tth) = \\log p(\\yy_0 \\mid \\xx_0, \\tth) + \\log p(\\xx_0 \\mid \\tth) - \\log q(\\xx_0 \\mid \\yy_0, \\tth).\n",
    "$$\n",
    "\n",
    "Since sampling from $q(\\xx_0 \\mid \\yy_0, \\tth)$ and computing $w(\\xx_0 \\mid \\yy_0, \\tth)$ involve many shared calculations, **pfjax** requires both to be performed in a single function:\n",
    "\n",
    "```python\n",
    "def pf_init(y_init, theta, key):\n",
    "    # calculate x_init and logw\n",
    "    return (x_init, logw)\n",
    "```\n",
    "\n",
    "Now suppose we have run the particle filter until step $t-1$.  In other words, the input is a weighted set of particles $((\\xx_{t-1}^{(1)}, w_{t-1}^{(1)}), \\ldots, (\\xx_{t-1}^{(B)}, w_{t-1}^{(B)}))$ representing the distribution $p(\\xx_{t-1} \\mid \\yy_{0:t-1}, \\tth)$.  In order to get to a weighted set of particles representing $p(\\xx_t \\mid \\yy_t, \\tth)$, the user suppliles a sampling proposal distribution\n",
    "\n",
    "$$\n",
    "\\xx_t \\sim q(\\xx_t \\mid \\xx_{t-1}, \\yy_t, \\tth)\n",
    "$$\n",
    "\n",
    "and a log-weight function\n",
    "\n",
    "$$\n",
    "w(\\xx_t \\mid \\xx_{t-1}, \\yy_t, \\tth) = \\log p(\\yy_t \\mid \\xx_{t-1}, \\tth) + \\log p(\\xx_t \\mid \\xx_{t-1}, \\tth) - \\log q(\\xx_t \\mid \\xx_{t-1}, \\yy_t, \\tth).\n",
    "$$\n",
    "\n",
    "Again, these are supplied as a single function:\n",
    "\n",
    "```python\n",
    "def pf_step(x_prev, y_curr, theta, key):\n",
    "    # claculate x_curr and logw\n",
    "    return (x_curr, logw)\n",
    "```\n",
    "\n",
    "## Notation\n",
    "\n",
    "### Functions\n",
    "\n",
    "- `state_lpdf(x_curr, x_last, theta)`: Log-density of $p(\\xx_t | \\xx_{t-1}, \\tth)$.\n",
    "- `state_sample(x_last, theta)`: Sample from $p(\\xx_t | \\xx_{t-1}, \\tth)$.\n",
    "- `meas_lpdf(y_curr, x_curr, theta)`: Log-density of $p(\\yy_t | \\xx_t, \\tth)$.\n",
    "- `meas_sample(x_curr, theta)`: Sample from $p(\\yy_t | \\xx_t, \\tth)$.\n",
    "\n",
    "### Dimensions\n",
    "\n",
    "- `n_obs`: Number of time points.\n",
    "- `n_particle`: Number of particles.\n",
    "- `n_state`: Tuple of state dimensions.\n",
<<<<<<< HEAD:examples/pfjax.ipynb
    "- `n_meas`: Tuple of measured dimensions."
   ]
=======
    "- `n_meas`: Tuple of measured dimensions.\n",
    "\n",
    "## TODO\n",
    "\n",
    "- [x] Test against true BM likelihood.\n",
    "\n",
    "    Seem to get reasonable projection plots and a reasonable stochastic optimization.\n",
    "\n",
    "- [x] Data should be $y_{0:T}$ instead of $y_{1:T}$.  This has been changed in some of the documentation but not all of it...\n",
    "\n",
    "- [x] Add arbitrary prior specification $p(x_0 \\mid \\theta)$.  Should also be able to specify $x_0$ directly to calculate the marginal likelihood $\\mathcal{L}(x_0, \\theta) = p(y_{0:T} \\mid x_0, \\theta)$.\n",
    "\n",
    "- [ ] Example where `n_state` and `n_meas` are not scalar.  This can be SDE with `n_res > 1`.\n",
    "\n",
    "    **Update:** Implemented but not tested...\n",
    "\n",
    "- [x] Interface for supplying new models to generic PF code.  Currently we have the following:\n",
    "\n",
    "    ```python\n",
    "    import pfjax as pf # generic code\n",
    "    from my_model import MyModel # user-defined model\n",
    "\n",
    "    # pf estimate of marginal loglikelihood\n",
    "    def marginal_loglik(model, y_meas, theta, n_particles, key):\n",
    "        out = pf.particle_filter(model, y_meas, theta, n_particles, key)\n",
    "        return pf.particle_loglik(out[\"logw_particles\"])\n",
    "    \n",
    "    # construct model object\n",
    "    model = MyModel(dt=dt) # set dt as a data member\n",
    "    marginal_loglik(model, y_meas, theta, n_particles, key)\n",
    "    \n",
    "    # jit + grad version\n",
    "    marginal_loglik_jgrad = jax.jit(jax.grad(marginal_loglik, argnums=2), static_argnums=(0, 3))\n",
    "    marginal_loglik_jgrad(model, y_meas, theta, n_particles, key)\n",
    "    ```\n",
    "    \n",
    "    **WARNING:** The following code does not behave as \"expected\":\n",
    "    \n",
    "    ```python\n",
    "    model.dt = 2 * dt # update value of dt\n",
    "    marginal_loglik_jgrad(model, y_meas, theta, n_particles, key) # WARNING: uses the original dt...\n",
    "    ```\n",
    "    \n",
    "    In other words, JAX does not recompile `marginal_loglik_jgrad()` with the updated value of `model`, even though we've flagged it with `static_argnums`.\n",
    "    \n",
    "- [ ] Add arbitrary proposal distribution $q(x_t \\mid x_{t-1}, \\theta)$.  This should perhaps be done using:\n",
    "\n",
    "    ```python\n",
    "    step_sample(x_prev, t, theta)\n",
    "    step_logw(x_curr, x_prev, t, theta)\n",
    "    ```\n",
    "    \n",
    "    instead of e.g., `state_prop_lpdf()`, `state_targ_lpdf()` and `meas_lpdf()` which gets assembled internally for the user.  This is what was done in [**SMCTC**](https://warwick.ac.uk/fac/sci/statistics/staff/academic-research/johansen/smctc/).  But what are the right args to these functions?  Sort of depends if they know about the \"global\" `y_meas`.  I think the right compromise is:\n",
    "    \n",
    "    ```python\n",
    "    step_sample(x_prev, y_curr, t, theta)\n",
    "    step_logw(x_curr, x_prev, y_curr, t, theta)\n",
    "    ```\n",
    "    \n",
    "    In other words, can use `y_curr` for an optimal filter, can support non-homogeneous state-space models via `t`, and anything more complicated will require globals.\n",
    "    \n",
    "- [x] Add proper unit tests.  But of what?  Seems like JAX and NumPy are so similar that checking code from one against the other will hardly be that helpful...\n",
    "\n",
    "    So, decided to test for-loop vs `vmap`/`xmap`/`lax.scan` etc always using JAX.  Reasoning is that without these constructs, JAX is identical to NumPy except PRNGs.\n",
    "    \n",
    "    Also testing OOP vs globals interface and jit + grad.\n",
    "\n",
    "- [ ] Add CPU parallelism support.\n",
    "\n",
    "    **Update:** Have started on an `xmap` implementation for this.  Trick will be to divide the `n_particles` axis into a 2D axis, in which the first is between (CPU) devices and the second is within each device."
   ],
   "metadata": {}
>>>>>>> updating lotvol model + pushing unstaged commits:pfjax.ipynb
  },
  {
   "cell_type": "markdown",
   "source": [
    "## Example: Brownian motion with drift\n",
    "\n",
    "The model is\n",
    "$$\n",
    "\\begin{aligned}\n",
    "x_0 & \\sim \\pi(x_0) \\\\\n",
    "x_t & \\sim \\N(x_{t-1} + \\mu \\dt, \\sigma^2 \\dt) \\\\\n",
    "y_t & \\sim \\N(x_t, \\tau^2).\n",
    "\\end{aligned}\n",
    "$$\n",
    "\n",
    "Therefore, `n_state` = `n_meas` = 1, and we have a constant $\\dt$ through which we never need to take derivatives.  \n",
    "\n",
    "Note that with $\\pi(x_0) \\propto 1$, we may condition on $y_0$ and obtain $x_0 \\mid y_0 \\sim \\N(y_0, \\tau^2)$.\n",
    "\n",
    "### Simulate data"
   ],
   "metadata": {}
  },
  {
   "cell_type": "code",
   "execution_count": 1,
<<<<<<< HEAD:examples/pfjax.ipynb
   "metadata": {},
   "outputs": [
    {
     "name": "stderr",
     "output_type": "stream",
     "text": [
      "WARNING:absl:No GPU/TPU found, falling back to CPU. (Set TF_CPP_MIN_LOG_LEVEL=0 and rerun for more info.)\n"
     ]
    },
    {
     "data": {
      "text/plain": [
       "<seaborn.axisgrid.FacetGrid at 0x7faaa752b100>"
      ]
     },
     "execution_count": 1,
     "metadata": {},
     "output_type": "execute_result"
    },
    {
     "data": {
      "image/png": "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",
      "text/plain": [
       "<Figure size 434x360 with 1 Axes>"
      ]
     },
     "metadata": {
      "needs_background": "light"
     },
     "output_type": "display_data"
    }
   ],
=======
>>>>>>> updating lotvol model + pushing unstaged commits:pfjax.ipynb
   "source": [
    "import numpy as np\n",
    "import jax\n",
    "import jax.numpy as jnp\n",
    "import jax.scipy as jsp\n",
    "import jax.random as random\n",
    "import pandas as pd\n",
    "import seaborn as sns\n",
    "\n",
    "# module containing pfjax (for now)\n",
    "import particle_filter as pf\n",
    "# module containing implementation of BM model\n",
    "import bm_model as bm\n",
    "# utility for plotting\n",
    "from proj_data import proj_data\n",
    "\n",
    "# initial key for random numbers\n",
    "key = random.PRNGKey(0)\n",
    "\n",
    "# parameter values\n",
    "mu = 5.\n",
    "sigma = .2\n",
    "tau = 1.\n",
    "theta = np.array([mu, sigma, tau])\n",
    "\n",
    "# data specification\n",
    "dt = .2\n",
    "n_obs = 100\n",
    "x_init = jnp.array([0.])\n",
    "\n",
    "# simulate data\n",
    "bm_model = bm.BMModel(dt=dt)\n",
    "key, subkey = random.split(key)\n",
    "y_meas, x_state = pf.meas_sim(bm_model, n_obs, x_init, theta, subkey)\n",
    "\n",
    "# plot data\n",
    "plot_df = (pd.DataFrame({\"time\": jnp.arange(n_obs) * dt,\n",
    "                         \"x_state\": jnp.squeeze(x_state),\n",
    "                         \"y_meas\": jnp.squeeze(y_meas)})\n",
    "           .melt(id_vars=\"time\", var_name=\"type\"))\n",
    "sns.relplot(\n",
    "    data=plot_df, kind=\"line\",\n",
    "    x=\"time\", y=\"value\", hue=\"type\"\n",
    ")"
   ],
   "outputs": [
    {
     "output_type": "stream",
     "name": "stderr",
     "text": [
      "WARNING:absl:No GPU/TPU found, falling back to CPU. (Set TF_CPP_MIN_LOG_LEVEL=0 and rerun for more info.)\n"
     ]
    },
    {
     "output_type": "execute_result",
     "data": {
      "text/plain": [
       "<seaborn.axisgrid.FacetGrid at 0x7fb568344df0>"
      ]
     },
     "metadata": {},
     "execution_count": 1
    },
    {
     "output_type": "display_data",
     "data": {
      "text/plain": [
       "<Figure size 434x360 with 1 Axes>"
      ],
      "image/png": "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"
     },
     "metadata": {
      "needs_background": "light"
     }
    }
   ],
   "metadata": {}
  },
  {
   "cell_type": "markdown",
   "source": [
    "### Particle filter: Speed test with jit"
   ],
   "metadata": {}
  },
  {
   "cell_type": "code",
   "execution_count": 2,
   "source": [
    "# particle filter specification\n",
    "n_particles = 100\n",
    "\n",
    "# timing without jit\n",
    "key, subkey = random.split(key)\n",
    "%timeit pf.particle_filter(bm_model, y_meas, theta, n_particles, subkey)"
   ],
   "outputs": [
    {
     "output_type": "stream",
     "name": "stdout",
     "text": [
      "1.33 s ± 17.8 ms per loop (mean ± std. dev. of 7 runs, 1 loop each)\n"
     ]
    }
   ],
   "metadata": {}
  },
  {
   "cell_type": "code",
   "execution_count": 3,
   "source": [
    "# timing with jit\n",
    "jax.jit(pf.particle_filter, static_argnums=(0,3))(bm_model, y_meas, theta, n_particles, subkey)\n",
    "%timeit jax.jit(pf.particle_filter, static_argnums=(0,3))(bm_model, y_meas, theta, n_particles, subkey)"
   ],
   "outputs": [
    {
     "output_type": "stream",
     "name": "stdout",
     "text": [
      "397 µs ± 694 ns per loop (mean ± std. dev. of 7 runs, 1000 loops each)\n"
     ]
    }
   ],
   "metadata": {}
  },
  {
   "cell_type": "markdown",
   "source": [
    "### Test against exact likelihood\n",
    "\n",
    "The exact likelihood is defined as $p(\\yy_{1:T} \\mid y_0, \\tth)$ rather than $p(\\yy_{0:T} \\mid \\tth)$.  The reason is that the latter expression requires one to integrate over $x_0 \\sim \\pi(x_0)$, which can only be done when $\\pi(x_0)$ is a proper prior.  However, for our choice of $\\pi(x_0) \\propto 1$ this is not the case.  On the other hand, $p(\\yy_{1:T} \\mid y_0, \\tth)$ only requires us to integrate over $p(x_0 \\mid y_0, \\tth)$, which only requires the posterior to be proper (which is always the case for valid Bayesian inference).\n",
    "\n",
    "Conditioned on $x_0$ and $\\tth$, the Brownian latent variables $\\xx_{1:T}$ are multivariate normal with\n",
    "$$\n",
    "\\newcommand{\\cov}{\\operatorname{cov}}\n",
    "\\begin{aligned}\n",
    "%E[x_0 \\mid \\tth] & = y_0 & \\var(x_0\\\\\n",
    "E[x_t \\mid x_0, \\tth] & = x_0 + \\mu t, \\\\\n",
    "\\cov(x_s, x_t \\mid x_0, \\tth) & = \\sigma^2 \\min(s, t).\n",
    "\\end{aligned}\n",
    "$$\n",
    "Conditioned on $\\xx_{0:T}$ and $\\tth$, the measurement variables $\\yy_{1:T}$ are multivariate normal with\n",
    "$$\n",
    "\\begin{aligned}\n",
    "E[y_t \\mid \\xx_{0:T}, \\tth] & = \\xx_{1:T}, \\\\\n",
    "\\cov(y_s, y_t \\mid \\xx_{0:T}, \\tth) & = \\tau^2 \\delta_{st}.\n",
    "\\end{aligned}\n",
    "$$\n",
    "Therefore, the marginal distribution of $\\yy_{1:T}$ is multivariate normal with\n",
    "$$\n",
    "\\begin{aligned}\n",
    "E[y_t \\mid x_0, \\tth] & = x_0 + \\mu t, \\\\\n",
    "\\cov(y_s, y_t \\mid x_0, \\tth) & = \\sigma^2 \\min(s, t) + \\tau^2 \\delta_{st}.\n",
    "\\end{aligned}\n",
    "$$\n",
    "For the given choice of prior, we have $x_0 \\mid y_0 \\sim \\N(y_0, \\tau^2)$ for the initial observation $y_0$.  Integrating over $x_0$, the marginal distribution of $\\yy_{1:T}$ is MVN with\n",
    "$$\n",
    "\\begin{aligned}\n",
    "E[y_t \\mid y_0, \\tth] & = y_0 + \\mu t, \\\\\n",
    "\\cov(y_s, y_t \\mid y_0, \\tth) & = \\sigma^2 \\min(s, t) + \\tau^2(\\delta_{st} + 1).\n",
    "\\end{aligned}\n",
    "$$"
   ],
   "metadata": {}
  },
  {
   "cell_type": "code",
   "execution_count": 4,
   "source": [
    "@jax.jit\n",
    "def bm_loglik(y_meas, dt, theta):\n",
    "    \"\"\"\n",
    "    Exact loglikelihood of the BM model.\n",
    "    \"\"\"\n",
    "    mu = theta[0]\n",
    "    sigma2 = theta[1] * theta[1]\n",
    "    tau2 = theta[2] * theta[2]\n",
    "    n_obs = y_meas.shape[0]-1  # conditioning on y_0\n",
    "    t_meas = jnp.arange(1, n_obs+1) * dt\n",
    "    Sigma_y = sigma2 * jax.vmap(lambda t: jnp.minimum(t, t_meas))(t_meas) + \\\n",
    "        tau2 * (jnp.ones((n_obs, n_obs)) + jnp.eye(n_obs))\n",
    "    mu_y = y_meas[0] + mu * t_meas\n",
    "    return jsp.stats.multivariate_normal.logpdf(jnp.squeeze(y_meas[1:]), mu_y, Sigma_y)\n",
    "\n",
    "\n",
    "bm_loglik(y_meas, dt, np.array([5, 1.2, 0]))"
   ],
   "outputs": [
    {
     "output_type": "execute_result",
     "data": {
      "text/plain": [
       "DeviceArray(-444.57486, dtype=float32)"
      ]
     },
     "metadata": {},
<<<<<<< HEAD:examples/pfjax.ipynb
     "output_type": "execute_result"
    },
    {
     "data": {
      "image/png": "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",
      "text/plain": [
       "<Figure size 1080x360 with 3 Axes>"
      ]
     },
     "metadata": {
      "needs_background": "light"
     },
     "output_type": "display_data"
=======
     "execution_count": 4
>>>>>>> updating lotvol model + pushing unstaged commits:pfjax.ipynb
    }
   ],
   "metadata": {}
  },
  {
   "cell_type": "code",
   "execution_count": 6,
   "source": [
    "# plot exact likelihood\n",
    "theta_lims = np.array([[3., 8.], [0., .4], [.5, 2]])\n",
    "#theta_lims = np.array([[3., 8.], [.194, .195], [0, 10]])\n",
    "theta_names = [\"mu\", \"sigma\", \"tau\"]\n",
    "n_pts = 100\n",
    "\n",
    "# calculate projection plot\n",
    "plot_df = proj_data(lambda th: bm_loglik(y_meas, dt, th),\n",
    "                    theta, theta_lims, theta_names)\n",
    "\n",
    "sns.relplot(\n",
    "    data=plot_df, kind=\"line\",\n",
    "    x=\"x\", y=\"y\", col=\"theta\",\n",
    "    facet_kws=dict(sharex=False, sharey=False)\n",
    ")"
   ],
   "outputs": [
    {
     "output_type": "execute_result",
     "data": {
      "text/plain": [
       "<seaborn.axisgrid.FacetGrid at 0x7fb548328790>"
      ]
     },
     "metadata": {},
     "execution_count": 6
    },
    {
     "output_type": "display_data",
     "data": {
      "text/plain": [
       "<Figure size 1080x360 with 3 Axes>"
      ],
      "image/png": "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"
     },
     "metadata": {
      "needs_background": "light"
     }
    }
   ],
   "metadata": {
    "scrolled": true
   }
  },
  {
   "cell_type": "markdown",
   "source": [
    "### Stochastic loglikelihood using particle filter\n",
    "\n"
   ],
   "metadata": {}
  },
  {
   "cell_type": "code",
   "execution_count": 7,
   "source": [
    "from particle_filter import stoch_opt, get_sum_lweights"
   ],
   "outputs": [],
   "metadata": {}
  },
  {
   "cell_type": "code",
   "execution_count": 11,
   "source": [
    "params, _, _ = stoch_opt(bm_model, jnp.array([5.,4.,3.]), get_sum_lweights, y_meas, key=key, learning_rate=0.001, iterations=1000, mask=np.array([1,1,1]))"
   ],
   "outputs": [],
   "metadata": {}
  },
  {
   "cell_type": "code",
   "execution_count": 12,
   "source": [
    "params"
   ],
   "outputs": [
    {
     "output_type": "execute_result",
     "data": {
      "text/plain": [
       "DeviceArray([5.0546947, 0.2560667, 1.037497 ], dtype=float32)"
      ]
     },
     "metadata": {},
     "execution_count": 12
    }
   ],
   "metadata": {}
  },
  {
   "cell_type": "markdown",
   "source": [
    "## Scratch\n",
    "\n",
    "Everything below is obsolete code that should not be expected to work as API evolves."
   ],
   "metadata": {}
  },
  {
   "cell_type": "markdown",
   "source": [
    "### Output script file with Jupyter highlighting\n",
    "\n",
    "Just can't figure out how to resize output as desired..."
   ],
   "metadata": {}
  },
  {
   "cell_type": "code",
   "execution_count": 2,
   "source": [
    "# Output .py file with jupyter highlighting\n",
    "from pygments import highlight\n",
    "from pygments.lexers import PythonLexer\n",
    "from pygments.formatters import HtmlFormatter\n",
    "import IPython\n",
    "\n",
    "with open('particle_filter.py') as f:\n",
    "    code = f.read()\n",
    "\n",
    "formatter = HtmlFormatter()\n",
    "IPython.display.HTML('<style type=\"text/css\">{}</style>{}'.format(\n",
    "    formatter.get_style_defs('.highlight'),\n",
    "    highlight(code, PythonLexer(), formatter)))"
   ],
   "outputs": [
    {
     "output_type": "execute_result",
     "data": {
      "text/plain": [
       "<IPython.core.display.HTML object>"
      ],
      "text/html": [
       "<style type=\"text/css\">pre { line-height: 125%; }\n",
       "td.linenos .normal { color: inherit; background-color: transparent; padding-left: 5px; padding-right: 5px; }\n",
       "span.linenos { color: inherit; background-color: transparent; padding-left: 5px; padding-right: 5px; }\n",
       "td.linenos .special { color: #000000; background-color: #ffffc0; padding-left: 5px; padding-right: 5px; }\n",
       "span.linenos.special { color: #000000; background-color: #ffffc0; padding-left: 5px; padding-right: 5px; }\n",
       ".highlight .hll { background-color: #ffffcc }\n",
       ".highlight { background: #f8f8f8; }\n",
       ".highlight .c { color: #408080; font-style: italic } /* Comment */\n",
       ".highlight .err { border: 1px solid #FF0000 } /* Error */\n",
       ".highlight .k { color: #008000; font-weight: bold } /* Keyword */\n",
       ".highlight .o { color: #666666 } /* Operator */\n",
       ".highlight .ch { color: #408080; font-style: italic } /* Comment.Hashbang */\n",
       ".highlight .cm { color: #408080; font-style: italic } /* Comment.Multiline */\n",
       ".highlight .cp { color: #BC7A00 } /* Comment.Preproc */\n",
       ".highlight .cpf { color: #408080; font-style: italic } /* Comment.PreprocFile */\n",
       ".highlight .c1 { color: #408080; font-style: italic } /* Comment.Single */\n",
       ".highlight .cs { color: #408080; font-style: italic } /* Comment.Special */\n",
       ".highlight .gd { color: #A00000 } /* Generic.Deleted */\n",
       ".highlight .ge { font-style: italic } /* Generic.Emph */\n",
       ".highlight .gr { color: #FF0000 } /* Generic.Error */\n",
       ".highlight .gh { color: #000080; font-weight: bold } /* Generic.Heading */\n",
       ".highlight .gi { color: #00A000 } /* Generic.Inserted */\n",
       ".highlight .go { color: #888888 } /* Generic.Output */\n",
       ".highlight .gp { color: #000080; font-weight: bold } /* Generic.Prompt */\n",
       ".highlight .gs { font-weight: bold } /* Generic.Strong */\n",
       ".highlight .gu { color: #800080; font-weight: bold } /* Generic.Subheading */\n",
       ".highlight .gt { color: #0044DD } /* Generic.Traceback */\n",
       ".highlight .kc { color: #008000; font-weight: bold } /* Keyword.Constant */\n",
       ".highlight .kd { color: #008000; font-weight: bold } /* Keyword.Declaration */\n",
       ".highlight .kn { color: #008000; font-weight: bold } /* Keyword.Namespace */\n",
       ".highlight .kp { color: #008000 } /* Keyword.Pseudo */\n",
       ".highlight .kr { color: #008000; font-weight: bold } /* Keyword.Reserved */\n",
       ".highlight .kt { color: #B00040 } /* Keyword.Type */\n",
       ".highlight .m { color: #666666 } /* Literal.Number */\n",
       ".highlight .s { color: #BA2121 } /* Literal.String */\n",
       ".highlight .na { color: #7D9029 } /* Name.Attribute */\n",
       ".highlight .nb { color: #008000 } /* Name.Builtin */\n",
       ".highlight .nc { color: #0000FF; font-weight: bold } /* Name.Class */\n",
       ".highlight .no { color: #880000 } /* Name.Constant */\n",
       ".highlight .nd { color: #AA22FF } /* Name.Decorator */\n",
       ".highlight .ni { color: #999999; font-weight: bold } /* Name.Entity */\n",
       ".highlight .ne { color: #D2413A; font-weight: bold } /* Name.Exception */\n",
       ".highlight .nf { color: #0000FF } /* Name.Function */\n",
       ".highlight .nl { color: #A0A000 } /* Name.Label */\n",
       ".highlight .nn { color: #0000FF; font-weight: bold } /* Name.Namespace */\n",
       ".highlight .nt { color: #008000; font-weight: bold } /* Name.Tag */\n",
       ".highlight .nv { color: #19177C } /* Name.Variable */\n",
       ".highlight .ow { color: #AA22FF; font-weight: bold } /* Operator.Word */\n",
       ".highlight .w { color: #bbbbbb } /* Text.Whitespace */\n",
       ".highlight .mb { color: #666666 } /* Literal.Number.Bin */\n",
       ".highlight .mf { color: #666666 } /* Literal.Number.Float */\n",
       ".highlight .mh { color: #666666 } /* Literal.Number.Hex */\n",
       ".highlight .mi { color: #666666 } /* Literal.Number.Integer */\n",
       ".highlight .mo { color: #666666 } /* Literal.Number.Oct */\n",
       ".highlight .sa { color: #BA2121 } /* Literal.String.Affix */\n",
       ".highlight .sb { color: #BA2121 } /* Literal.String.Backtick */\n",
       ".highlight .sc { color: #BA2121 } /* Literal.String.Char */\n",
       ".highlight .dl { color: #BA2121 } /* Literal.String.Delimiter */\n",
       ".highlight .sd { color: #BA2121; font-style: italic } /* Literal.String.Doc */\n",
       ".highlight .s2 { color: #BA2121 } /* Literal.String.Double */\n",
       ".highlight .se { color: #BB6622; font-weight: bold } /* Literal.String.Escape */\n",
       ".highlight .sh { color: #BA2121 } /* Literal.String.Heredoc */\n",
       ".highlight .si { color: #BB6688; font-weight: bold } /* Literal.String.Interpol */\n",
       ".highlight .sx { color: #008000 } /* Literal.String.Other */\n",
       ".highlight .sr { color: #BB6688 } /* Literal.String.Regex */\n",
       ".highlight .s1 { color: #BA2121 } /* Literal.String.Single */\n",
       ".highlight .ss { color: #19177C } /* Literal.String.Symbol */\n",
       ".highlight .bp { color: #008000 } /* Name.Builtin.Pseudo */\n",
       ".highlight .fm { color: #0000FF } /* Name.Function.Magic */\n",
       ".highlight .vc { color: #19177C } /* Name.Variable.Class */\n",
       ".highlight .vg { color: #19177C } /* Name.Variable.Global */\n",
       ".highlight .vi { color: #19177C } /* Name.Variable.Instance */\n",
       ".highlight .vm { color: #19177C } /* Name.Variable.Magic */\n",
       ".highlight .il { color: #666666 } /* Literal.Number.Integer.Long */</style><div class=\"highlight\"><pre><span></span><span class=\"sd\">&quot;&quot;&quot;</span>\n",
       "<span class=\"sd\">Particle filter in JAX.</span>\n",
       "\n",
       "<span class=\"sd\">Uses the same API as NumPy/SciPy version.</span>\n",
       "<span class=\"sd\">&quot;&quot;&quot;</span>\n",
       "\n",
       "<span class=\"kn\">import</span> <span class=\"nn\">jax</span>\n",
       "<span class=\"kn\">import</span> <span class=\"nn\">jax.numpy</span> <span class=\"k\">as</span> <span class=\"nn\">jnp</span>\n",
       "<span class=\"kn\">import</span> <span class=\"nn\">jax.scipy</span> <span class=\"k\">as</span> <span class=\"nn\">jsp</span>\n",
       "<span class=\"kn\">from</span> <span class=\"nn\">jax</span> <span class=\"kn\">import</span> <span class=\"n\">random</span>\n",
       "<span class=\"kn\">from</span> <span class=\"nn\">jax</span> <span class=\"kn\">import</span> <span class=\"n\">lax</span>\n",
       "<span class=\"kn\">from</span> <span class=\"nn\">jax.experimental.maps</span> <span class=\"kn\">import</span> <span class=\"n\">xmap</span>\n",
       "<span class=\"kn\">from</span> <span class=\"nn\">functools</span> <span class=\"kn\">import</span> <span class=\"n\">partial</span>\n",
       "\n",
       "\n",
       "<span class=\"k\">def</span> <span class=\"nf\">meas_sim_for</span><span class=\"p\">(</span><span class=\"n\">model</span><span class=\"p\">,</span> <span class=\"n\">n_obs</span><span class=\"p\">,</span> <span class=\"n\">x_init</span><span class=\"p\">,</span> <span class=\"n\">theta</span><span class=\"p\">,</span> <span class=\"n\">key</span><span class=\"p\">):</span>\n",
       "    <span class=\"sd\">&quot;&quot;&quot;</span>\n",
       "<span class=\"sd\">    Simulate data from the state-space model.</span>\n",
       "\n",
       "<span class=\"sd\">    **FIXME:** This is the testing version which uses a for-loop.  This should be put in a separate class in a `test` subfolder.</span>\n",
       "\n",
       "<span class=\"sd\">    Args:</span>\n",
       "<span class=\"sd\">        model: Object specifying the state-space model.</span>\n",
       "<span class=\"sd\">        n_obs: Number of observations to generate.</span>\n",
       "<span class=\"sd\">        x_init: Initial state value at time `t = 0`.</span>\n",
       "<span class=\"sd\">        theta: Parameter value.</span>\n",
       "<span class=\"sd\">        key: PRNG key.</span>\n",
       "\n",
       "<span class=\"sd\">    Returns:</span>\n",
       "<span class=\"sd\">        y_meas: The sequence of measurement variables `y_meas = (y_0, ..., y_T)`, where `T = n_obs-1`.</span>\n",
       "<span class=\"sd\">        x_state: The sequence of state variables `x_state = (x_0, ..., x_T)`, where `T = n_obs-1`.</span>\n",
       "<span class=\"sd\">    &quot;&quot;&quot;</span>\n",
       "    <span class=\"n\">y_meas</span> <span class=\"o\">=</span> <span class=\"n\">jnp</span><span class=\"o\">.</span><span class=\"n\">zeros</span><span class=\"p\">((</span><span class=\"n\">n_obs</span><span class=\"p\">,</span> <span class=\"n\">model</span><span class=\"o\">.</span><span class=\"n\">n_meas</span><span class=\"p\">))</span>\n",
       "    <span class=\"n\">x_state</span> <span class=\"o\">=</span> <span class=\"n\">jnp</span><span class=\"o\">.</span><span class=\"n\">zeros</span><span class=\"p\">((</span><span class=\"n\">n_obs</span><span class=\"p\">,</span> <span class=\"n\">model</span><span class=\"o\">.</span><span class=\"n\">n_state</span><span class=\"p\">))</span>\n",
       "    <span class=\"n\">x_state</span> <span class=\"o\">=</span> <span class=\"n\">x_state</span><span class=\"o\">.</span><span class=\"n\">at</span><span class=\"p\">[</span><span class=\"mi\">0</span><span class=\"p\">]</span><span class=\"o\">.</span><span class=\"n\">set</span><span class=\"p\">(</span><span class=\"n\">x_init</span><span class=\"p\">)</span>\n",
       "    <span class=\"c1\"># initial observation</span>\n",
       "    <span class=\"n\">key</span><span class=\"p\">,</span> <span class=\"n\">subkey</span> <span class=\"o\">=</span> <span class=\"n\">random</span><span class=\"o\">.</span><span class=\"n\">split</span><span class=\"p\">(</span><span class=\"n\">key</span><span class=\"p\">)</span>\n",
       "    <span class=\"n\">y_meas</span> <span class=\"o\">=</span> <span class=\"n\">y_meas</span><span class=\"o\">.</span><span class=\"n\">at</span><span class=\"p\">[</span><span class=\"mi\">0</span><span class=\"p\">]</span><span class=\"o\">.</span><span class=\"n\">set</span><span class=\"p\">(</span><span class=\"n\">model</span><span class=\"o\">.</span><span class=\"n\">meas_sample</span><span class=\"p\">(</span><span class=\"n\">x_init</span><span class=\"p\">,</span> <span class=\"n\">theta</span><span class=\"p\">,</span> <span class=\"n\">subkey</span><span class=\"p\">))</span>\n",
       "    <span class=\"k\">for</span> <span class=\"n\">t</span> <span class=\"ow\">in</span> <span class=\"nb\">range</span><span class=\"p\">(</span><span class=\"mi\">1</span><span class=\"p\">,</span> <span class=\"n\">n_obs</span><span class=\"p\">):</span>\n",
       "        <span class=\"n\">key</span><span class=\"p\">,</span> <span class=\"o\">*</span><span class=\"n\">subkeys</span> <span class=\"o\">=</span> <span class=\"n\">random</span><span class=\"o\">.</span><span class=\"n\">split</span><span class=\"p\">(</span><span class=\"n\">key</span><span class=\"p\">,</span> <span class=\"n\">num</span><span class=\"o\">=</span><span class=\"mi\">3</span><span class=\"p\">)</span>\n",
       "        <span class=\"n\">x_state</span> <span class=\"o\">=</span> <span class=\"n\">x_state</span><span class=\"o\">.</span><span class=\"n\">at</span><span class=\"p\">[</span><span class=\"n\">t</span><span class=\"p\">]</span><span class=\"o\">.</span><span class=\"n\">set</span><span class=\"p\">(</span>\n",
       "            <span class=\"n\">model</span><span class=\"o\">.</span><span class=\"n\">state_sample</span><span class=\"p\">(</span><span class=\"n\">x_state</span><span class=\"p\">[</span><span class=\"n\">t</span><span class=\"o\">-</span><span class=\"mi\">1</span><span class=\"p\">],</span> <span class=\"n\">theta</span><span class=\"p\">,</span> <span class=\"n\">subkeys</span><span class=\"p\">[</span><span class=\"mi\">0</span><span class=\"p\">])</span>\n",
       "        <span class=\"p\">)</span>\n",
       "        <span class=\"n\">y_meas</span> <span class=\"o\">=</span> <span class=\"n\">y_meas</span><span class=\"o\">.</span><span class=\"n\">at</span><span class=\"p\">[</span><span class=\"n\">t</span><span class=\"p\">]</span><span class=\"o\">.</span><span class=\"n\">set</span><span class=\"p\">(</span>\n",
       "            <span class=\"n\">model</span><span class=\"o\">.</span><span class=\"n\">meas_sample</span><span class=\"p\">(</span><span class=\"n\">x_state</span><span class=\"p\">[</span><span class=\"n\">t</span><span class=\"p\">],</span> <span class=\"n\">theta</span><span class=\"p\">,</span> <span class=\"n\">subkeys</span><span class=\"p\">[</span><span class=\"mi\">1</span><span class=\"p\">])</span>\n",
       "        <span class=\"p\">)</span>\n",
       "    <span class=\"k\">return</span> <span class=\"n\">y_meas</span><span class=\"p\">,</span> <span class=\"n\">x_state</span>\n",
       "\n",
       "<span class=\"c1\"># @partial(jax.jit, static_argnums=0)</span>\n",
       "\n",
       "\n",
       "<span class=\"k\">def</span> <span class=\"nf\">meas_sim</span><span class=\"p\">(</span><span class=\"n\">model</span><span class=\"p\">,</span> <span class=\"n\">n_obs</span><span class=\"p\">,</span> <span class=\"n\">x_init</span><span class=\"p\">,</span> <span class=\"n\">theta</span><span class=\"p\">,</span> <span class=\"n\">key</span><span class=\"p\">):</span>\n",
       "    <span class=\"sd\">&quot;&quot;&quot;</span>\n",
       "<span class=\"sd\">    Simulate data from the state-space model.</span>\n",
       "\n",
       "<span class=\"sd\">    Args:</span>\n",
       "<span class=\"sd\">        model: Object specifying the state-space model.</span>\n",
       "<span class=\"sd\">        n_obs: Number of observations to generate.</span>\n",
       "<span class=\"sd\">        x_init: Initial state value at time `t = 0`.</span>\n",
       "<span class=\"sd\">        theta: Parameter value.</span>\n",
       "<span class=\"sd\">        key: PRNG key.</span>\n",
       "\n",
       "<span class=\"sd\">    Returns:</span>\n",
       "<span class=\"sd\">        y_meas: The sequence of measurement variables `y_meas = (y_0, ..., y_T)`, where `T = n_obs-1`.</span>\n",
       "<span class=\"sd\">        x_state: The sequence of state variables `x_state = (x_0, ..., x_T)`, where `T = n_obs-1`.</span>\n",
       "<span class=\"sd\">    &quot;&quot;&quot;</span>\n",
       "    <span class=\"c1\"># lax.scan setup</span>\n",
       "    <span class=\"c1\"># scan function</span>\n",
       "    <span class=\"k\">def</span> <span class=\"nf\">fun</span><span class=\"p\">(</span><span class=\"n\">carry</span><span class=\"p\">,</span> <span class=\"n\">x</span><span class=\"p\">):</span>\n",
       "        <span class=\"n\">key</span><span class=\"p\">,</span> <span class=\"o\">*</span><span class=\"n\">subkeys</span> <span class=\"o\">=</span> <span class=\"n\">random</span><span class=\"o\">.</span><span class=\"n\">split</span><span class=\"p\">(</span><span class=\"n\">carry</span><span class=\"p\">[</span><span class=\"s2\">&quot;key&quot;</span><span class=\"p\">],</span> <span class=\"n\">num</span><span class=\"o\">=</span><span class=\"mi\">3</span><span class=\"p\">)</span>\n",
       "        <span class=\"n\">x_state</span> <span class=\"o\">=</span> <span class=\"n\">model</span><span class=\"o\">.</span><span class=\"n\">state_sample</span><span class=\"p\">(</span><span class=\"n\">carry</span><span class=\"p\">[</span><span class=\"s2\">&quot;x_state&quot;</span><span class=\"p\">],</span> <span class=\"n\">theta</span><span class=\"p\">,</span> <span class=\"n\">subkeys</span><span class=\"p\">[</span><span class=\"mi\">0</span><span class=\"p\">])</span>\n",
       "        <span class=\"n\">y_meas</span> <span class=\"o\">=</span> <span class=\"n\">model</span><span class=\"o\">.</span><span class=\"n\">meas_sample</span><span class=\"p\">(</span><span class=\"n\">x_state</span><span class=\"p\">,</span> <span class=\"n\">theta</span><span class=\"p\">,</span> <span class=\"n\">subkeys</span><span class=\"p\">[</span><span class=\"mi\">1</span><span class=\"p\">])</span>\n",
       "        <span class=\"n\">res</span> <span class=\"o\">=</span> <span class=\"p\">{</span><span class=\"s2\">&quot;y_meas&quot;</span><span class=\"p\">:</span> <span class=\"n\">y_meas</span><span class=\"p\">,</span> <span class=\"s2\">&quot;x_state&quot;</span><span class=\"p\">:</span> <span class=\"n\">x_state</span><span class=\"p\">,</span> <span class=\"s2\">&quot;key&quot;</span><span class=\"p\">:</span> <span class=\"n\">key</span><span class=\"p\">}</span>\n",
       "        <span class=\"k\">return</span> <span class=\"n\">res</span><span class=\"p\">,</span> <span class=\"n\">res</span>\n",
       "    <span class=\"c1\"># scan initial value</span>\n",
       "    <span class=\"n\">key</span><span class=\"p\">,</span> <span class=\"n\">subkey</span> <span class=\"o\">=</span> <span class=\"n\">random</span><span class=\"o\">.</span><span class=\"n\">split</span><span class=\"p\">(</span><span class=\"n\">key</span><span class=\"p\">)</span>\n",
       "    <span class=\"n\">init</span> <span class=\"o\">=</span> <span class=\"p\">{</span>\n",
       "        <span class=\"s2\">&quot;y_meas&quot;</span><span class=\"p\">:</span> <span class=\"n\">model</span><span class=\"o\">.</span><span class=\"n\">meas_sample</span><span class=\"p\">(</span><span class=\"n\">x_init</span><span class=\"p\">,</span> <span class=\"n\">theta</span><span class=\"p\">,</span> <span class=\"n\">subkey</span><span class=\"p\">),</span>\n",
       "        <span class=\"s2\">&quot;x_state&quot;</span><span class=\"p\">:</span> <span class=\"n\">x_init</span><span class=\"p\">,</span>\n",
       "        <span class=\"s2\">&quot;key&quot;</span><span class=\"p\">:</span> <span class=\"n\">key</span>\n",
       "    <span class=\"p\">}</span>\n",
       "    <span class=\"c1\"># scan itself</span>\n",
       "    <span class=\"n\">last</span><span class=\"p\">,</span> <span class=\"n\">full</span> <span class=\"o\">=</span> <span class=\"n\">lax</span><span class=\"o\">.</span><span class=\"n\">scan</span><span class=\"p\">(</span><span class=\"n\">fun</span><span class=\"p\">,</span> <span class=\"n\">init</span><span class=\"p\">,</span> <span class=\"n\">jnp</span><span class=\"o\">.</span><span class=\"n\">arange</span><span class=\"p\">(</span><span class=\"mi\">1</span><span class=\"p\">,</span> <span class=\"n\">n_obs</span><span class=\"p\">))</span>\n",
       "    <span class=\"c1\"># append initial values</span>\n",
       "    <span class=\"n\">x_state</span> <span class=\"o\">=</span> <span class=\"n\">jnp</span><span class=\"o\">.</span><span class=\"n\">append</span><span class=\"p\">(</span><span class=\"n\">jnp</span><span class=\"o\">.</span><span class=\"n\">expand_dims</span><span class=\"p\">(</span><span class=\"n\">init</span><span class=\"p\">[</span><span class=\"s2\">&quot;x_state&quot;</span><span class=\"p\">],</span> <span class=\"n\">axis</span><span class=\"o\">=</span><span class=\"mi\">0</span><span class=\"p\">),</span>\n",
       "                         <span class=\"n\">full</span><span class=\"p\">[</span><span class=\"s2\">&quot;x_state&quot;</span><span class=\"p\">],</span> <span class=\"n\">axis</span><span class=\"o\">=</span><span class=\"mi\">0</span><span class=\"p\">)</span>\n",
       "    <span class=\"n\">y_meas</span> <span class=\"o\">=</span> <span class=\"n\">jnp</span><span class=\"o\">.</span><span class=\"n\">append</span><span class=\"p\">(</span><span class=\"n\">jnp</span><span class=\"o\">.</span><span class=\"n\">expand_dims</span><span class=\"p\">(</span><span class=\"n\">init</span><span class=\"p\">[</span><span class=\"s2\">&quot;y_meas&quot;</span><span class=\"p\">],</span> <span class=\"n\">axis</span><span class=\"o\">=</span><span class=\"mi\">0</span><span class=\"p\">),</span>\n",
       "                        <span class=\"n\">full</span><span class=\"p\">[</span><span class=\"s2\">&quot;y_meas&quot;</span><span class=\"p\">],</span> <span class=\"n\">axis</span><span class=\"o\">=</span><span class=\"mi\">0</span><span class=\"p\">)</span>\n",
       "    <span class=\"k\">return</span> <span class=\"n\">y_meas</span><span class=\"p\">,</span> <span class=\"n\">x_state</span>\n",
       "\n",
       "\n",
       "<span class=\"k\">def</span> <span class=\"nf\">particle_resample</span><span class=\"p\">(</span><span class=\"n\">logw</span><span class=\"p\">,</span> <span class=\"n\">key</span><span class=\"p\">):</span>\n",
       "    <span class=\"sd\">&quot;&quot;&quot;</span>\n",
       "<span class=\"sd\">    Particle resampler.</span>\n",
       "\n",
       "<span class=\"sd\">    This basic one just does a multinomial sampler, i.e., sample with replacement proportional to weights.</span>\n",
       "\n",
       "<span class=\"sd\">    Args:</span>\n",
       "<span class=\"sd\">        logw: Vector of `n_particles` unnormalized log-weights.</span>\n",
       "<span class=\"sd\">        key: PRNG key.</span>\n",
       "\n",
       "<span class=\"sd\">    Returns:</span>\n",
       "<span class=\"sd\">        Vector of `n_particles` integers between 0 and `n_particles-1`, sampled with replacement with probability vector `exp(logw) / sum(exp(logw))`.</span>\n",
       "<span class=\"sd\">    &quot;&quot;&quot;</span>\n",
       "    <span class=\"n\">wgt</span> <span class=\"o\">=</span> <span class=\"n\">jnp</span><span class=\"o\">.</span><span class=\"n\">exp</span><span class=\"p\">(</span><span class=\"n\">logw</span> <span class=\"o\">-</span> <span class=\"n\">jnp</span><span class=\"o\">.</span><span class=\"n\">max</span><span class=\"p\">(</span><span class=\"n\">logw</span><span class=\"p\">))</span>\n",
       "    <span class=\"n\">prob</span> <span class=\"o\">=</span> <span class=\"n\">wgt</span> <span class=\"o\">/</span> <span class=\"n\">jnp</span><span class=\"o\">.</span><span class=\"n\">sum</span><span class=\"p\">(</span><span class=\"n\">wgt</span><span class=\"p\">)</span>\n",
       "    <span class=\"n\">n_particles</span> <span class=\"o\">=</span> <span class=\"n\">logw</span><span class=\"o\">.</span><span class=\"n\">size</span>\n",
       "    <span class=\"k\">return</span> <span class=\"n\">random</span><span class=\"o\">.</span><span class=\"n\">choice</span><span class=\"p\">(</span><span class=\"n\">key</span><span class=\"p\">,</span>\n",
       "                         <span class=\"n\">a</span><span class=\"o\">=</span><span class=\"n\">jnp</span><span class=\"o\">.</span><span class=\"n\">arange</span><span class=\"p\">(</span><span class=\"n\">n_particles</span><span class=\"p\">),</span>\n",
       "                         <span class=\"n\">shape</span><span class=\"o\">=</span><span class=\"p\">(</span><span class=\"n\">n_particles</span><span class=\"p\">,),</span> <span class=\"n\">p</span><span class=\"o\">=</span><span class=\"n\">prob</span><span class=\"p\">)</span>\n",
       "\n",
       "\n",
       "<span class=\"k\">def</span> <span class=\"nf\">particle_filter_for</span><span class=\"p\">(</span><span class=\"n\">model</span><span class=\"p\">,</span> <span class=\"n\">y_meas</span><span class=\"p\">,</span> <span class=\"n\">theta</span><span class=\"p\">,</span> <span class=\"n\">n_particles</span><span class=\"p\">,</span> <span class=\"n\">key</span><span class=\"p\">):</span>\n",
       "    <span class=\"sd\">&quot;&quot;&quot;</span>\n",
       "<span class=\"sd\">    Apply particle filter for given value of `theta`.</span>\n",
       "\n",
       "<span class=\"sd\">    Closely follows Algorithm 2 of https://arxiv.org/pdf/1306.3277.pdf.</span>\n",
       "\n",
       "<span class=\"sd\">    This is the testing version which does the following:</span>\n",
       "\n",
       "<span class=\"sd\">    - Uses for-loops instead of `lax.scan` and `vmap/xmap`.</span>\n",
       "<span class=\"sd\">    - Only performs a bootstrap particle filter using `state_sample()` and `meas_lpdf()`.</span>\n",
       "\n",
       "<span class=\"sd\">    **FIXME:** Move this to the `tests` module.</span>\n",
       "\n",
       "<span class=\"sd\">    Args:</span>\n",
       "<span class=\"sd\">        model: Object specifying the state-space model.</span>\n",
       "<span class=\"sd\">        y_meas: The sequence of `n_obs` measurement variables `y_meas = (y_0, ..., y_T)`, where `T = n_obs-1`.</span>\n",
       "<span class=\"sd\">        theta: Parameter value.</span>\n",
       "<span class=\"sd\">        n_particles: Number of particles.</span>\n",
       "<span class=\"sd\">        key: PRNG key.</span>\n",
       "\n",
       "<span class=\"sd\">    Returns:</span>\n",
       "<span class=\"sd\">        A dictionary with elements:</span>\n",
       "<span class=\"sd\">            - `X_particles`: An `ndarray` with leading dimensions `(n_obs, n_particles)` containing the state variable particles.</span>\n",
       "<span class=\"sd\">            - `logw_particles`: An `ndarray` of shape `(n_obs, n_particles)` giving the unnormalized log-weights of each particle at each time point.</span>\n",
       "<span class=\"sd\">            - `ancestor_particles`: An integer `ndarray` of shape `(n_obs, n_particles)` where each element gives the index of the particle&#39;s ancestor at the previous time point.  Since the first time point does not have ancestors, the first row of `ancestor_particles` contains all `-1`.</span>\n",
       "<span class=\"sd\">    &quot;&quot;&quot;</span>\n",
       "    <span class=\"c1\"># memory allocation</span>\n",
       "    <span class=\"n\">n_obs</span> <span class=\"o\">=</span> <span class=\"n\">y_meas</span><span class=\"o\">.</span><span class=\"n\">shape</span><span class=\"p\">[</span><span class=\"mi\">0</span><span class=\"p\">]</span>\n",
       "    <span class=\"n\">X_particles</span> <span class=\"o\">=</span> <span class=\"n\">jnp</span><span class=\"o\">.</span><span class=\"n\">zeros</span><span class=\"p\">((</span><span class=\"n\">n_obs</span><span class=\"p\">,</span> <span class=\"n\">n_particles</span><span class=\"p\">,</span> <span class=\"n\">model</span><span class=\"o\">.</span><span class=\"n\">n_state</span><span class=\"p\">))</span>\n",
       "    <span class=\"n\">logw_particles</span> <span class=\"o\">=</span> <span class=\"n\">jnp</span><span class=\"o\">.</span><span class=\"n\">zeros</span><span class=\"p\">((</span><span class=\"n\">n_obs</span><span class=\"p\">,</span> <span class=\"n\">n_particles</span><span class=\"p\">))</span>\n",
       "    <span class=\"n\">ancestor_particles</span> <span class=\"o\">=</span> <span class=\"n\">jnp</span><span class=\"o\">.</span><span class=\"n\">zeros</span><span class=\"p\">((</span><span class=\"n\">n_obs</span><span class=\"p\">,</span> <span class=\"n\">n_particles</span><span class=\"p\">),</span> <span class=\"n\">dtype</span><span class=\"o\">=</span><span class=\"nb\">int</span><span class=\"p\">)</span>\n",
       "    <span class=\"c1\"># initial particles have no ancestors</span>\n",
       "    <span class=\"n\">ancestor_particles</span> <span class=\"o\">=</span> <span class=\"n\">ancestor_particles</span><span class=\"o\">.</span><span class=\"n\">at</span><span class=\"p\">[</span><span class=\"mi\">0</span><span class=\"p\">]</span><span class=\"o\">.</span><span class=\"n\">set</span><span class=\"p\">(</span><span class=\"o\">-</span><span class=\"mi\">1</span><span class=\"p\">)</span>\n",
       "    <span class=\"c1\"># initial time point</span>\n",
       "    <span class=\"n\">key</span><span class=\"p\">,</span> <span class=\"o\">*</span><span class=\"n\">subkeys</span> <span class=\"o\">=</span> <span class=\"n\">random</span><span class=\"o\">.</span><span class=\"n\">split</span><span class=\"p\">(</span><span class=\"n\">key</span><span class=\"p\">,</span> <span class=\"n\">num</span><span class=\"o\">=</span><span class=\"n\">n_particles</span><span class=\"o\">+</span><span class=\"mi\">1</span><span class=\"p\">)</span>\n",
       "    <span class=\"k\">for</span> <span class=\"n\">p</span> <span class=\"ow\">in</span> <span class=\"nb\">range</span><span class=\"p\">(</span><span class=\"n\">n_particles</span><span class=\"p\">):</span>\n",
       "        <span class=\"n\">X_particles</span> <span class=\"o\">=</span> <span class=\"n\">X_particles</span><span class=\"o\">.</span><span class=\"n\">at</span><span class=\"p\">[</span><span class=\"mi\">0</span><span class=\"p\">,</span> <span class=\"n\">p</span><span class=\"p\">]</span><span class=\"o\">.</span><span class=\"n\">set</span><span class=\"p\">(</span>\n",
       "            <span class=\"n\">model</span><span class=\"o\">.</span><span class=\"n\">init_sample</span><span class=\"p\">(</span><span class=\"n\">y_meas</span><span class=\"p\">[</span><span class=\"mi\">0</span><span class=\"p\">],</span> <span class=\"n\">theta</span><span class=\"p\">,</span> <span class=\"n\">subkeys</span><span class=\"p\">[</span><span class=\"n\">p</span><span class=\"p\">])</span>\n",
       "        <span class=\"p\">)</span>\n",
       "        <span class=\"n\">logw_particles</span> <span class=\"o\">=</span> <span class=\"n\">logw_particles</span><span class=\"o\">.</span><span class=\"n\">at</span><span class=\"p\">[</span><span class=\"mi\">0</span><span class=\"p\">,</span> <span class=\"n\">p</span><span class=\"p\">]</span><span class=\"o\">.</span><span class=\"n\">set</span><span class=\"p\">(</span>\n",
       "            <span class=\"n\">model</span><span class=\"o\">.</span><span class=\"n\">init_logw</span><span class=\"p\">(</span><span class=\"n\">X_particles</span><span class=\"p\">[</span><span class=\"mi\">0</span><span class=\"p\">,</span> <span class=\"n\">p</span><span class=\"p\">],</span> <span class=\"n\">y_meas</span><span class=\"p\">[</span><span class=\"mi\">0</span><span class=\"p\">],</span> <span class=\"n\">theta</span><span class=\"p\">)</span>\n",
       "        <span class=\"p\">)</span>\n",
       "    <span class=\"c1\"># X_particles = X_particles.at[0].set(</span>\n",
       "    <span class=\"c1\">#     jax.vmap(lambda k: model.init_sample(y_meas[0], theta, k))(</span>\n",
       "    <span class=\"c1\">#         jnp.array(subkeys)</span>\n",
       "    <span class=\"c1\">#     )</span>\n",
       "    <span class=\"c1\"># )</span>\n",
       "    <span class=\"c1\"># logw_particles = logw_particles.at[0].set(</span>\n",
       "    <span class=\"c1\">#     jax.vmap(lambda xs: model.init_logw(xs, y_meas[0], theta) +</span>\n",
       "    <span class=\"c1\">#              model.meas_lpdf(y_meas[0], xs, theta))(X_particles[0])</span>\n",
       "    <span class=\"c1\"># )</span>\n",
       "    <span class=\"c1\"># subsequent time points</span>\n",
       "    <span class=\"k\">for</span> <span class=\"n\">t</span> <span class=\"ow\">in</span> <span class=\"nb\">range</span><span class=\"p\">(</span><span class=\"mi\">1</span><span class=\"p\">,</span> <span class=\"n\">n_obs</span><span class=\"p\">):</span>\n",
       "        <span class=\"c1\"># resampling step</span>\n",
       "        <span class=\"n\">key</span><span class=\"p\">,</span> <span class=\"n\">subkey</span> <span class=\"o\">=</span> <span class=\"n\">random</span><span class=\"o\">.</span><span class=\"n\">split</span><span class=\"p\">(</span><span class=\"n\">key</span><span class=\"p\">)</span>\n",
       "        <span class=\"n\">ancestor_particles</span> <span class=\"o\">=</span> <span class=\"n\">ancestor_particles</span><span class=\"o\">.</span><span class=\"n\">at</span><span class=\"p\">[</span><span class=\"n\">t</span><span class=\"p\">]</span><span class=\"o\">.</span><span class=\"n\">set</span><span class=\"p\">(</span>\n",
       "            <span class=\"n\">particle_resample</span><span class=\"p\">(</span><span class=\"n\">logw_particles</span><span class=\"p\">[</span><span class=\"n\">t</span><span class=\"o\">-</span><span class=\"mi\">1</span><span class=\"p\">],</span> <span class=\"n\">subkey</span><span class=\"p\">)</span>\n",
       "        <span class=\"p\">)</span>\n",
       "        <span class=\"c1\"># update</span>\n",
       "        <span class=\"n\">key</span><span class=\"p\">,</span> <span class=\"o\">*</span><span class=\"n\">subkeys</span> <span class=\"o\">=</span> <span class=\"n\">random</span><span class=\"o\">.</span><span class=\"n\">split</span><span class=\"p\">(</span><span class=\"n\">key</span><span class=\"p\">,</span> <span class=\"n\">num</span><span class=\"o\">=</span><span class=\"n\">n_particles</span><span class=\"o\">+</span><span class=\"mi\">1</span><span class=\"p\">)</span>\n",
       "        <span class=\"k\">for</span> <span class=\"n\">p</span> <span class=\"ow\">in</span> <span class=\"nb\">range</span><span class=\"p\">(</span><span class=\"n\">n_particles</span><span class=\"p\">):</span>\n",
       "            <span class=\"n\">X_particles</span> <span class=\"o\">=</span> <span class=\"n\">X_particles</span><span class=\"o\">.</span><span class=\"n\">at</span><span class=\"p\">[</span><span class=\"n\">t</span><span class=\"p\">,</span> <span class=\"n\">p</span><span class=\"p\">]</span><span class=\"o\">.</span><span class=\"n\">set</span><span class=\"p\">(</span>\n",
       "                <span class=\"n\">model</span><span class=\"o\">.</span><span class=\"n\">state_sample</span><span class=\"p\">(</span><span class=\"n\">X_particles</span><span class=\"p\">[</span><span class=\"n\">t</span><span class=\"o\">-</span><span class=\"mi\">1</span><span class=\"p\">,</span> <span class=\"n\">ancestor_particles</span><span class=\"p\">[</span><span class=\"n\">t</span><span class=\"p\">,</span> <span class=\"n\">p</span><span class=\"p\">]],</span>\n",
       "                                   <span class=\"n\">theta</span><span class=\"p\">,</span> <span class=\"n\">subkeys</span><span class=\"p\">[</span><span class=\"n\">p</span><span class=\"p\">])</span>\n",
       "            <span class=\"p\">)</span>\n",
       "            <span class=\"n\">logw_particles</span> <span class=\"o\">=</span> <span class=\"n\">logw_particles</span><span class=\"o\">.</span><span class=\"n\">at</span><span class=\"p\">[</span><span class=\"n\">t</span><span class=\"p\">,</span> <span class=\"n\">p</span><span class=\"p\">]</span><span class=\"o\">.</span><span class=\"n\">set</span><span class=\"p\">(</span>\n",
       "                <span class=\"n\">model</span><span class=\"o\">.</span><span class=\"n\">meas_lpdf</span><span class=\"p\">(</span><span class=\"n\">y_meas</span><span class=\"p\">[</span><span class=\"n\">t</span><span class=\"p\">],</span> <span class=\"n\">X_particles</span><span class=\"p\">[</span><span class=\"n\">t</span><span class=\"p\">,</span> <span class=\"n\">p</span><span class=\"p\">],</span> <span class=\"n\">theta</span><span class=\"p\">)</span>\n",
       "            <span class=\"p\">)</span>\n",
       "        <span class=\"c1\"># X_particles = X_particles.at[t].set(</span>\n",
       "        <span class=\"c1\">#     jax.vmap(lambda xs, k: model.state_sample(xs, theta, k))(</span>\n",
       "        <span class=\"c1\">#         X_particles[t-1, ancestor_particles[t]], jnp.array(subkeys)</span>\n",
       "        <span class=\"c1\">#     )</span>\n",
       "        <span class=\"c1\"># )</span>\n",
       "        <span class=\"c1\"># logw_particles = logw_particles.at[t].set(</span>\n",
       "        <span class=\"c1\">#     jax.vmap(lambda xs: model.meas_lpdf(y_meas[t], xs, theta))(</span>\n",
       "        <span class=\"c1\">#         X_particles[t]</span>\n",
       "        <span class=\"c1\">#     )</span>\n",
       "        <span class=\"c1\"># )</span>\n",
       "    <span class=\"k\">return</span> <span class=\"p\">{</span>\n",
       "        <span class=\"s2\">&quot;X_particles&quot;</span><span class=\"p\">:</span> <span class=\"n\">X_particles</span><span class=\"p\">,</span>\n",
       "        <span class=\"s2\">&quot;logw_particles&quot;</span><span class=\"p\">:</span> <span class=\"n\">logw_particles</span><span class=\"p\">,</span>\n",
       "        <span class=\"s2\">&quot;ancestor_particles&quot;</span><span class=\"p\">:</span> <span class=\"n\">ancestor_particles</span>\n",
       "    <span class=\"p\">}</span>\n",
       "\n",
       "\n",
       "<span class=\"c1\"># @partial(jax.jit, static_argnums=2)</span>\n",
       "<span class=\"k\">def</span> <span class=\"nf\">particle_filter</span><span class=\"p\">(</span><span class=\"n\">model</span><span class=\"p\">,</span> <span class=\"n\">y_meas</span><span class=\"p\">,</span> <span class=\"n\">theta</span><span class=\"p\">,</span> <span class=\"n\">n_particles</span><span class=\"p\">,</span> <span class=\"n\">key</span><span class=\"p\">):</span>\n",
       "    <span class=\"sd\">&quot;&quot;&quot;</span>\n",
       "<span class=\"sd\">    Apply particle filter for given value of `theta`.</span>\n",
       "\n",
       "<span class=\"sd\">    Closely follows Algorithm 2 of https://arxiv.org/pdf/1306.3277.pdf.</span>\n",
       "\n",
       "<span class=\"sd\">    Args:</span>\n",
       "<span class=\"sd\">        model: Object specifying the state-space model.</span>\n",
       "<span class=\"sd\">        y_meas: The sequence of `n_obs` measurement variables `y_meas = (y_0, ..., y_T)`, where `T = n_obs-1`.</span>\n",
       "<span class=\"sd\">        theta: Parameter value.</span>\n",
       "<span class=\"sd\">        n_particles: Number of particles.</span>\n",
       "<span class=\"sd\">        key: PRNG key.</span>\n",
       "\n",
       "<span class=\"sd\">    Returns:</span>\n",
       "<span class=\"sd\">        A dictionary with elements:</span>\n",
       "<span class=\"sd\">            - `X_particles`: An `ndarray` with leading dimensions `(n_obs, n_particles)` containing the state variable particles.</span>\n",
       "<span class=\"sd\">            - `logw_particles`: An `ndarray` of shape `(n_obs, n_particles)` giving the unnormalized log-weights of each particle at each time point.</span>\n",
       "<span class=\"sd\">            - `ancestor_particles`: An integer `ndarray` of shape `(n_obs, n_particles)` where each element gives the index of the particle&#39;s ancestor at the previous time point.  Since the first time point does not have ancestors, the first row of `ancestor_particles` contains all `-1`.</span>\n",
       "<span class=\"sd\">    &quot;&quot;&quot;</span>\n",
       "    <span class=\"n\">n_obs</span> <span class=\"o\">=</span> <span class=\"n\">y_meas</span><span class=\"o\">.</span><span class=\"n\">shape</span><span class=\"p\">[</span><span class=\"mi\">0</span><span class=\"p\">]</span>\n",
       "\n",
       "    <span class=\"c1\"># lax.scan setup</span>\n",
       "    <span class=\"c1\"># scan function</span>\n",
       "    <span class=\"k\">def</span> <span class=\"nf\">fun</span><span class=\"p\">(</span><span class=\"n\">carry</span><span class=\"p\">,</span> <span class=\"n\">t</span><span class=\"p\">):</span>\n",
       "        <span class=\"c1\"># resampling step</span>\n",
       "        <span class=\"n\">key</span><span class=\"p\">,</span> <span class=\"n\">subkey</span> <span class=\"o\">=</span> <span class=\"n\">random</span><span class=\"o\">.</span><span class=\"n\">split</span><span class=\"p\">(</span><span class=\"n\">carry</span><span class=\"p\">[</span><span class=\"s2\">&quot;key&quot;</span><span class=\"p\">])</span>\n",
       "        <span class=\"n\">ancestor_particles</span> <span class=\"o\">=</span> <span class=\"n\">particle_resample</span><span class=\"p\">(</span><span class=\"n\">carry</span><span class=\"p\">[</span><span class=\"s2\">&quot;logw_particles&quot;</span><span class=\"p\">],</span>\n",
       "                                               <span class=\"n\">subkey</span><span class=\"p\">)</span>\n",
       "        <span class=\"c1\"># update particles</span>\n",
       "        <span class=\"n\">key</span><span class=\"p\">,</span> <span class=\"o\">*</span><span class=\"n\">subkeys</span> <span class=\"o\">=</span> <span class=\"n\">random</span><span class=\"o\">.</span><span class=\"n\">split</span><span class=\"p\">(</span><span class=\"n\">key</span><span class=\"p\">,</span> <span class=\"n\">num</span><span class=\"o\">=</span><span class=\"n\">n_particles</span><span class=\"o\">+</span><span class=\"mi\">1</span><span class=\"p\">)</span>\n",
       "        <span class=\"n\">X_particles</span><span class=\"p\">,</span> <span class=\"n\">logw_particles</span> <span class=\"o\">=</span> <span class=\"n\">jax</span><span class=\"o\">.</span><span class=\"n\">vmap</span><span class=\"p\">(</span>\n",
       "            <span class=\"k\">lambda</span> <span class=\"n\">xs</span><span class=\"p\">,</span> <span class=\"n\">k</span><span class=\"p\">:</span> <span class=\"n\">model</span><span class=\"o\">.</span><span class=\"n\">pf_step</span><span class=\"p\">(</span><span class=\"n\">xs</span><span class=\"p\">,</span> <span class=\"n\">y_meas</span><span class=\"p\">[</span><span class=\"n\">t</span><span class=\"p\">],</span> <span class=\"n\">theta</span><span class=\"p\">,</span> <span class=\"n\">k</span><span class=\"p\">)</span>\n",
       "        <span class=\"p\">)(</span><span class=\"n\">carry</span><span class=\"p\">[</span><span class=\"s2\">&quot;X_particles&quot;</span><span class=\"p\">][</span><span class=\"n\">ancestor_particles</span><span class=\"p\">],</span> <span class=\"n\">jnp</span><span class=\"o\">.</span><span class=\"n\">array</span><span class=\"p\">(</span><span class=\"n\">subkeys</span><span class=\"p\">))</span>\n",
       "        <span class=\"c1\"># X_particles = jax.vmap(lambda xs, k: model.state_sample(xs, theta, k))(</span>\n",
       "        <span class=\"c1\">#     carry[&quot;X_particles&quot;][ancestor_particles], jnp.array(subkeys)</span>\n",
       "        <span class=\"c1\"># )</span>\n",
       "        <span class=\"c1\"># # update log-weights</span>\n",
       "        <span class=\"c1\"># logw_particles = jax.vmap(</span>\n",
       "        <span class=\"c1\">#     lambda xs: model.meas_lpdf(y_meas[t], xs, theta)</span>\n",
       "        <span class=\"c1\"># )(X_particles)</span>\n",
       "        <span class=\"c1\"># breakpoint()</span>\n",
       "        <span class=\"c1\"># output</span>\n",
       "        <span class=\"n\">res</span> <span class=\"o\">=</span> <span class=\"p\">{</span>\n",
       "            <span class=\"s2\">&quot;ancestor_particles&quot;</span><span class=\"p\">:</span> <span class=\"n\">ancestor_particles</span><span class=\"p\">,</span>\n",
       "            <span class=\"s2\">&quot;logw_particles&quot;</span><span class=\"p\">:</span> <span class=\"n\">logw_particles</span><span class=\"p\">,</span>\n",
       "            <span class=\"s2\">&quot;X_particles&quot;</span><span class=\"p\">:</span> <span class=\"n\">X_particles</span><span class=\"p\">,</span>\n",
       "            <span class=\"s2\">&quot;key&quot;</span><span class=\"p\">:</span> <span class=\"n\">key</span>\n",
       "        <span class=\"p\">}</span>\n",
       "        <span class=\"k\">return</span> <span class=\"n\">res</span><span class=\"p\">,</span> <span class=\"n\">res</span>\n",
       "    <span class=\"c1\"># scan initial value</span>\n",
       "    <span class=\"n\">key</span><span class=\"p\">,</span> <span class=\"o\">*</span><span class=\"n\">subkeys</span> <span class=\"o\">=</span> <span class=\"n\">random</span><span class=\"o\">.</span><span class=\"n\">split</span><span class=\"p\">(</span><span class=\"n\">key</span><span class=\"p\">,</span> <span class=\"n\">num</span><span class=\"o\">=</span><span class=\"n\">n_particles</span><span class=\"o\">+</span><span class=\"mi\">1</span><span class=\"p\">)</span>\n",
       "    <span class=\"c1\"># vmap version</span>\n",
       "    <span class=\"n\">X_particles</span><span class=\"p\">,</span> <span class=\"n\">logw_particles</span> <span class=\"o\">=</span> <span class=\"n\">jax</span><span class=\"o\">.</span><span class=\"n\">vmap</span><span class=\"p\">(</span>\n",
       "        <span class=\"k\">lambda</span> <span class=\"n\">k</span><span class=\"p\">:</span> <span class=\"n\">model</span><span class=\"o\">.</span><span class=\"n\">pf_init</span><span class=\"p\">(</span><span class=\"n\">y_meas</span><span class=\"p\">[</span><span class=\"mi\">0</span><span class=\"p\">],</span> <span class=\"n\">theta</span><span class=\"p\">,</span> <span class=\"n\">k</span><span class=\"p\">))(</span><span class=\"n\">jnp</span><span class=\"o\">.</span><span class=\"n\">array</span><span class=\"p\">(</span><span class=\"n\">subkeys</span><span class=\"p\">))</span>\n",
       "    <span class=\"c1\"># X_particles = jax.vmap(</span>\n",
       "    <span class=\"c1\">#     lambda k: model.init_sample(y_meas[0], theta, k))(jnp.array(subkeys))</span>\n",
       "    <span class=\"c1\"># logw_particles = jax.vmap(</span>\n",
       "    <span class=\"c1\">#     lambda xs: model.init_logw(xs, y_meas[0], theta))(X_particles)</span>\n",
       "    <span class=\"c1\"># xmap version: experimental!</span>\n",
       "    <span class=\"c1\"># X_particles = xmap(</span>\n",
       "    <span class=\"c1\">#     lambda ym, th, k: model.init_sample(ym, th, k),</span>\n",
       "    <span class=\"c1\">#     in_axes=([...], [...], [&quot;particles&quot;, ...]),</span>\n",
       "    <span class=\"c1\">#     out_axes=[&quot;particles&quot;, ...])(y_meas[0], theta, jnp.array(subkeys))</span>\n",
       "    <span class=\"c1\"># logw_particles = xmap(</span>\n",
       "    <span class=\"c1\">#     lambda xs, ym, th: model.init_logw(xs, ym, th),</span>\n",
       "    <span class=\"c1\">#     in_axes=([&quot;particles&quot;, ...], [...], [...]),</span>\n",
       "    <span class=\"c1\">#     out_axes=[&quot;particles&quot;, ...])(X_particles, y_meas[0], theta)</span>\n",
       "    <span class=\"n\">init</span> <span class=\"o\">=</span> <span class=\"p\">{</span>\n",
       "        <span class=\"s2\">&quot;X_particles&quot;</span><span class=\"p\">:</span> <span class=\"n\">X_particles</span><span class=\"p\">,</span>\n",
       "        <span class=\"s2\">&quot;logw_particles&quot;</span><span class=\"p\">:</span> <span class=\"n\">logw_particles</span><span class=\"p\">,</span>\n",
       "        <span class=\"s2\">&quot;ancestor_particles&quot;</span><span class=\"p\">:</span> <span class=\"o\">-</span><span class=\"n\">jnp</span><span class=\"o\">.</span><span class=\"n\">ones</span><span class=\"p\">(</span><span class=\"n\">n_particles</span><span class=\"p\">,</span> <span class=\"n\">dtype</span><span class=\"o\">=</span><span class=\"nb\">int</span><span class=\"p\">),</span>\n",
       "        <span class=\"s2\">&quot;key&quot;</span><span class=\"p\">:</span> <span class=\"n\">key</span>\n",
       "    <span class=\"p\">}</span>\n",
       "    <span class=\"c1\"># lax.scan itself</span>\n",
       "    <span class=\"n\">last</span><span class=\"p\">,</span> <span class=\"n\">full</span> <span class=\"o\">=</span> <span class=\"n\">lax</span><span class=\"o\">.</span><span class=\"n\">scan</span><span class=\"p\">(</span><span class=\"n\">fun</span><span class=\"p\">,</span> <span class=\"n\">init</span><span class=\"p\">,</span> <span class=\"n\">jnp</span><span class=\"o\">.</span><span class=\"n\">arange</span><span class=\"p\">(</span><span class=\"mi\">1</span><span class=\"p\">,</span> <span class=\"n\">n_obs</span><span class=\"p\">))</span>\n",
       "    <span class=\"c1\"># append initial values</span>\n",
       "    <span class=\"n\">out</span> <span class=\"o\">=</span> <span class=\"p\">{</span>\n",
       "        <span class=\"n\">k</span><span class=\"p\">:</span> <span class=\"n\">jnp</span><span class=\"o\">.</span><span class=\"n\">append</span><span class=\"p\">(</span><span class=\"n\">jnp</span><span class=\"o\">.</span><span class=\"n\">expand_dims</span><span class=\"p\">(</span><span class=\"n\">init</span><span class=\"p\">[</span><span class=\"n\">k</span><span class=\"p\">],</span> <span class=\"n\">axis</span><span class=\"o\">=</span><span class=\"mi\">0</span><span class=\"p\">),</span> <span class=\"n\">full</span><span class=\"p\">[</span><span class=\"n\">k</span><span class=\"p\">],</span> <span class=\"n\">axis</span><span class=\"o\">=</span><span class=\"mi\">0</span><span class=\"p\">)</span>\n",
       "        <span class=\"k\">for</span> <span class=\"n\">k</span> <span class=\"ow\">in</span> <span class=\"p\">[</span><span class=\"s2\">&quot;X_particles&quot;</span><span class=\"p\">,</span> <span class=\"s2\">&quot;logw_particles&quot;</span><span class=\"p\">,</span> <span class=\"s2\">&quot;ancestor_particles&quot;</span><span class=\"p\">]</span>\n",
       "    <span class=\"p\">}</span>\n",
       "    <span class=\"k\">return</span> <span class=\"n\">out</span>\n",
       "\n",
       "\n",
       "<span class=\"k\">def</span> <span class=\"nf\">particle_loglik</span><span class=\"p\">(</span><span class=\"n\">logw_particles</span><span class=\"p\">):</span>\n",
       "    <span class=\"sd\">&quot;&quot;&quot;</span>\n",
       "<span class=\"sd\">    Calculate particle filter marginal loglikelihood.</span>\n",
       "\n",
       "<span class=\"sd\">    FIXME: Libbi paper does `logmeanexp` instead of `logsumexp`...</span>\n",
       "\n",
       "<span class=\"sd\">    Args:</span>\n",
       "<span class=\"sd\">        logw_particles: An `ndarray` of shape `(n_obs, n_particles)` giving the unnormalized log-weights of each particle at each time point.</span>\n",
       "\n",
       "<span class=\"sd\">    Returns:</span>\n",
       "<span class=\"sd\">        Particle filter approximation of</span>\n",
       "<span class=\"sd\">        ```</span>\n",
       "<span class=\"sd\">        log p(y_meas | theta) = log int p(y_meas | x_state, theta) * p(x_state | theta) dx_state</span>\n",
       "<span class=\"sd\">        ```</span>\n",
       "<span class=\"sd\">    &quot;&quot;&quot;</span>\n",
       "    <span class=\"k\">return</span> <span class=\"n\">jnp</span><span class=\"o\">.</span><span class=\"n\">sum</span><span class=\"p\">(</span><span class=\"n\">jsp</span><span class=\"o\">.</span><span class=\"n\">special</span><span class=\"o\">.</span><span class=\"n\">logsumexp</span><span class=\"p\">(</span><span class=\"n\">logw_particles</span><span class=\"p\">,</span> <span class=\"n\">axis</span><span class=\"o\">=</span><span class=\"mi\">1</span><span class=\"p\">))</span>\n",
       "\n",
       "\n",
       "<span class=\"k\">def</span> <span class=\"nf\">get_sum_lweights</span><span class=\"p\">(</span><span class=\"n\">theta</span><span class=\"p\">,</span> <span class=\"n\">key</span><span class=\"p\">,</span> <span class=\"n\">n_particles</span><span class=\"p\">,</span> <span class=\"n\">y_meas</span><span class=\"p\">,</span> <span class=\"n\">model</span><span class=\"p\">):</span>\n",
       "    <span class=\"sd\">&quot;&quot;&quot;</span>\n",
       "<span class=\"sd\">    </span>\n",
       "<span class=\"sd\">    Args:</span>\n",
       "<span class=\"sd\">        theta: A `jnp.array` that represents the values of the parameters.</span>\n",
       "<span class=\"sd\">        key: The key required for the prng.</span>\n",
       "<span class=\"sd\">        n_particles: The number of particles to use in the particle filter.</span>\n",
       "<span class=\"sd\">        y_meas: The measurements of the observations required for the particle filter.</span>\n",
       "<span class=\"sd\">        </span>\n",
       "<span class=\"sd\">    Returns:</span>\n",
       "<span class=\"sd\">        The sum of the particle log weights from the particle filters.</span>\n",
       "<span class=\"sd\">    &quot;&quot;&quot;</span>\n",
       "    \n",
       "    <span class=\"n\">ret</span> <span class=\"o\">=</span> <span class=\"n\">particle_filter</span><span class=\"p\">(</span><span class=\"n\">model</span><span class=\"p\">,</span> <span class=\"n\">y_meas</span><span class=\"p\">,</span> <span class=\"n\">theta</span><span class=\"p\">,</span> <span class=\"n\">n_particles</span><span class=\"p\">,</span> <span class=\"n\">key</span><span class=\"p\">)</span>\n",
       "    <span class=\"n\">sum_particle_lweights</span> <span class=\"o\">=</span> <span class=\"n\">particle_loglik</span><span class=\"p\">(</span><span class=\"n\">ret</span><span class=\"p\">[</span><span class=\"s1\">&#39;logw_particles&#39;</span><span class=\"p\">])</span>\n",
       "    <span class=\"k\">return</span> <span class=\"n\">sum_particle_lweights</span>\n",
       "\n",
       "\n",
       "<span class=\"k\">def</span> <span class=\"nf\">update_params</span><span class=\"p\">(</span><span class=\"n\">params</span><span class=\"p\">,</span> <span class=\"n\">subkey</span><span class=\"p\">,</span> <span class=\"n\">grad_fun</span><span class=\"o\">=</span><span class=\"kc\">None</span><span class=\"p\">,</span> <span class=\"n\">n_particles</span><span class=\"o\">=</span><span class=\"mi\">100</span><span class=\"p\">,</span> <span class=\"n\">y_meas</span><span class=\"o\">=</span><span class=\"kc\">None</span><span class=\"p\">,</span> <span class=\"n\">model</span><span class=\"o\">=</span><span class=\"kc\">None</span><span class=\"p\">,</span> <span class=\"n\">learning_rate</span><span class=\"o\">=</span><span class=\"mf\">0.01</span><span class=\"p\">,</span> <span class=\"n\">mask</span><span class=\"o\">=</span><span class=\"kc\">None</span><span class=\"p\">):</span>\n",
       "    <span class=\"n\">params_update</span> <span class=\"o\">=</span> <span class=\"n\">jax</span><span class=\"o\">.</span><span class=\"n\">grad</span><span class=\"p\">(</span><span class=\"n\">grad_fun</span><span class=\"p\">,</span> <span class=\"n\">argnums</span><span class=\"o\">=</span><span class=\"mi\">0</span><span class=\"p\">)(</span><span class=\"n\">params</span><span class=\"p\">,</span> <span class=\"n\">subkey</span><span class=\"p\">,</span> <span class=\"n\">n_particles</span><span class=\"p\">,</span> <span class=\"n\">y_meas</span><span class=\"p\">,</span> <span class=\"n\">model</span><span class=\"p\">)</span>\n",
       "    <span class=\"k\">return</span> <span class=\"n\">params</span> <span class=\"o\">+</span> <span class=\"n\">learning_rate</span> <span class=\"o\">*</span> <span class=\"p\">(</span><span class=\"n\">jnp</span><span class=\"o\">.</span><span class=\"n\">where</span><span class=\"p\">(</span><span class=\"n\">mask</span><span class=\"p\">,</span> <span class=\"n\">params_update</span><span class=\"p\">,</span> <span class=\"mi\">0</span><span class=\"p\">))</span>\n",
       "\n",
       "\n",
       "<span class=\"k\">def</span> <span class=\"nf\">stoch_opt</span><span class=\"p\">(</span><span class=\"n\">model</span><span class=\"p\">,</span> <span class=\"n\">params</span><span class=\"p\">,</span> <span class=\"n\">grad_fun</span><span class=\"p\">,</span> <span class=\"n\">y_meas</span><span class=\"p\">,</span> <span class=\"n\">n_particles</span><span class=\"o\">=</span><span class=\"mi\">100</span><span class=\"p\">,</span> <span class=\"n\">iterations</span><span class=\"o\">=</span><span class=\"mi\">10</span><span class=\"p\">,</span> \n",
       "              <span class=\"n\">learning_rate</span><span class=\"o\">=</span><span class=\"mf\">0.01</span><span class=\"p\">,</span> <span class=\"n\">key</span><span class=\"o\">=</span><span class=\"mi\">1</span><span class=\"p\">,</span> <span class=\"n\">mask</span><span class=\"o\">=</span><span class=\"kc\">None</span><span class=\"p\">):</span>\n",
       "    <span class=\"sd\">&quot;&quot;&quot;</span>\n",
       "<span class=\"sd\">    Args:</span>\n",
       "<span class=\"sd\">        params: A jnp.array that represents the initial values of the parameters.</span>\n",
       "<span class=\"sd\">        grad_fun: The function which we would like to take the gradient with respect to.</span>\n",
       "<span class=\"sd\">        y_meas: The measurements of the observations required for the particle filter.</span>\n",
       "<span class=\"sd\">        n_particles: The number of particles to use in the particle filter.</span>\n",
       "<span class=\"sd\">        learning_rate: The learning rate for the gradient descent algorithm.</span>\n",
       "<span class=\"sd\">        iterations: The number of iterations to run the gradient descent for.</span>\n",
       "<span class=\"sd\">        key: The key required for the prng.</span>\n",
       "<span class=\"sd\">        </span>\n",
       "<span class=\"sd\">    Returns:</span>\n",
       "<span class=\"sd\">        The stochastic approximation of theta which are the parameters of the model. </span>\n",
       "<span class=\"sd\">    &quot;&quot;&quot;</span>\n",
       "    <span class=\"n\">partial_update_params</span> <span class=\"o\">=</span> <span class=\"n\">partial</span><span class=\"p\">(</span><span class=\"n\">update_params</span><span class=\"p\">,</span> <span class=\"n\">n_particles</span><span class=\"o\">=</span><span class=\"n\">n_particles</span><span class=\"p\">,</span> <span class=\"n\">y_meas</span><span class=\"o\">=</span><span class=\"n\">y_meas</span><span class=\"p\">,</span> \n",
       "                                    <span class=\"n\">model</span><span class=\"o\">=</span><span class=\"n\">model</span><span class=\"p\">,</span> <span class=\"n\">learning_rate</span><span class=\"o\">=</span><span class=\"n\">learning_rate</span><span class=\"p\">,</span> <span class=\"n\">mask</span><span class=\"o\">=</span><span class=\"n\">mask</span><span class=\"p\">,</span> <span class=\"n\">grad_fun</span><span class=\"o\">=</span><span class=\"n\">grad_fun</span><span class=\"p\">)</span>\n",
       "    <span class=\"n\">update_fn</span> <span class=\"o\">=</span> <span class=\"n\">jax</span><span class=\"o\">.</span><span class=\"n\">jit</span><span class=\"p\">(</span><span class=\"n\">partial_update_params</span><span class=\"p\">,</span> <span class=\"n\">donate_argnums</span><span class=\"o\">=</span><span class=\"p\">(</span><span class=\"mi\">0</span><span class=\"p\">,))</span>\n",
       "    <span class=\"n\">keys</span> <span class=\"o\">=</span> <span class=\"n\">random</span><span class=\"o\">.</span><span class=\"n\">split</span><span class=\"p\">(</span><span class=\"n\">key</span><span class=\"p\">,</span> <span class=\"n\">iterations</span><span class=\"p\">)</span>\n",
       "    <span class=\"k\">for</span> <span class=\"n\">subkey</span> <span class=\"ow\">in</span> <span class=\"n\">keys</span><span class=\"p\">:</span>\n",
       "        <span class=\"n\">params</span> <span class=\"o\">=</span> <span class=\"n\">update_fn</span><span class=\"p\">(</span><span class=\"n\">params</span><span class=\"p\">,</span> <span class=\"n\">subkey</span><span class=\"p\">)</span>\n",
       "        <span class=\"nb\">print</span><span class=\"p\">(</span><span class=\"n\">params</span><span class=\"p\">)</span>\n",
       "    <span class=\"k\">return</span> <span class=\"n\">params</span>\n",
       "</pre></div>\n"
      ]
     },
     "metadata": {},
     "execution_count": 2
    }
   ],
   "metadata": {}
  },
  {
   "cell_type": "markdown",
   "source": [
    "### Tests with `pmap`\n",
    "\n",
    "A few interesting threads:\n",
    "\n",
    "- [Here's](https://github.com/google/jax/issues/5506) to tell XLA to use multiple CPUs.\n",
    "- Not sure what happens if you set more devices than there are cores, so perhaps best to use `vmap` inside `pmap`.  However, could potentially do with [`xmap`](https://jax.readthedocs.io/en/latest/notebooks/xmap_tutorial.html) instead.  Note there an alternative way of setting the number of CPU devices from within Python, but may not actually dispatch to multiple cores..."
   ],
   "metadata": {}
  },
  {
   "cell_type": "code",
   "execution_count": 1,
   "source": [
    "import jax\n",
    "jax.devices()"
   ],
   "outputs": [
    {
     "output_type": "stream",
     "name": "stderr",
     "text": [
      "WARNING:absl:No GPU/TPU found, falling back to CPU. (Set TF_CPP_MIN_LOG_LEVEL=0 and rerun for more info.)\n"
     ]
    },
    {
     "output_type": "execute_result",
     "data": {
      "text/plain": [
       "[<jaxlib.xla_extension.Device at 0x7fea2504aa70>]"
      ]
     },
     "metadata": {},
     "execution_count": 1
    }
   ],
   "metadata": {}
  },
  {
   "cell_type": "markdown",
   "source": [
    "### Data members"
   ],
   "metadata": {}
  },
  {
   "cell_type": "code",
   "execution_count": 15,
   "source": [
    "from jax.tree_util import register_pytree_node\n",
    "\n",
    "\n",
    "class World:\n",
    "    def __init__(self, p, v):\n",
    "        self.p = p\n",
    "        self.v = v\n",
    "        \n",
    "    def set_v(self, v):\n",
    "        self.v = v\n",
    "\n",
    "register_pytree_node(World,\n",
    "                    lambda x: ((x.p, x.v), None),\n",
    "                    lambda _, tup: World(tup[0], tup[1]))\n",
    "\n",
    "\n",
    "fun = jax.jit(lambda world, x: world.p + world.v + x, static_argnums=0)\n",
    "\n",
    "world = World(jnp.array([1.]), jnp.array([2.]))\n",
    "x = jnp.array([3.])\n",
    "\n",
    "y1 = fun(world, x)\n",
    "world.p = jnp.array([4.])\n",
    "y2 = fun(world, x)\n",
    "world.set_v(jnp.array([4.]))\n",
    "y3 = fun(world, x)\n",
    "world = World(jnp.array([1.]), jnp.array([4.]))\n",
    "y4 = fun(world, x)\n",
    "\n",
    "print(\"y1 = {}, y_2 = {}, y_3 = {}, y_4 = {}\".format(y1, y2, y3, y4))"
   ],
   "outputs": [
    {
     "output_type": "stream",
     "name": "stdout",
     "text": [
      "y1 = [6.], y_2 = [6.], y_3 = [6.], y_4 = [8.]\n"
     ]
    }
   ],
   "metadata": {}
  },
  {
   "cell_type": "code",
   "execution_count": 17,
   "source": [
    "fun2 = jax.jit(lambda world, x: world[\"p\"] + world[\"v\"] + x, static_argnums=0)\n",
    "\n",
    "world = {\"p\": jnp.array([1.]), \"v\": jnp.array([2.])}\n",
    "x = jnp.array(3.)\n",
    "\n",
    "y1 = fun2(world, x)\n",
    "world[\"v\"] = jnp.array([4.])\n",
    "y2 = fun2(world, x)\n",
    "world = {\"p\": jnp.array([1.]), \"v\": jnp.array([4.])}\n",
    "y3 = fun2(world, x)\n",
    "\n",
    "print(\"y1 = {}, y_2 = {}, y_3 = {}\".format(y1, y2, y3))"
   ],
   "outputs": [
    {
<<<<<<< HEAD:examples/pfjax.ipynb
     "data": {
      "text/plain": [
       "<seaborn.axisgrid.FacetGrid at 0x7faeb819c970>"
      ]
     },
     "execution_count": 7,
     "metadata": {},
     "output_type": "execute_result"
    },
    {
     "data": {
      "image/png": "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",
      "text/plain": [
       "<Figure size 423.125x360 with 1 Axes>"
      ]
     },
     "metadata": {
      "needs_background": "light"
     },
     "output_type": "display_data"
=======
     "output_type": "error",
     "ename": "ValueError",
     "evalue": "Non-hashable static arguments are not supported. An error occured during a call to '<lambda>' while trying to hash an object of type <class 'dict'>, {'p': DeviceArray([1.], dtype=float64), 'v': DeviceArray([2.], dtype=float64)}. The error was:\nTypeError: unhashable type: 'dict'\n",
     "traceback": [
      "\u001b[0;31m---------------------------------------------------------------------------\u001b[0m",
      "\u001b[0;31mValueError\u001b[0m                                Traceback (most recent call last)",
      "\u001b[0;32m/var/folders/8r/t8wdg7cj2mq1fx4h1546v1y40000gn/T/ipykernel_99547/96960422.py\u001b[0m in \u001b[0;36m<module>\u001b[0;34m\u001b[0m\n\u001b[1;32m      4\u001b[0m \u001b[0mx\u001b[0m \u001b[0;34m=\u001b[0m \u001b[0mjnp\u001b[0m\u001b[0;34m.\u001b[0m\u001b[0marray\u001b[0m\u001b[0;34m(\u001b[0m\u001b[0;36m3.\u001b[0m\u001b[0;34m)\u001b[0m\u001b[0;34m\u001b[0m\u001b[0;34m\u001b[0m\u001b[0m\n\u001b[1;32m      5\u001b[0m \u001b[0;34m\u001b[0m\u001b[0m\n\u001b[0;32m----> 6\u001b[0;31m \u001b[0my1\u001b[0m \u001b[0;34m=\u001b[0m \u001b[0mfun2\u001b[0m\u001b[0;34m(\u001b[0m\u001b[0mworld\u001b[0m\u001b[0;34m,\u001b[0m \u001b[0mx\u001b[0m\u001b[0;34m)\u001b[0m\u001b[0;34m\u001b[0m\u001b[0;34m\u001b[0m\u001b[0m\n\u001b[0m\u001b[1;32m      7\u001b[0m \u001b[0mworld\u001b[0m\u001b[0;34m[\u001b[0m\u001b[0;34m\"v\"\u001b[0m\u001b[0;34m]\u001b[0m \u001b[0;34m=\u001b[0m \u001b[0mjnp\u001b[0m\u001b[0;34m.\u001b[0m\u001b[0marray\u001b[0m\u001b[0;34m(\u001b[0m\u001b[0;34m[\u001b[0m\u001b[0;36m4.\u001b[0m\u001b[0;34m]\u001b[0m\u001b[0;34m)\u001b[0m\u001b[0;34m\u001b[0m\u001b[0;34m\u001b[0m\u001b[0m\n\u001b[1;32m      8\u001b[0m \u001b[0my2\u001b[0m \u001b[0;34m=\u001b[0m \u001b[0mfun2\u001b[0m\u001b[0;34m(\u001b[0m\u001b[0mworld\u001b[0m\u001b[0;34m,\u001b[0m \u001b[0mx\u001b[0m\u001b[0;34m)\u001b[0m\u001b[0;34m\u001b[0m\u001b[0;34m\u001b[0m\u001b[0m\n",
      "\u001b[0;31mValueError\u001b[0m: Non-hashable static arguments are not supported. An error occured during a call to '<lambda>' while trying to hash an object of type <class 'dict'>, {'p': DeviceArray([1.], dtype=float64), 'v': DeviceArray([2.], dtype=float64)}. The error was:\nTypeError: unhashable type: 'dict'\n"
     ]
>>>>>>> updating lotvol model + pushing unstaged commits:pfjax.ipynb
    }
   ],
   "metadata": {}
  },
  {
   "cell_type": "code",
   "execution_count": 7,
   "source": [
    "import numpy as np\n",
    "import pandas as pd\n",
    "import seaborn as sns\n",
    "from proj_data import proj_data\n",
    "\n",
    "# Simulate some data\n",
    "key = random.PRNGKey(10)\n",
    "\n",
    "# parameter values\n",
    "mu = 5.\n",
    "sigma = .2\n",
    "tau = 1.\n",
    "theta = np.array([mu, sigma, tau])\n",
    "# data specification\n",
    "dt = .2\n",
    "n_obs = 100\n",
    "x_init = jnp.array([0.])\n",
    "\n",
    "# simulate data\n",
    "key, subkey = random.split(key)\n",
    "y_meas, x_state = meas_sim(n_obs, x_init, theta, subkey)\n",
    "\n",
    "# plot data\n",
    "plot_df = (pd.DataFrame({\"time\": jnp.arange(n_obs) * dt,\n",
    "                         \"state\": jnp.squeeze(x_state),\n",
    "                         \"meas\": jnp.squeeze(y_meas)})\n",
    "           .melt(id_vars=\"time\", var_name=\"type\"))\n",
    "sns.relplot(\n",
    "    data=plot_df, kind=\"line\",\n",
    "    x=\"time\", y=\"value\", hue=\"type\"\n",
    ")"
   ],
   "outputs": [
    {
     "output_type": "execute_result",
     "data": {
      "text/plain": [
       "<seaborn.axisgrid.FacetGrid at 0x7faeb819c970>"
      ]
     },
     "metadata": {},
     "execution_count": 7
    },
    {
     "output_type": "display_data",
     "data": {
      "text/plain": [
       "<Figure size 423.125x360 with 1 Axes>"
      ],
      "image/png": "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"
     },
     "metadata": {
      "needs_background": "light"
     }
    }
   ],
   "metadata": {}
  },
  {
   "cell_type": "code",
   "execution_count": 22,
   "source": [
    "# now with particle filter\n",
    "n_particles = 100\n",
    "theta = jnp.array([mu, sigma, tau])\n",
    "%timeit pf_out = particle_filter_scan(y_meas, theta, n_particles, key)"
   ],
   "outputs": [
    {
     "output_type": "stream",
     "name": "stdout",
     "text": [
      "1.17 ms ± 18.2 µs per loop (mean ± std. dev. of 7 runs, 1000 loops each)\n"
     ]
    }
   ],
   "metadata": {}
  },
  {
   "cell_type": "code",
   "execution_count": null,
   "source": [
    "# for tau = 0, MLE of mu and sigma are analytically available\n",
    "mu_hat = jnp.mean(jnp.diff(jnp.squeeze(y_meas)))/dt\n",
    "sigma_hat = jnp.sqrt(jnp.mean((jnp.diff(jnp.squeeze(y_meas)) - mu*dt)**2)/dt)\n",
    "sigma_hat2 = jnp.std(jnp.diff(jnp.squeeze(y_meas))) / np.sqrt(dt)\n",
    "print(\"mu_hat = \", mu_hat)\n",
    "print(\"sigma_hat = \", sigma_hat)\n",
    "print(\"sigma_hat2 = \", sigma_hat2)\n",
    "print(\"theta = \", theta)\n",
    "# bm_loglik(y_meas, dt, np.array([mu, sigma, tau]))"
   ],
   "outputs": [],
   "metadata": {}
  },
  {
   "cell_type": "code",
   "execution_count": null,
   "source": [
    "plot_df = (pd.DataFrame(np.concatenate((plot_data[0], plot_data[1])).T,\n",
    "                        columns=[a+b for b in map(str, [\"_x\", \"_y\"]) for a in theta_names])\n",
    "           .melt()\n",
    "           )\n",
    "plot_df[[\"theta\", \"axis\"]] = plot_df[\"variable\"].str.split(\"_\", 1, expand=True)\n",
    "plot_df = plot_df[[\"axis\", \"theta\", \"value\"]]\n",
    "# plot_df\n",
    "plot_df.pivot(columns=\"axis\", values=[\"theta\", \"value\"])\n",
    "# df = pd.DataFrame({'foo': ['one', 'one', 'one', 'two', 'two',\n",
    "#                           'two'],\n",
    "#                   'bar': ['A', 'B', 'C', 'A', 'B', 'C'],\n",
    "#                   'baz': [1, 2, 3, 4, 5, 6],\n",
    "#                   'zoo': ['x', 'y', 'z', 'q', 'w', 't']})\n",
    "# df\n",
    "#df.pivot(index='foo', columns='bar', values='baz')"
   ],
   "outputs": [],
   "metadata": {}
  },
  {
   "cell_type": "code",
   "execution_count": null,
   "source": [
    "pd.DataFrame(\n",
    "    jnp.array([[4, 7, 10],\n",
    "               [5, 8, 11],\n",
    "               [6, 9, 12]]),\n",
    "    #index=[1, 2, 3],\n",
    "    columns=['a', 'b', 'c'])"
   ],
   "outputs": [],
   "metadata": {}
  },
  {
   "cell_type": "code",
   "execution_count": null,
   "source": [
    "# check how smooth random.choice is\n",
    "\n",
    "key = random.PRNGKey(2)\n",
    "\n",
    "\n",
    "def fun(p):\n",
    "    \"\"\"\n",
    "    Sample one draw from a Bernoulli with probability `p`.\n",
    "    \"\"\"\n",
    "    return random.choice(key, a=jnp.arange(2), p=jnp.array([p, 1-p]))\n",
    "\n",
    "\n",
    "# see how output varies as we keep the seed fixed but let p range between 0 and 1\n",
    "n = 100\n",
    "prob = jnp.linspace(0, 1, n)\n",
    "x = jnp.zeros(n)\n",
    "for i in range(n):\n",
    "    x = x.at[i].set(fun(prob[i]))\n",
    "\n",
    "# result: sampler is indeed smooth in p.\n",
    "x"
   ],
   "outputs": [],
   "metadata": {}
  },
  {
   "cell_type": "code",
   "execution_count": null,
   "source": [],
   "outputs": [],
   "metadata": {}
  },
  {
   "cell_type": "code",
   "execution_count": null,
   "source": [],
   "outputs": [],
   "metadata": {}
  }
 ],
 "metadata": {
  "kernelspec": {
   "name": "python3",
   "display_name": "Python 3.8.10 64-bit ('venv')"
  },
  "language_info": {
   "codemirror_mode": {
    "name": "ipython",
    "version": 3
   },
   "file_extension": ".py",
   "mimetype": "text/x-python",
   "name": "python",
   "nbconvert_exporter": "python",
   "pygments_lexer": "ipython3",
<<<<<<< HEAD:examples/pfjax.ipynb
   "version": "3.8.12"
  },
  "latex_envs": {
   "LaTeX_envs_menu_present": true,
   "autoclose": false,
   "autocomplete": true,
   "bibliofile": "biblio.bib",
   "cite_by": "apalike",
   "current_citInitial": 1,
   "eqLabelWithNumbers": true,
   "eqNumInitial": 1,
   "hotkeys": {
    "equation": "Ctrl-E",
    "itemize": "Ctrl-I"
   },
   "labels_anchors": false,
   "latex_user_defs": true,
   "report_style_numbering": false,
   "user_envs_cfg": false
=======
   "version": "3.8.10"
  },
  "interpreter": {
   "hash": "3849fec6f104c4f701a07d704832359eef675aa93204e7ba332c115d44682deb"
>>>>>>> updating lotvol model + pushing unstaged commits:pfjax.ipynb
  }
 },
 "nbformat": 4,
 "nbformat_minor": 4
}