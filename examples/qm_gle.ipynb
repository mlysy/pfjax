{
 "cells": [
  {
   "cell_type": "markdown",
   "id": "db49c672",
   "metadata": {},
   "source": [
    "# Quasi-Markovian Approximation of the Generalized Langevin Equation (QM-GLE)\n",
    "\n",
    "**Feiyu Zhu**\n",
    "\n",
    "\n",
    "## Simplified QM-GLE \n",
    "\n",
    "After applying an orthogonal transformation to diagonalize the positive definite matrix in the memory kernel, we can simplify the original QM-GLE to the following SDE:\n",
    "\n",
    "$$\n",
    "\\begin{aligned}\n",
    "\\ud X(t) &= V(t) \\ud t \\\\\n",
    "\\ud V(t) &= -U'_{\\pph}(X(t)) \\ud t + \\sum_{i=1}^m \\mu_i Z_i(t)  \\ud t \\\\\n",
    "\\ud Z_i(t) &= -\\left(\\mu_i V(t) + \\rho_i Z_i(t) \\right) \\ud t + \\sqrt{2\\rho_i}/\\beta \\ud B_i(t), & i = 1,\\ldots,m\n",
    "\\end{aligned}\n",
    "$$\n",
    "\n",
    "where $X(t)$ is the observed (continuous-time) process whereas $V(t), Z(t)$ are latent, $U_{\\pph}(X)$ is the potential energy function which depends on parameters $\\pph$ ($U_{\\pph}'(X)$ is its first-order derivative wrt $X$), $\\beta$, $\\mu_i$, $\\rho_i$ are unknown (positive) parameters, $\\BB(t) = (B_1(t), \\ldots, B_m(t))$ is an $m$-dimensional Brownian motion."
   ]
  },
  {
   "cell_type": "markdown",
   "id": "f774c3c4",
   "metadata": {},
   "source": [
    "## Modified Euler Discretization\n",
    "\n",
    "Let $t_n = n \\dt$, $\\WW(t) = (X(t), V(t), \\ZZ(t))$, $X_n = X(t_n)$, $\\Delta X_n = X_{n+1} - X_n$, and similarly for $\\Delta \\WW_n$, $V_n$, $\\Delta V_n$, $\\Delta Z_{ni}$, etc.  Then the SDE above becomes\n",
    "\n",
    "$$\n",
    "\\begin{aligned}\n",
    "\\Delta X_n    & = \\int_{t_n}^{t_n+\\dt} V(t) \\ud t \\\\\n",
    "\\Delta V_n    & = \\int_{t_n}^{t_n+\\dt} \\left[-U'_{\\pph}(X(t)) + \\sum_{i=1}^m \\mu_i Z_i(t)\\right]  \\ud t \\\\\n",
    "              & \\approx -U'_{\\pph}(X_n) \\dt + \\int_{t_n}^{t_n+\\dt} \\sum_{i=1}^m \\mu_i Z_i(t) \\ud t \\\\\n",
    "\\Delta Z_{ni} & = - \\int_{t_n}^{t_n+1} \\left(\\mu_i V(t) + \\rho_i Z_i(t) \\right) \\ud t + \\sqrt{2\\rho_i}/\\beta \\int_{t_n}^{t_n+\\dt} \\ud B_i(t) \\\\\n",
    "              & \\approx -\\left(\\mu_i V_n + \\rho_i Z_{ni}\\right)\\dt + \\sigma_i \\Delta B_{ni},\n",
    "\\end{aligned}\n",
    "$$\n",
    "\n",
    "where $\\sigma_i = \\sqrt{2\\rho_i}/\\beta$.  Note that the last approximation can be obtained by requiring $Z_i(t)$ to be Brownian motion with drift $\\lambda_{ni} = \\mu_i V_n + \\rho_i Z_{ni}$ and diffusion $\\sigma_i$ over the interval $t \\in [t_n, t_n+\\dt]$.  Using this approximation, $\\Delta V_n$ and $\\Delta X_n$ become single and double integrals of Brownian motion, for which the joint distribution is analytically available:\n",
    "\n",
    "- Let $B(t)^{(0}$ be standard Brownian motion, and let $B^{(1)}(t)$ and $B^{(2)}(t)$ denote its first and second integrals.  Then the joint distribution of $\\BB(t) = (B^{(2)}(t), B^{(1)}(t), B^{(0)}(t))$ is\n",
    "\n",
    "    $$\n",
    "    \\BB(t) \\sim \\N\\left\\{\\bz, \\Sigma(t) = \\begin{pmatrix}\n",
    "    \\frac{t^5}{20}  & \\frac{t^4}{8} & \\frac{t^3}{6} \\\\\n",
    "      \\frac{t^4}{8}   & \\frac{t^3}{3}  & \\frac{t^2}{2} \\\\\n",
    "      \\frac{t^3}{6}   & \\frac{t^2}{2}  & t\n",
    "    \\end{pmatrix}\\right\\}.\n",
    "    $$\n",
    "    \n",
    "- Let $\\BB_i(t) = (B_i^{(2)}(t), B_i^{(1)}(t), B_i^{(0)}(t))$ denote iid triplets as above, with $i = 1, \\ldots, m$.  Then $\\BB(t) = (\\BB_1(t), \\ldots, \\BB_m(t))$ is a multivariate normal with mean 0 and variance $\\SSi = \\diag(\\SSi(t), \\ldots, \\SSi(t))$.\n",
    " \n",
    "- Note that $\\Delta \\WW_n$ is a linear transformation of $\\Delta \\BB_n = \\BB(\\dt)$.  Use this to find its variance.\n",
    "\n",
    "- At the end of the day, we should have something like\n",
    "\n",
    "    $$\n",
    "    \\WW(t_n + s) = \\WW_n + \\bm{g}(\\WW_n, \\tth, s) + \\bm{h}(\\WW_n, \\tth) \\mathcal{\\bm{Z}}, \n",
    "    $$\n",
    "    \n",
    "    where $\\mathcal{\\bm{Z}}$ is a multivariate normal with mean zero and variance depending on $s$.  Use this to try to figure out the bridge proposal.\n",
    "    \n",
    "Some further derivation:\n",
    "\n",
    "Let $\\mmu = (\\mu_1, \\ldots, \\mu_m)$, $\\dr_n = (\\lambda_{n1}, \\ldots, \\lambda_{nm})$, $\\ssi = (\\sigma_1, \\ldots, \\sigma_m)$, $\\Delta \\BB_n^{(k)} = (B^{(k)}(\\dt), \\ldots, B^{(k)}(\\dt))$, $k=0,1,2,\\ldots$.\n",
    "\n",
    "$$\n",
    "\\begin{aligned}\n",
    "\\Delta \\ZZ_n &= -\\dr_{n} \\dt + \\ssi \\odot \\Delta \\BB_n^{(0)} \\\\\n",
    "\\Delta V_n &= -U'_{\\pph}(X_n) \\dt + \\int_{t_n}^{t_n+\\dt} \\mmu' (\\ZZ_n + \\Delta \\ZZ(t)) \\ud t \\\\\n",
    "           &= -U'_{\\pph}(X_n) \\dt + \\mmu' \\left(\\ZZ_n \\dt - \\dr_n \\frac{\\dt^2}{2} \\right) + \\mmu' (\\ssi \\odot \\Delta \\BB_n^{(1)}) \\\\\n",
    "\\Delta X_n &= -U'_{\\pph}(X_n) \\frac{\\dt^2}{2} + \\mmu' \\ZZ_n \\frac{\\dt^2}{2} - \\mmu' \\dr_n \\frac{\\dt^3}{6} + \\mmu' (\\ssi \\odot \\Delta \\BB_n^{(2)}).\n",
    "\\end{aligned}\n",
    "$$\n",
    "\n",
    "where $\\odot$ denotes the element-wise matrix multiplication.\n",
    "\n",
    "Starting from the $3m \\times 1$ vector \n",
    "\n",
    "$$\n",
    "\\BB_n(\\dt) = \\begin{pmatrix} \\BB_n^{(2)}(\\dt) \\\\ \\BB_n^{(1)}(\\dt) \\\\ \\BB_n^{(0)}(\\dt) \\end{pmatrix}\n",
    "$$\n",
    "\n",
    "we can obtain\n",
    "\n",
    "$$\n",
    "\\Delta \\WW_n = \\begin{pmatrix} \n",
    "-U'_{\\pph}(X_n) \\frac{\\dt^2}{2} + \\mmu' \\left(\\ZZ_n \\frac{\\dt^2}{2} - \\dr_n \\frac{\\dt^3}{6}\\right) \\\\ \n",
    "-U'_{\\pph}(X_n) \\dt + \\mmu' \\left(\\ZZ_n \\dt - \\dr_n \\frac{\\dt^2}{2} \\right) \\\\\n",
    "-\\dr_{n} \\dt\n",
    "\\end{pmatrix} + \\mmu' \\begin{pmatrix} \\ssi & & \\\\ & \\ssi & \\\\ & & \\ssi \\end{pmatrix}_{3m \\times 3m} \\BB_n(\\dt).\n",
    "$$"
   ]
  },
  {
   "cell_type": "markdown",
   "id": "58e5e4d1",
   "metadata": {},
   "source": [
    "## Old Materials Below (should be removed later)"
   ]
  },
  {
   "cell_type": "markdown",
   "id": "811eff2f",
   "metadata": {},
   "source": [
    "## Euler-Maruyama Discretization\n",
    "\n",
    "$$\n",
    "\\begin{aligned}\n",
    "X_n - X_{n-1} &= V_{n-1} \\dt \\\\\n",
    "V_{n} - V_{n-1} &= U'(X_{n-1})\\dt + \\sum_{i=1}^m \\mu_i Z_{i,n-1} \\dt \\\\\n",
    "Z_{i,n} - Z_{i,n-1} &= - \\left(\\mu_i V_{n-1} + \\rho_i Z_{i,n-1} \\right)\\dt + \\sqrt{2\\rho_i}/\\beta \\Delta W_{i,n-1} & i=1,\\ldots,m\n",
    "\\end{aligned}\n",
    "$$\n",
    "\n",
    "where $\\Delta W_{i,n} = W_{i,n} - W_{i, n-1} \\iid \\N(0, \\dt)$, $m \\ge 1$ is predetermined."
   ]
  },
  {
   "cell_type": "markdown",
   "id": "4755aa96",
   "metadata": {},
   "source": [
    "## Idea 1: Bridge Proposal \n",
    "\n",
    "Let $\\WW_{n} = (W_{1,n}, \\ldots, W_{m,n})$.\n",
    "\n",
    "$$\n",
    "\\begin{aligned}\n",
    "\\Delta \\WW_{n-1} &\\sim \\N(\\bz, \\dt \\II)\\\\\n",
    "Z_{i,n} \\mid \\WW & \\sim \\N(W_{i,n-1} + \\mu_{Z_{i,n-1}|W}, 2\\rho_i \\dt/\\beta^2 \\II), & \\mu_{Z_{i,n-1}|W} = - \\left(\\mu_i V_{n-1} + \\rho_i Z_{i,n-1} \\right)\\dt,  \\\\\n",
    "V_n \\mid X_{n-1}, Z_{n-1}, \\WW &\\sim \\N(V_{n-1} + \\mu_{V_{n-1}|Z}, \\bz), & \\mu_{V_{n-1}|Z} = U'(X_{n-1})\\dt + \\sum_{i=1}^m \\mu_i \\mu_{Z_{i,n-1}|W} \\dt \\\\\n",
    "X_n \\mid V_{n-1}, Z_{n-1}, \\WW & \\sim \\N(X_{n-1} + \\mu_{X|V}, \\bz), & \\mu_{X|V} = \\dt \\mu_{V_{n-1}|Z}\n",
    "\\end{aligned}\n",
    "$$"
   ]
  },
  {
   "cell_type": "markdown",
   "id": "04f69691",
   "metadata": {},
   "source": [
    "## Idea 2: Simulation based on Integrated Wiener Process ($m=1$)\n",
    "\n"
   ]
  },
  {
   "cell_type": "markdown",
   "id": "1e6e79ae",
   "metadata": {},
   "source": [
    "The reason why we try to apply the integrated Wiener process is that we want to introduce more randomness to the first and second equations (which are deterministic) in the QM-GLE SDE.\n",
    "\n",
    "Draw the initial values $Z_0, V_0, X_0$ from some priors.\n",
    "\n",
    "Generate a multivariate normal random vector $\\WW_n = (\\Delta W^{(2)}_n, \\Delta W^{(1)}_n, \\Delta W_n)$ \n",
    "\n",
    "$$\n",
    "\\WW_n \\sim \\N\\left(\\bm{0}, \\SSi \\right), \\qquad \n",
    "\\SSi = \\begin{pmatrix}\n",
    "  \\frac{(\\Delta t)^5}{20}  & \\frac{(\\Delta t)^4}{8} & \\frac{(\\Delta t)^3}{6} \\\\\n",
    "  \\frac{(\\Delta t)^4}{8}   & \\frac{(\\Delta t)^3}{3}  & \\frac{(\\Delta t)^2}{2} \\\\\n",
    "  \\frac{(\\Delta t)^3}{6}   & \\frac{(\\Delta t)^2}{2}  & \\Delta t\n",
    "\\end{pmatrix}\n",
    "$$\n",
    "\n",
    "Given samples at time $n\\Delta t$ ($n=0,1,\\ldots$), we can generate $Z_{n+1}, V_{n+1}, X_{n+1}$ as follows\n",
    "\n",
    "$$\n",
    "\\begin{aligned}\n",
    "  Z_{n+1} &= Z_n - \\left(\\mu V_n + \\rho Z_n \\right)\\Delta t + \\sigma \\Delta W_n \\\\\n",
    "  V_{n+1} &= V_n - U'(X_n)\\Delta t + \\mu Z_n\\Delta t - \\mu \\left(\\mu V_n + \\rho Z_n\\right)\\frac{(\\Delta t)^2}{2} + \\mu\\sigma\\Delta W^{(1)}_n \\\\\n",
    "  X_{n+1} &= X_n - U'(X_n)\\frac{(\\Delta t)^2}{2} + \\mu Z_n\\frac{(\\Delta t)^2}{2} - \\mu \\left(\\mu V_n + \\rho Z_n \\right)\\frac{(\\Delta t)^3}{6} + \\mu\\sigma \\Delta W^{(2)}_n\n",
    "\\end{aligned}\n",
    "$$\n",
    "\n",
    "We only need to calculate $Z_n, V_n$ for $n=1,\\ldots,N-1$ to obtain the sequence $X_1, \\ldots, X_N$.\n"
   ]
  },
  {
   "cell_type": "markdown",
   "id": "c0ab58c4",
   "metadata": {},
   "source": []
  }
 ],
 "metadata": {
  "kernelspec": {
   "display_name": "Python 3",
   "language": "python",
   "name": "python3"
  },
  "language_info": {
   "codemirror_mode": {
    "name": "ipython",
    "version": 3
   },
   "file_extension": ".py",
   "mimetype": "text/x-python",
   "name": "python",
   "nbconvert_exporter": "python",
   "pygments_lexer": "ipython3",
   "version": "3.9.10"
  },
  "latex_envs": {
   "LaTeX_envs_menu_present": true,
   "autoclose": false,
   "autocomplete": false,
   "bibliofile": "biblio.bib",
   "cite_by": "apalike",
   "current_citInitial": 1,
   "eqLabelWithNumbers": true,
   "eqNumInitial": 1,
   "hotkeys": {
    "equation": "Ctrl-E",
    "itemize": "Ctrl-I"
   },
   "labels_anchors": false,
   "latex_user_defs": true,
   "report_style_numbering": false,
   "user_envs_cfg": false
  }
 },
 "nbformat": 4,
 "nbformat_minor": 5
}
