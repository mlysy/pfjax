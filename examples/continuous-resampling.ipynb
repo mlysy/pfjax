{
 "cells": [
  {
   "cell_type": "markdown",
   "metadata": {},
   "source": [
    "Malik and Pitt resampling:\n",
    "\n",
    "We are assuming that we have a set of uniforms that we use\n",
    "to invert the cdf $\\tilde{F}(x)$ above. So, we have the set of N, sorted in ascending order, uniform variates u1 < · · · < uN . The generation of the, possibly stratified, uniforms is discussed later in this appendix.\n",
    "\n",
    "\n",
    "The pseudo-algorithm given below samples the index corre- sponding to the region which are stored as r1, r2, . . . , rN , and also produces a new set of uniforms, u∗1, . . . , u∗N \n",
    "\n",
    "set s = 0, j = 1; for {i = 0 : N}\n",
    "{\n",
    "    s = s + πi;\n",
    "    while(uj ≤s & j≤N){\n",
    "        rj =i;\n",
    "        u∗j = (uj − (s − πi))/πi \n",
    "        j=j+1\n",
    "}\n",
    "\n",
    "For the selected regions where $r^j = 0$, we set $x_j^* = x^{(1)}$ and when $r^j = N$ we set $x_j^* = x^{(N)}$. Otherwise set: \n",
    "(x(rj+1) − x(rj)) × u∗j + x(rj\n",
    "$x_j^* = (x^{(r^j+1)} - x^{(r^j)}) * u_j^* + x^{(r^j)}$\n",
    "\n",
    "### Goal:\n",
    "\n",
    "Sample $x_1,...,x_n$ from $f(x)$ with weights $\\pi_j, j=1,...,n$"
   ]
  },
  {
   "cell_type": "code",
   "execution_count": 8,
   "metadata": {},
   "outputs": [],
   "source": [
    "import numpy as np\n",
    "from scipy.stats import norm\n",
    "import matplotlib.pyplot as plt"
   ]
  },
  {
   "cell_type": "code",
   "execution_count": 10,
   "metadata": {},
   "outputs": [
    {
     "name": "stdout",
     "output_type": "stream",
     "text": [
      "[ 1.76405235  0.40015721  0.97873798  2.2408932   1.86755799 -0.97727788\n",
      "  0.95008842 -0.15135721 -0.10321885  0.4105985 ]\n",
      "[0.08417319 0.36824698 0.24711473 0.03239537 0.0697509  0.24746786\n",
      " 0.25403772 0.39439867 0.39682274 0.3666916 ]\n"
     ]
    }
   ],
   "source": [
    "np.random.seed(0)\n",
    "\n",
    "N = 10\n",
    "rv = norm()\n",
    "x = rv.rvs(size=N)\n",
    "print(x)\n",
    "\n",
    "w = rv.pdf(x)\n",
    "print(w)"
   ]
  },
  {
   "cell_type": "code",
   "execution_count": 31,
   "metadata": {},
   "outputs": [
    {
     "data": {
      "image/png": "[encoded data removed]",
      "text/plain": [
       "<Figure size 432x288 with 1 Axes>"
      ]
     },
     "metadata": {
      "needs_background": "light"
     },
     "output_type": "display_data"
    }
   ],
   "source": [
    "plt.hist(x, cumulative=True, label='CDF',\n",
    "         histtype='step', alpha=0.8, color='k');"
   ]
  },
  {
   "cell_type": "code",
   "execution_count": 11,
   "metadata": {
    "scrolled": true
   },
   "outputs": [
    {
     "name": "stdout",
     "output_type": "stream",
     "text": [
      "Normalized weights, pi:  [0.03420145 0.149627   0.10040825 0.01316297 0.02834135 0.10055174\n",
      " 0.10322122 0.16025302 0.16123797 0.14899502]\n",
      "U:  [0.05488135 0.15488135 0.25488135 0.35488135 0.45488135 0.55488135\n",
      " 0.65488135 0.75488135 0.85488135 0.95488135]\n"
     ]
    }
   ],
   "source": [
    "# sorted uniform variates: \n",
    "np.random.seed(0)\n",
    "\n",
    "# normalized weights\n",
    "pi = w/sum(w)\n",
    "print(\"Normalized weights, pi: \", pi)\n",
    "\n",
    "U = np.random.uniform()\n",
    "j = np.arange(N)\n",
    "\n",
    "u = j/N + U/N\n",
    "print(\"U: \", u)"
   ]
  },
  {
   "cell_type": "code",
   "execution_count": 45,
   "metadata": {},
   "outputs": [
    {
     "data": {
      "text/plain": [
       "array([1., 1., 2., 5., 6., 7., 7., 8., 9., 9.])"
      ]
     },
     "execution_count": 45,
     "metadata": {},
     "output_type": "execute_result"
    }
   ],
   "source": [
    "s = 0\n",
    "j = 0\n",
    "r = np.zeros(N)\n",
    "u_new = np.zeros(N)\n",
    "\n",
    "for i in range(N):\n",
    "    s = s + pi[i]\n",
    "    while (j < N) and (u[j] < s):\n",
    "        r[j] = i\n",
    "        u_new[j] = (u[j] - (s - pi[i]))/pi[i]\n",
    "        j += 1\n",
    "        \n",
    "r"
   ]
  },
  {
   "cell_type": "code",
   "execution_count": 46,
   "metadata": {},
   "outputs": [
    {
     "name": "stdout",
     "output_type": "stream",
     "text": [
      "1\n",
      "0.4001572083672233\n",
      "1\n",
      "0.4001572083672233\n",
      "2\n",
      "0.9787379841057392\n",
      "5\n",
      "-0.977277879876411\n",
      "6\n",
      "0.9500884175255894\n",
      "7\n",
      "-0.1513572082976979\n",
      "7\n",
      "-0.1513572082976979\n",
      "8\n",
      "-0.10321885179355784\n",
      "9\n",
      "0.41059850193837233\n"
     ]
    },
    {
     "ename": "IndexError",
     "evalue": "index 10 is out of bounds for axis 0 with size 10",
     "output_type": "error",
     "traceback": [
      "\u001b[0;31m---------------------------------------------------------------------------\u001b[0m",
      "\u001b[0;31mIndexError\u001b[0m                                Traceback (most recent call last)",
      "\u001b[0;32m<ipython-input-46-fdda26207de0>\u001b[0m in \u001b[0;36m<module>\u001b[0;34m\u001b[0m\n\u001b[1;32m      8\u001b[0m     \u001b[0mprint\u001b[0m\u001b[0;34m(\u001b[0m\u001b[0mrj\u001b[0m\u001b[0;34m)\u001b[0m\u001b[0;34m\u001b[0m\u001b[0;34m\u001b[0m\u001b[0m\n\u001b[1;32m      9\u001b[0m     \u001b[0mprint\u001b[0m\u001b[0;34m(\u001b[0m\u001b[0mx\u001b[0m\u001b[0;34m[\u001b[0m\u001b[0mrj\u001b[0m\u001b[0;34m]\u001b[0m\u001b[0;34m)\u001b[0m\u001b[0;34m\u001b[0m\u001b[0;34m\u001b[0m\u001b[0m\n\u001b[0;32m---> 10\u001b[0;31m     \u001b[0mx_new\u001b[0m\u001b[0;34m[\u001b[0m\u001b[0mj\u001b[0m\u001b[0;34m]\u001b[0m \u001b[0;34m=\u001b[0m \u001b[0;34m(\u001b[0m\u001b[0mx\u001b[0m\u001b[0;34m[\u001b[0m\u001b[0mrj\u001b[0m \u001b[0;34m+\u001b[0m \u001b[0;36m1\u001b[0m\u001b[0;34m]\u001b[0m \u001b[0;34m-\u001b[0m \u001b[0mx\u001b[0m\u001b[0;34m[\u001b[0m\u001b[0mrj\u001b[0m\u001b[0;34m]\u001b[0m\u001b[0;34m)\u001b[0m\u001b[0;34m*\u001b[0m\u001b[0mu_new\u001b[0m\u001b[0;34m[\u001b[0m\u001b[0mj\u001b[0m\u001b[0;34m]\u001b[0m \u001b[0;34m+\u001b[0m \u001b[0mx\u001b[0m\u001b[0;34m[\u001b[0m\u001b[0mrj\u001b[0m\u001b[0;34m]\u001b[0m\u001b[0;34m\u001b[0m\u001b[0;34m\u001b[0m\u001b[0m\n\u001b[0m\u001b[1;32m     11\u001b[0m \u001b[0;34m\u001b[0m\u001b[0m\n\u001b[1;32m     12\u001b[0m \u001b[0mx_new\u001b[0m\u001b[0;34m\u001b[0m\u001b[0;34m\u001b[0m\u001b[0m\n",
      "\u001b[0;31mIndexError\u001b[0m: index 10 is out of bounds for axis 0 with size 10"
     ]
    }
   ],
   "source": [
    "x_new = np.zeros(N)\n",
    "\n",
    "# x_new[r == 0] = r[r == 0]\n",
    "# x_new[r == N] = r[r == N]\n",
    "\n",
    "for j in range(N-1):\n",
    "    rj = int(r[j])\n",
    "    if rj + 1 <= N:\n",
    "        # sample last region\n",
    "        pass\n",
    "    else:\n",
    "        x_new[j] = (x[rj + 1] - x[rj])*u_new[j] + x[rj]\n",
    "\n",
    "x_new"
   ]
  },
  {
   "cell_type": "code",
   "execution_count": 47,
   "metadata": {},
   "outputs": [],
   "source": [
    "def continuous_stratified_resample(weights, xs):\n",
    "    n = len(weights)\n",
    "    # generate n uniform rvs with stratified method\n",
    "    u0 = np.random.uniform(size=1)\n",
    "    u = [(u0 + i) / n for i in range(n)]\n",
    "    pi = np.zeros(n + 1)\n",
    "    pi[0] = weights[0] / 2\n",
    "    pi[n] = weights[-1] / 2\n",
    "    for i in range(1, n):\n",
    "        pi[i] = (weights[i] + weights[i - 1]) / 2\n",
    "    # algo described in the paper A.3.\n",
    "    # pi = np.append(0, weights)\n",
    "    r = np.zeros(n)\n",
    "    u_new = np.zeros(n)\n",
    "    s = 0\n",
    "    j = 1\n",
    "\n",
    "    for i in range(n + 1):\n",
    "        s = s + pi[i]\n",
    "        while(j <= n and u[j - 1] <= s):\n",
    "            r[j - 1] = i\n",
    "            u_new[j - 1] = (u[j - 1] - (s - pi[i])) / pi[i]\n",
    "            j = j + 1\n",
    "\n",
    "    r = r.astype(int)\n",
    "\n",
    "    x_new = np.zeros(n)\n",
    "    for k in range(n):\n",
    "        if r[k] == 0:\n",
    "            x_new[k] = xs[0]\n",
    "        elif r[k] == n:\n",
    "            x_new[k] = xs[-1]\n",
    "        else:\n",
    "            x_new[k] = (xs[r[k]] - xs[r[k] - 1]) * u_new[k] + xs[r[k] - 1]\n",
    "    return x_new"
   ]
  },
  {
   "cell_type": "code",
   "execution_count": 49,
   "metadata": {},
   "outputs": [],
   "source": [
    "x_new = continuous_stratified_resample(pi, x)"
   ]
  },
  {
   "cell_type": "code",
   "execution_count": 55,
   "metadata": {},
   "outputs": [
    {
     "data": {
      "image/png": "[encoded data removed]",
      "text/plain": [
       "<Figure size 432x288 with 1 Axes>"
      ]
     },
     "metadata": {
      "needs_background": "light"
     },
     "output_type": "display_data"
    }
   ],
   "source": [
    "plt.hist(x_new, cumulative=True, label='cont-CDF',\n",
    "         histtype='step', alpha=0.8, color='k')\n",
    "plt.hist(x, cumulative=True, label='CDF',\n",
    "         histtype='step', alpha=0.8, color='r')\n",
    "plt.legend();"
   ]
  },
  {
   "cell_type": "code",
   "execution_count": null,
   "metadata": {},
   "outputs": [],
   "source": []
  }
 ],
 "metadata": {
  "kernelspec": {
   "display_name": "Python 3",
   "language": "python",
   "name": "python3"
  },
  "language_info": {
   "codemirror_mode": {
    "name": "ipython",
    "version": 3
   },
   "file_extension": ".py",
   "mimetype": "text/x-python",
   "name": "python",
   "nbconvert_exporter": "python",
   "pygments_lexer": "ipython3",
   "version": "3.6.13"
  },
  "latex_envs": {
   "LaTeX_envs_menu_present": true,
   "autoclose": false,
   "autocomplete": true,
   "bibliofile": "biblio.bib",
   "cite_by": "apalike",
   "current_citInitial": 1,
   "eqLabelWithNumbers": true,
   "eqNumInitial": 1,
   "hotkeys": {
    "equation": "Ctrl-E",
    "itemize": "Ctrl-I"
   },
   "labels_anchors": false,
   "latex_user_defs": false,
   "report_style_numbering": false,
   "user_envs_cfg": false
  }
 },
 "nbformat": 4,
 "nbformat_minor": 4
}
