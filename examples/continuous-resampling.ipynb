{
 "cells": [
  {
   "cell_type": "markdown",
   "metadata": {},
   "source": [
    "Goal: Take a sample from $x_1, ..., x_n$ proportional to weights $w_1, ..., w_n$ continuously. i.e. Not a multinomial smaple\n",
    "\n",
    "Malik and Pitt resampling:\n",
    "\n",
    "We are assuming that we have a set of uniforms that we use\n",
    "to invert the cdf $\\tilde{F}(x)$ above. So, we have the set of N, sorted in ascending order, uniform variates u1 < · · · < uN . The generation of the, possibly stratified, uniforms is discussed later in this appendix.\n",
    "\n",
    "\n",
    "The pseudo-algorithm given below samples the index corre- sponding to the region which are stored as r1, r2, . . . , rN , and also produces a new set of uniforms, u∗1, . . . , u∗N \n",
    "\n",
    "set s = 0, j = 1; for {i = 0 : N}\n",
    "{\n",
    "    s = s + πi;\n",
    "    while(uj ≤s & j≤N){\n",
    "        rj =i;\n",
    "        u∗j = (uj − (s − πi))/πi \n",
    "        j=j+1\n",
    "}\n",
    "\n",
    "For the selected regions where $r^j = 0$, we set $x_j^* = x^{(1)}$ and when $r^j = N$ we set $x_j^* = x^{(N)}$. Otherwise set: \n",
    "(x(rj+1) − x(rj)) × u∗j + x(rj\n",
    "$x_j^* = (x^{(r^j+1)} - x^{(r^j)}) * u_j^* + x^{(r^j)}$\n",
    "\n",
    "### Goal:\n",
    "\n",
    "Sample $x_1,...,x_n$ from $f(x)$ with weights $\\pi_j, j=1,...,n$"
   ]
  },
  {
   "cell_type": "code",
   "execution_count": 68,
   "metadata": {},
   "outputs": [],
   "source": [
    "import numpy as np\n",
    "from scipy.stats import norm\n",
    "import matplotlib.pyplot as plt\n",
    "import seaborn as sns\n",
    "\n",
    "import jax\n",
    "from jax import random\n",
    "import jax.numpy as jnp\n",
    "\n",
    "%matplotlib inline\n",
    "%config InlineBackend.figure_format = 'retina'\n",
    "sns.set()"
   ]
  },
  {
   "cell_type": "code",
   "execution_count": 2,
   "metadata": {},
   "outputs": [
    {
     "name": "stdout",
     "output_type": "stream",
     "text": [
      "[1.76405235 0.40015721 0.97873798 2.2408932  1.86755799]\n",
      "[0.10499584 0.45934343 0.30824565 0.0404093  0.08700579]\n"
     ]
    }
   ],
   "source": [
    "np.random.seed(0)\n",
    "\n",
    "N = 5\n",
    "rv = norm()\n",
    "x = rv.rvs(size=N)\n",
    "print(x)\n",
    "\n",
    "w = rv.pdf(x)\n",
    "w = w / sum(w)\n",
    "print(w)"
   ]
  },
  {
   "cell_type": "code",
   "execution_count": 3,
   "metadata": {},
   "outputs": [
    {
     "name": "stdout",
     "output_type": "stream",
     "text": [
      "dict_keys([1.764052345967664, 0.4001572083672233, 0.9787379841057392, 2.240893199201458, 1.8675579901499675])\n"
     ]
    },
    {
     "data": {
      "text/plain": [
       "{0.4001572083672233: 0.45934343207532335,\n",
       " 0.9787379841057392: 0.30824564791308834,\n",
       " 1.764052345967664: 0.10499583727389594,\n",
       " 1.8675579901499675: 0.08700578587308815,\n",
       " 2.240893199201458: 0.0404092968646043}"
      ]
     },
     "execution_count": 3,
     "metadata": {},
     "output_type": "execute_result"
    }
   ],
   "source": [
    "x_dict = dict(zip(x, w))\n",
    "print(x_dict.keys())\n",
    "\n",
    "sorted_x_dict = dict(sorted(x_dict.items(), key = lambda x: x[0]))\n",
    "sorted_x = np.array(list(sorted_x_dict.keys()))\n",
    "sorted_weights = np.array(list(sorted_x_dict.values()))\n",
    "sorted_x_dict"
   ]
  },
  {
   "cell_type": "code",
   "execution_count": 4,
   "metadata": {},
   "outputs": [
    {
     "data": {
      "image/png": "[encoded data removed]",
      "text/plain": [
       "<Figure size 432x288 with 1 Axes>"
      ]
     },
     "metadata": {
      "needs_background": "light"
     },
     "output_type": "display_data"
    }
   ],
   "source": [
    "sns.ecdfplot(x=x, weights = w);"
   ]
  },
  {
   "cell_type": "code",
   "execution_count": 190,
   "metadata": {},
   "outputs": [],
   "source": [
    "def jax_cont_resample (weights, xs, key):\n",
    "    \"\"\"\n",
    "    Change `seed` to `key`\n",
    "    \"\"\"\n",
    "    n = len(weights)\n",
    "    u_new = jnp.zeros(n)\n",
    "    u0 = random.uniform(key)\n",
    "    u = (u0 + np.arange(n)) / n\n",
    "    u = jnp.array([0.14303787, 0.34303787, 0.54303787, 0.74303787, 0.94303787])\n",
    "    \n",
    "    pi = np.zeros(n + 1)\n",
    "    pi[0] = weights[0] / 2\n",
    "    pi[n] = weights[-1] / 2\n",
    "    pi[1:n] = (weights[:-1] + weights[1:]) / 2\n",
    "    \n",
    "    def region_mid (k, val):\n",
    "        xs = val[\"x\"]\n",
    "        r = val[\"r\"]\n",
    "        u_new = val[\"u_new\"]\n",
    "        return (xs[r[k]] - xs[r[k] - 1]) * u_new[k] + xs[r[k] - 1]\n",
    "    \n",
    "    def while_loop_func (val):\n",
    "        u_j = val[\"u\"][val[\"j\"]]\n",
    "        pi_i = val[\"pi\"][val[\"i\"]]\n",
    "        \n",
    "        val[\"r\"] = val[\"r\"].at[val[\"j\"]].set(val[\"i\"])\n",
    "        val[\"u_new\"] = val[\"u_new\"].at[val[\"j\"]].set((u_j - (val[\"s\"] - pi_i)) / pi_i)\n",
    "        \n",
    "        # select region: \n",
    "        new_x = jax.lax.cond(\n",
    "            val[\"r\"][val[\"j\"]] == 0,\n",
    "            lambda _: val[\"x\"][0],\n",
    "            lambda _: jax.lax.cond(\n",
    "                val[\"r\"][val[\"j\"]] == n,\n",
    "                lambda _: val[\"x\"][-1],\n",
    "                lambda _: region_mid(val[\"j\"], val),\n",
    "                val\n",
    "            ),\n",
    "            val\n",
    "        )\n",
    "        val[\"x_new\"] = val[\"x_new\"].at[val[\"j\"]].set(new_x)\n",
    "        val[\"j\"] += 1\n",
    "        return val \n",
    "\n",
    "    def while_cond (val):\n",
    "        return jnp.logical_and(val[\"j\"] <= n, val[\"u\"][val[\"j\"]] <= val[\"s\"])\n",
    "    \n",
    "    def for_loop_func (i, val):\n",
    "        val[\"s\"] += val[\"pi\"][i]\n",
    "        val[\"i\"] = i\n",
    "        val = jax.lax.while_loop(while_cond, while_loop_func, val)\n",
    "        return val\n",
    " \n",
    "    init_val = {\n",
    "        \"j\": 0,\n",
    "        \"r\": jnp.zeros(n, int),\n",
    "        \"s\": 0,\n",
    "        \"i\": 0,\n",
    "        \"u\": u,\n",
    "        \"u_new\": jnp.zeros(n),\n",
    "        \"x\": xs,\n",
    "        \"x_new\": jnp.zeros(n),\n",
    "        \"pi\": pi}\n",
    "    \n",
    "    val = jax.lax.fori_loop(0, n, for_loop_func, init_val)\n",
    "\n",
    "    # select region: \n",
    "    new_x = jax.lax.cond(\n",
    "        val[\"r\"][val[\"j\"]] == 0,\n",
    "        lambda _: val[\"x\"][0],\n",
    "        lambda _: jax.lax.cond(\n",
    "            val[\"r\"][val[\"j\"]] == n,\n",
    "            lambda _: val[\"x\"][-1],\n",
    "            lambda _: region_mid(val[\"j\"], val),\n",
    "            val\n",
    "        ),\n",
    "        val\n",
    "    )\n",
    "    val[\"x_new\"] = val[\"x_new\"].at[val[\"j\"]].set(new_x)\n",
    "    \n",
    "    return val[\"x_new\"]"
   ]
  },
  {
   "cell_type": "code",
   "execution_count": 191,
   "metadata": {},
   "outputs": [],
   "source": [
    "def continuous_stratified_resample(weights, xs):\n",
    "    \"\"\"\n",
    "    Args: \n",
    "        - weights: normalized weights with indices corresponding to xs. This is represented by \\pi in the paper\n",
    "        - xs: samples sorted in ascending order. Represented by x^{(k)} in the paper. \n",
    "\n",
    "    \"\"\"\n",
    "    n = len(weights)\n",
    "    u0 = np.random.uniform(size=1)\n",
    "    u = (u0 + np.arange(n)) / n\n",
    "    u = np.array([0.14303787, 0.34303787, 0.54303787, 0.74303787, 0.94303787])\n",
    "#     print(u)\n",
    "    \n",
    "    # A.1: general form of continuous distribution\n",
    "    pi = np.zeros(n + 1)\n",
    "    pi[0] = weights[0] / 2\n",
    "    pi[n] = weights[-1] / 2\n",
    "    pi[1:n] = (weights[:-1] + weights[1:]) / 2\n",
    "\n",
    "    # A.3\n",
    "    r = np.zeros(n)\n",
    "    u_new = np.zeros(n)\n",
    "    s = 0\n",
    "    j = 1\n",
    "\n",
    "    for i in range(n + 1):\n",
    "        s = s + pi[i]\n",
    "        while(j <= n and u[j - 1] <= s):\n",
    "            r[j - 1] = i\n",
    "            u_new[j - 1] = (u[j - 1] - (s - pi[i])) / pi[i]\n",
    "            j = j + 1\n",
    "\n",
    "    r = r.astype(int)\n",
    "\n",
    "    x_new = np.zeros(n)\n",
    "    for k in range(n):\n",
    "        if r[k] == 0:\n",
    "            x_new[k] = xs[0]\n",
    "        elif r[k] == n:\n",
    "            x_new[k] = xs[-1]\n",
    "        else:\n",
    "            x_new[k] = (xs[r[k]] - xs[r[k] - 1]) * u_new[k] + xs[r[k] - 1]\n",
    "    return x_new"
   ]
  },
  {
   "cell_type": "code",
   "execution_count": 194,
   "metadata": {},
   "outputs": [
    {
     "name": "stdout",
     "output_type": "stream",
     "text": [
      "Numpy version (fixed U):  [0.40015721 0.57105979 0.87256526 1.47120766 2.02548915]\n",
      "JAX version (fixed U):  [0.4001572 0.5710598 0.8725653 1.4712076 2.025489 ]\n"
     ]
    }
   ],
   "source": [
    "print(\"Numpy version (fixed U): \", continuous_stratified_resample(sorted_weights, sorted_x))\n",
    "\n",
    "print(\"JAX version (fixed U): \", jax_cont_resample(jnp.array(sorted_weights), \n",
    "                                                   jnp.array(sorted_x), \n",
    "                                                   key = random.PRNGKey(0)))"
   ]
  },
  {
   "cell_type": "code",
   "execution_count": 196,
   "metadata": {},
   "outputs": [],
   "source": [
    "x_new_samples = [continuous_stratified_resample(sorted_weights, sorted_x) for i in range(200)]\n",
    "x_new_samples = np.array(x_new_samples).flatten()\n",
    "\n",
    "sns.ecdfplot(x=x_new_samples, alpha=0.8, color='firebrick').set(title = 'numpy continuous CDF')\n",
    "sns.ecdfplot(x=x, weights = w);"
   ]
  },
  {
   "cell_type": "code",
   "execution_count": 198,
   "metadata": {},
   "outputs": [
    {
     "data": {
      "image/png": "[encoded data removed]",
      "text/plain": [
       "<Figure size 432x288 with 1 Axes>"
      ]
     },
     "metadata": {
      "image/png": {
       "height": 266,
       "width": 389
      }
     },
     "output_type": "display_data"
    }
   ],
   "source": [
    "keys = jax.random.split(random.PRNGKey(0), 200)\n",
    "jax_x_new_samples = [jax_cont_resample(sorted_weights, sorted_x, key = keys[i]) for i in range(200)]\n",
    "jax_x_new_samples = np.array(jax_x_new_samples).flatten()\n",
    "\n",
    "sns.ecdfplot(x=jax_x_new_samples, alpha=0.8, color='firebrick').set(title = 'JAX continuous CDF')\n",
    "sns.ecdfplot(x=x, weights = w);"
   ]
  },
  {
   "cell_type": "code",
   "execution_count": 185,
   "metadata": {},
   "outputs": [],
   "source": [
    "@jax.jit\n",
    "def continuous_cdf (xs, weights, u):\n",
    "    \"\"\"\n",
    "    Return one sample from a continuous approximation of the ECDF of x.\n",
    "    \n",
    "    Should bbe trivial to extend to multiple samples if needed by: \n",
    "        list(map(lambda x: np.argmax(w_cdf > x), u))\n",
    "        \n",
    "    \"\"\"\n",
    "    n = len(weights)\n",
    "    \n",
    "    pi = jnp.zeros(n + 1)\n",
    "    pi = pi.at[0].set(weights[0] / 2)\n",
    "    pi = pi.at[n].set(weights[-1] / 2)\n",
    "    pi = pi.at[1:n].set((weights[:-1] + weights[1:]) / 2)\n",
    "    \n",
    "    w_cdf = jnp.cumsum(pi)\n",
    "    r = np.argmax(w_cdf > u)\n",
    "    u_new = (u - w_cdf[r-1]) / pi[r]\n",
    "    \n",
    "    # select region: \n",
    "    new_x = jax.lax.cond(\n",
    "        r == 0,\n",
    "        lambda _: xs[0],\n",
    "        lambda _: jax.lax.cond(\n",
    "            r == n,\n",
    "            lambda _: xs[-1],\n",
    "            lambda _: (xs[r] - xs[r-1]) * u_new + xs[r-1],\n",
    "            r\n",
    "        ),\n",
    "        r\n",
    "    )\n",
    "    return new_x"
   ]
  },
  {
   "cell_type": "code",
   "execution_count": 200,
   "metadata": {},
   "outputs": [
    {
     "name": "stdout",
     "output_type": "stream",
     "text": [
      "CPU times: user 343 ms, sys: 8.89 ms, total: 352 ms\n",
      "Wall time: 375 ms\n"
     ]
    },
    {
     "data": {
      "text/plain": [
       "DeviceArray([0.48412442, 0.5483065 , 1.3146126 , ..., 0.4001572 ,\n",
       "             1.9391823 , 0.8222655 ], dtype=float32)"
      ]
     },
     "execution_count": 200,
     "metadata": {},
     "output_type": "execute_result"
    }
   ],
   "source": [
    "%%time\n",
    "sorted_x_jnp = jnp.array(sorted_x)\n",
    "jnp_sorted_weights = jnp.array(sorted_weights)\n",
    "U = random.uniform(random.PRNGKey(0), shape = (100_000,))\n",
    "\n",
    "jax_samples = jax.vmap(\n",
    "    continuous_cdf,\n",
    "    in_axes= (None, None, 0)\n",
    ")(sorted_x_jnp, jnp_sorted_weights, U)\n",
    "jax_samples"
   ]
  },
  {
   "cell_type": "code",
   "execution_count": 201,
   "metadata": {},
   "outputs": [
    {
     "data": {
      "image/png": "[encoded data removed]",
      "text/plain": [
       "<Figure size 432x288 with 1 Axes>"
      ]
     },
     "metadata": {
      "image/png": {
       "height": 266,
       "width": 389
      }
     },
     "output_type": "display_data"
    }
   ],
   "source": [
    "sns.ecdfplot(x=jax_samples, alpha=0.8, color='firebrick').set(title = 'JAX continuous CDF')\n",
    "sns.ecdfplot(x=x, weights = w);"
   ]
  },
  {
   "cell_type": "code",
   "execution_count": null,
   "metadata": {},
   "outputs": [],
   "source": []
  }
 ],
 "metadata": {
  "kernelspec": {
   "display_name": "Python 3",
   "language": "python",
   "name": "python3"
  },
  "language_info": {
   "codemirror_mode": {
    "name": "ipython",
    "version": 3
   },
   "file_extension": ".py",
   "mimetype": "text/x-python",
   "name": "python",
   "nbconvert_exporter": "python",
   "pygments_lexer": "ipython3",
   "version": "3.6.13"
  },
  "latex_envs": {
   "LaTeX_envs_menu_present": true,
   "autoclose": false,
   "autocomplete": true,
   "bibliofile": "biblio.bib",
   "cite_by": "apalike",
   "current_citInitial": 1,
   "eqLabelWithNumbers": true,
   "eqNumInitial": 1,
   "hotkeys": {
    "equation": "Ctrl-E",
    "itemize": "Ctrl-I"
   },
   "labels_anchors": false,
   "latex_user_defs": false,
   "report_style_numbering": false,
   "user_envs_cfg": false
  }
 },
 "nbformat": 4,
 "nbformat_minor": 4
}
