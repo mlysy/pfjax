{
 "cells": [
  {
   "cell_type": "markdown",
   "metadata": {},
   "source": [
    "Goal: Take a sample from $x_1, ..., x_n$ proportional to weights $w_1, ..., w_n$ continuously. i.e. Not a multinomial smaple\n",
    "\n",
    "Malik and Pitt resampling:\n",
    "\n",
    "We are assuming that we have a set of uniforms that we use\n",
    "to invert the cdf $\\tilde{F}(x)$ above. So, we have the set of N, sorted in ascending order, uniform variates u1 < · · · < uN . The generation of the, possibly stratified, uniforms is discussed later in this appendix.\n",
    "\n",
    "\n",
    "The pseudo-algorithm given below samples the index corre- sponding to the region which are stored as r1, r2, . . . , rN , and also produces a new set of uniforms, u∗1, . . . , u∗N \n",
    "\n",
    "set s = 0, j = 1; for {i = 0 : N}\n",
    "{\n",
    "    s = s + πi;\n",
    "    while(uj ≤s & j≤N){\n",
    "        rj =i;\n",
    "        u∗j = (uj − (s − πi))/πi \n",
    "        j=j+1\n",
    "}\n",
    "\n",
    "For the selected regions where $r^j = 0$, we set $x_j^* = x^{(1)}$ and when $r^j = N$ we set $x_j^* = x^{(N)}$. Otherwise set: \n",
    "(x(rj+1) − x(rj)) × u∗j + x(rj\n",
    "$x_j^* = (x^{(r^j+1)} - x^{(r^j)}) * u_j^* + x^{(r^j)}$\n",
    "\n",
    "### Goal:\n",
    "\n",
    "Sample $x_1,...,x_n$ from $f(x)$ with weights $\\pi_j, j=1,...,n$"
   ]
  },
  {
   "cell_type": "code",
   "execution_count": 1,
   "metadata": {},
   "outputs": [],
   "source": [
    "import numpy as np\n",
    "from scipy.stats import norm\n",
    "import matplotlib.pyplot as plt\n",
    "import seaborn as sns\n",
    "\n",
    "import jax\n",
    "from jax import random\n",
    "import jax.numpy as jnp"
   ]
  },
  {
   "cell_type": "code",
   "execution_count": 18,
   "metadata": {},
   "outputs": [
    {
     "name": "stdout",
     "output_type": "stream",
     "text": [
      "[1.76405235 0.40015721 0.97873798 2.2408932  1.86755799]\n",
      "[0.08417319 0.36824698 0.24711473 0.03239537 0.0697509 ]\n"
     ]
    }
   ],
   "source": [
    "\"\"\"\n",
    "Make sure that the indices of samples and weights correspond to each other after sorting the sample, x\n",
    "\"\"\"\n",
    "\n",
    "np.random.seed(0)\n",
    "\n",
    "N = 5\n",
    "rv = norm()\n",
    "x = rv.rvs(size=N)\n",
    "print(x)\n",
    "\n",
    "w = rv.pdf(x)\n",
    "print(w)"
   ]
  },
  {
   "cell_type": "code",
   "execution_count": 36,
   "metadata": {},
   "outputs": [
    {
     "name": "stdout",
     "output_type": "stream",
     "text": [
      "dict_keys([1.764052345967664, 0.4001572083672233, 0.9787379841057392, 2.240893199201458, 1.8675579901499675])\n"
     ]
    },
    {
     "data": {
      "text/plain": [
       "{0.4001572083672233: 0.36824697842193993,\n",
       " 0.9787379841057392: 0.2471147305685094,\n",
       " 1.764052345967664: 0.08417318529690802,\n",
       " 1.8675579901499675: 0.06975089990562257,\n",
       " 2.240893199201458: 0.032395372245369515}"
      ]
     },
     "execution_count": 36,
     "metadata": {},
     "output_type": "execute_result"
    }
   ],
   "source": [
    "x_dict = dict(zip(x, w))\n",
    "print(x_dict.keys())\n",
    "\n",
    "sorted_x_dict = dict(sorted(x_dict.items(), key = lambda x: x[0]))\n",
    "sorted_x = np.array(list(sorted_x_dict.keys()))\n",
    "sorted_weights = np.array(list(sorted_x_dict.values()))\n",
    "sorted_x_dict"
   ]
  },
  {
   "cell_type": "code",
   "execution_count": 29,
   "metadata": {},
   "outputs": [
    {
     "data": {
      "image/png": "[encoded data removed]",
      "text/plain": [
       "<Figure size 432x288 with 1 Axes>"
      ]
     },
     "metadata": {
      "needs_background": "light"
     },
     "output_type": "display_data"
    }
   ],
   "source": [
    "sns.ecdfplot(x);"
   ]
  },
  {
   "cell_type": "code",
   "execution_count": 221,
   "metadata": {},
   "outputs": [],
   "source": [
    "def jax_cont_resample (weights, xs, key):\n",
    "    n = len(weights)\n",
    "    u_new = jnp.zeros(n)\n",
    "    u0 = random.uniform(random.PRNGKey(key))\n",
    "    u = (u0 + np.arange(n)) / n\n",
    "    \n",
    "    pi = np.zeros(n + 1)\n",
    "    pi[0] = weights[0] / 2\n",
    "    pi[n] = weights[-1] / 2\n",
    "    pi[1:n] = (weights[:-1] + weights[1:]) / 2\n",
    "    \n",
    "    def region_mid (k, val):\n",
    "        xs = val[\"x\"]\n",
    "        r = val[\"r\"]\n",
    "        u_new = val[\"u_new\"]\n",
    "        return (xs[r[k]] - xs[r[k] - 1]) * u_new[k] + xs[r[k] - 1]\n",
    "    \n",
    "    def while_loop_func (val):\n",
    "        u_j = val[\"u\"][val[\"j\"]]\n",
    "        pi_i = val[\"pi\"][val[\"i\"]]\n",
    "        \n",
    "        val[\"r\"] = val[\"r\"].at[val[\"j\"]].set(val[\"j\"])\n",
    "        val[\"u_new\"] = val[\"u_new\"].at[val[\"j\"]].set((u_j - (val[\"s\"] - pi_i)) / pi_i)\n",
    "        \n",
    "        # select region: \n",
    "        new_x = jax.lax.cond(\n",
    "            val[\"r\"][val[\"j\"]] == 0,\n",
    "            lambda _: val[\"x\"][0],\n",
    "            lambda _: jax.lax.cond(\n",
    "                val[\"r\"][val[\"j\"]] == n,\n",
    "                lambda _: val[\"x\"][-1],\n",
    "                lambda _: region_mid(val[\"j\"], val),\n",
    "                val\n",
    "            ),\n",
    "            val\n",
    "        )\n",
    "        val[\"x_new\"] = val[\"x_new\"].at[val[\"j\"]].set(new_x)\n",
    "        val[\"j\"] += 1\n",
    "        return val \n",
    "\n",
    "    def while_cond (val):\n",
    "        return jnp.logical_and(val[\"j\"] < n, val[\"u\"][val[\"j\"]] <= val[\"s\"])\n",
    "    \n",
    "    def for_loop_func (i, val):\n",
    "        val[\"s\"] += val[\"pi\"][i]\n",
    "        val[\"i\"] = i\n",
    "        val = jax.lax.while_loop(while_cond, while_loop_func, val)\n",
    "        return val\n",
    " \n",
    "    init_val = {\n",
    "        \"j\": 0,\n",
    "        \"r\": jnp.zeros(n, int),\n",
    "        \"s\": 0,\n",
    "        \"i\": 0,\n",
    "        \"u\": u,\n",
    "        \"u_new\": jnp.zeros(n),\n",
    "        \"x\": xs,\n",
    "        \"x_new\": jnp.zeros(n),\n",
    "        \"pi\": pi}\n",
    "    \n",
    "    val = jax.lax.fori_loop(0, n, for_loop_func, init_val)\n",
    "\n",
    "    # select region: \n",
    "    new_x = jax.lax.cond(\n",
    "        val[\"r\"][val[\"j\"]] == 0,\n",
    "        lambda _: val[\"x\"][0],\n",
    "        lambda _: jax.lax.cond(\n",
    "            val[\"r\"][val[\"j\"]] == n,\n",
    "            lambda _: val[\"x\"][-1],\n",
    "            lambda _: region_mid(val[\"j\"], val),\n",
    "            val\n",
    "        ),\n",
    "        val\n",
    "    )\n",
    "    val[\"x_new\"] = val[\"x_new\"].at[val[\"j\"]].set(new_x)\n",
    "    \n",
    "    return val[\"x_new\"]"
   ]
  },
  {
   "cell_type": "code",
   "execution_count": 207,
   "metadata": {},
   "outputs": [],
   "source": [
    "def continuous_stratified_resample(weights, xs):\n",
    "    \"\"\"\n",
    "    Args: \n",
    "        - weights: normalized weights with indices corresponding to xs. This is represented by \\pi in the paper\n",
    "        - xs: samples sorted in ascending order. Represented by x^{(k)} in the paper. \n",
    "        \n",
    "    TODO:\n",
    "        - Make sure xs are sorted and weights correspond to them.\n",
    "    \"\"\"\n",
    "    n = len(weights)\n",
    "    # generate n uniform rvs with stratified method\n",
    "    u0 = np.random.uniform(size=1)\n",
    "#     u = [(u0 + i) / n for i in range(n)]\n",
    "    u = (u0 + np.arange(n)) / n\n",
    "#     print(u)\n",
    "    \n",
    "    # A.1: general form of continuous distribution\n",
    "    pi = np.zeros(n + 1)\n",
    "    pi[0] = weights[0] / 2\n",
    "    pi[n] = weights[-1] / 2\n",
    "    pi[1:n] = (weights[:-1] + weights[1:]) / 2\n",
    "    \n",
    "#     for i in range(1, n):\n",
    "#         pi[i] = (weights[i] + weights[i - 1]) / 2\n",
    "        \n",
    "    # A.3\n",
    "    r = np.zeros(n)\n",
    "    u_new = np.zeros(n)\n",
    "    s = 0\n",
    "    j = 1\n",
    "\n",
    "    for i in range(n + 1):\n",
    "        s = s + pi[i]\n",
    "        while(j <= n and u[j - 1] <= s):\n",
    "            r[j - 1] = i\n",
    "            u_new[j - 1] = (u[j - 1] - (s - pi[i])) / pi[i]\n",
    "            j = j + 1\n",
    "\n",
    "    r = r.astype(int)\n",
    "\n",
    "    x_new = np.zeros(n)\n",
    "    for k in range(n):\n",
    "        if r[k] == 0:\n",
    "            x_new[k] = xs[0]\n",
    "        elif r[k] == n:\n",
    "            x_new[k] = xs[-1]\n",
    "        else:\n",
    "            x_new[k] = (xs[r[k]] - xs[r[k] - 1]) * u_new[k] + xs[r[k] - 1]\n",
    "#     print(\"r: \", r)\n",
    "#     print(\"s: \", s)\n",
    "#     print(\"u_new \", u_new)\n",
    "#     print(\"x's: \", xs)\n",
    "    return x_new\n",
    "\n",
    "\n",
    "def continuous_stratified_resample2(weights, xs):\n",
    "    \"\"\"\n",
    "    Args: \n",
    "        - weights: normalized weights with indices corresponding to xs. This is represented by \\pi in the paper\n",
    "        - xs: samples sorted in ascending order. Represented by x^{(k)} in the paper. \n",
    "        \n",
    "    TODO:\n",
    "        - Make sure xs are sorted and weights correspond to them.\n",
    "    \"\"\"\n",
    "    n = len(weights)\n",
    "    # generate n uniform rvs with stratified method\n",
    "    np.random.seed(0)\n",
    "    u0 = np.random.uniform(size=1)\n",
    "#     u = [(u0 + i) / n for i in range(n)]\n",
    "    u = (u0 + np.arange(n)) / n\n",
    "    print(u)\n",
    "    \n",
    "    # A.1: general form of continuous distribution\n",
    "    pi = np.zeros(n + 1)\n",
    "    pi[0] = weights[0] / 2\n",
    "    pi[n] = weights[-1] / 2\n",
    "    pi[1:n] = (weights[:-1] + weights[1:]) / 2\n",
    "    \n",
    "#     for i in range(1, n):\n",
    "#         pi[i] = (weights[i] + weights[i - 1]) / 2\n",
    "        \n",
    "    # A.3\n",
    "    r = np.zeros(n, int)\n",
    "    u_new = np.zeros(n)\n",
    "    x_new = np.zeros(n)\n",
    "    s = 0\n",
    "    j = 1\n",
    "\n",
    "    for i in range(n + 1):\n",
    "        s = s + pi[i]\n",
    "        while(j <= n and u[j - 1] <= s):\n",
    "            r[j - 1] = i\n",
    "            u_new[j - 1] = (u[j - 1] - (s - pi[i])) / pi[i]\n",
    "            if r[j-1] == 0:\n",
    "                x_new[j-1] = xs[0]\n",
    "            elif r[j-1] == n:\n",
    "                x_new[j-1] = xs[-1]\n",
    "            else:\n",
    "                x_new[j-1] = (xs[r[j-1]] - xs[r[j-1] - 1]) * u_new[j-1]  + xs[r[j-1] - 1]\n",
    "            j = j + 1\n",
    "            \n",
    "    if r[j-1] == 0:\n",
    "        x_new[j-1] = xs[0]\n",
    "    elif r[j-1] == n:\n",
    "        x_new[j-1] = xs[-1]\n",
    "    else:\n",
    "        x_new[j-1] = (xs[r[j-1]] - xs[r[j-1] - 1]) * u_new[j-1]  + xs[r[j-1] - 1]\n",
    "    print(\"r: \", r)\n",
    "    print(\"s: \", s)\n",
    "    print(\"u_new \", u_new)\n",
    "    print(\"x's: \", xs)\n",
    "    return x_new"
   ]
  },
  {
   "cell_type": "code",
   "execution_count": 208,
   "metadata": {},
   "outputs": [
    {
     "data": {
      "text/plain": [
       "array([0.40015721, 0.69898896, 1.22163502, 1.93062364, 0.40015721])"
      ]
     },
     "execution_count": 208,
     "metadata": {},
     "output_type": "execute_result"
    }
   ],
   "source": [
    "x_new = continuous_stratified_resample(sorted_weights, sorted_x)\n",
    "x_new"
   ]
  },
  {
   "cell_type": "code",
   "execution_count": 209,
   "metadata": {},
   "outputs": [
    {
     "name": "stdout",
     "output_type": "stream",
     "text": [
      "[0.1097627 0.3097627 0.5097627 0.7097627 0.9097627]\n",
      "r:  [0 1 2 3 0]\n",
      "s:  0.8016811664383494\n",
      "u_new  [0.59613633 0.40834264 0.10841541 0.67974286 0.        ]\n",
      "x's:  [0.40015721 0.97873798 1.76405235 1.86755799 2.2408932 ]\n"
     ]
    },
    {
     "data": {
      "text/plain": [
       "array([0.40015721, 0.63641641, 1.06387816, 1.83440957, 0.40015721])"
      ]
     },
     "execution_count": 209,
     "metadata": {},
     "output_type": "execute_result"
    }
   ],
   "source": [
    "x_new = continuous_stratified_resample2(sorted_weights, sorted_x)\n",
    "x_new"
   ]
  },
  {
   "cell_type": "code",
   "execution_count": 210,
   "metadata": {
    "scrolled": true
   },
   "outputs": [
    {
     "data": {
      "text/plain": [
       "{'i': DeviceArray(4, dtype=int32),\n",
       " 'j': DeviceArray(4, dtype=int32),\n",
       " 'pi': DeviceArray([0.18412349, 0.30768085, 0.16564396, 0.07696204, 0.05107313,\n",
       "              0.01619769], dtype=float32),\n",
       " 'r': DeviceArray([0, 1, 2, 3, 0], dtype=int32),\n",
       " 's': DeviceArray(0.7854835, dtype=float32),\n",
       " 'u': DeviceArray([0.0836914 , 0.2836914 , 0.4836914 , 0.6836914 , 0.88369143],            dtype=float32),\n",
       " 'u_new': DeviceArray([0.45453954, 0.3236078 , 0.973632  , 0.34098747, 0.        ],            dtype=float32),\n",
       " 'x': DeviceArray([0.4001572, 0.978738 , 1.7640524, 1.867558 , 2.2408931], dtype=float32),\n",
       " 'x_new': DeviceArray([0.4001572, 0.5873905, 1.7433453, 1.7993466, 0.4001572], dtype=float32)}"
      ]
     },
     "execution_count": 210,
     "metadata": {},
     "output_type": "execute_result"
    }
   ],
   "source": [
    "jax_cont_resample(jnp.array(sorted_weights), jnp.array(sorted_x))"
   ]
  },
  {
   "cell_type": "code",
   "execution_count": 213,
   "metadata": {},
   "outputs": [
    {
     "data": {
      "text/plain": [
       "[array([0.40015721, 0.59496662, 0.97105812, 1.80476492, 0.40015721]),\n",
       " array([0.42563981, 0.80173132, 1.48066734, 2.2408932 , 0.40015721]),\n",
       " array([0.40015721, 0.4683905 , 0.844482  , 1.58844965, 0.40015721]),\n",
       " array([0.40015721, 0.50856909, 0.88466059, 1.68974723, 0.40015721]),\n",
       " array([0.40015721, 0.49067945, 0.86677095, 1.64464419, 0.40015721]),\n",
       " array([0.40015721, 0.6756408 , 1.16277005, 1.86246263, 0.40015721]),\n",
       " array([0.40015721, 0.52527313, 0.90136464, 1.73186119, 0.40015721]),\n",
       " array([0.40015721, 0.60538783, 0.98564943, 1.81221811, 0.40015721]),\n",
       " array([0.40015721, 0.5219387 , 0.8980302 , 1.72345448, 0.40015721]),\n",
       " array([0.40015721, 0.48979942, 0.86589093, 1.64242547, 0.40015721]),\n",
       " array([0.40015721, 0.47152347, 0.84761497, 1.59634843, 0.40015721]),\n",
       " array([0.40015721, 0.67685229, 1.16582444, 1.86332908, 0.40015721]),\n",
       " array([0.40015721, 0.48198175, 0.85807325, 1.62271568, 0.40015721]),\n",
       " array([0.40015721, 0.50394527, 0.88003677, 1.67808974, 0.40015721]),\n",
       " array([0.40015721, 0.56868672, 0.94477822, 1.78596969, 0.40015721]),\n",
       " array([0.40015721, 0.73878089, 1.32195778, 2.08530498, 0.40015721]),\n",
       " array([0.40015721, 0.46653128, 0.84262278, 1.58376221, 0.40015721]),\n",
       " array([0.40015721, 0.74515627, 1.33803129, 2.11008771, 0.40015721]),\n",
       " array([0.40015721, 0.46615411, 0.84224561, 1.5828113 , 0.40015721]),\n",
       " array([0.42115892, 0.79725042, 1.46937018, 2.2408932 , 0.40015721]),\n",
       " array([0.40015721, 0.60626805, 0.98786862, 1.81284764, 0.40015721]),\n",
       " array([0.42127236, 0.79736386, 1.46965618, 2.2408932 , 0.40015721]),\n",
       " array([0.40015721, 0.65748957, 1.11700747, 1.84948097, 0.40015721]),\n",
       " array([0.40015721, 0.70804306, 1.24446208, 1.96581925, 0.40015721]),\n",
       " array([0.40015721, 0.44475051, 0.82084201, 1.5288489 , 0.40015721]),\n",
       " array([0.40015721, 0.53637361, 0.91246511, 1.75984753, 0.40015721]),\n",
       " array([0.40015721, 0.47521722, 0.85130872, 1.60566106, 0.40015721]),\n",
       " array([0.40015721, 0.54138812, 0.91747963, 1.7664459 , 0.40015721]),\n",
       " array([0.40015721, 0.4746648 , 0.8507563 , 1.60426831, 0.40015721]),\n",
       " array([0.40015721, 0.54960308, 0.92569459, 1.77232119, 0.40015721]),\n",
       " array([0.40015721, 0.5858131 , 0.96190461, 1.79821839, 0.40015721]),\n",
       " array([0.40015721, 0.45413764, 0.83022914, 1.55251559, 0.40015721]),\n",
       " array([0.40015721, 0.69044519, 1.20009463, 1.89741186, 0.40015721]),\n",
       " array([0.40015721, 0.64310631, 1.08074462, 1.83919414, 0.40015721]),\n",
       " array([0.40015721, 0.52982305, 0.90591455, 1.74333236, 0.40015721]),\n",
       " array([0.40015721, 0.62680146, 1.03963711, 1.82753301, 0.40015721]),\n",
       " array([0.40015721, 0.46534254, 0.84143404, 1.58076519, 0.40015721]),\n",
       " array([0.40015721, 0.6466209 , 1.08960554, 1.84170776, 0.40015721]),\n",
       " array([0.40342121, 0.77951272, 1.42465018, 2.2408932 , 0.40015721]),\n",
       " array([0.40015721, 0.54982339, 0.92591489, 1.77247875, 0.40015721]),\n",
       " array([0.40015721, 0.68101969, 1.1763312 , 1.86630957, 0.40015721]),\n",
       " array([0.40015721, 0.47958037, 0.85567187, 1.61666136, 0.40015721]),\n",
       " array([0.40015721, 0.69941689, 1.22271391, 1.93228711, 0.40015721]),\n",
       " array([0.40015721, 0.53885549, 0.91494699, 1.76463457, 0.40015721]),\n",
       " array([0.40015721, 0.49890903, 0.87500053, 1.66539245, 0.40015721]),\n",
       " array([0.40015721, 0.65059484, 1.09962459, 1.8445499 , 0.40015721]),\n",
       " array([0.40015721, 0.43757459, 0.81366609, 1.5107571 , 0.40015721]),\n",
       " array([0.40015721, 0.74176961, 1.3294929 , 2.09692291, 0.40015721]),\n",
       " array([0.40015721, 0.43177824, 0.80786974, 1.49614344, 2.2408932 ]),\n",
       " array([0.40015721, 0.68493335, 1.18619827, 1.87598594, 0.40015721]),\n",
       " array([0.40015721, 0.53156002, 0.90765152, 1.74771158, 0.40015721]),\n",
       " array([0.40015721, 0.70651254, 1.24060335, 1.95986971, 0.40015721]),\n",
       " array([0.41579175, 0.79188325, 1.45583856, 2.2408932 , 0.40015721]),\n",
       " array([0.40015721, 0.52356626, 0.89965776, 1.72755785, 0.40015721]),\n",
       " array([0.40015721, 0.64670019, 1.08980546, 1.84176447, 0.40015721]),\n",
       " array([0.40015721, 0.65267425, 1.10486716, 1.84603708, 0.40015721]),\n",
       " array([0.40015721, 0.64523139, 1.08610235, 1.84071399, 0.40015721]),\n",
       " array([0.40015721, 0.51391142, 0.89000292, 1.70321623, 0.40015721]),\n",
       " array([0.41224162, 0.78833312, 1.44688803, 2.2408932 , 0.40015721]),\n",
       " array([0.40015721, 0.59817237, 0.97426387, 1.80705766, 0.40015721]),\n",
       " array([0.40015721, 0.74833942, 1.34605659, 2.12246142, 0.40015721]),\n",
       " array([0.40015721, 0.69308052, 1.20673878, 1.90765606, 0.40015721]),\n",
       " array([0.40015721, 0.54187582, 0.91796733, 1.7667947 , 0.40015721]),\n",
       " array([0.40015721, 0.73607476, 1.31513512, 2.07478556, 0.40015721]),\n",
       " array([0.40015721, 0.57913475, 0.95522626, 1.79344207, 0.40015721]),\n",
       " array([0.40015721, 0.76138774, 1.37895379, 2.17318354, 0.40015721]),\n",
       " array([0.40015721, 0.6486241 , 1.09465599, 1.84314044, 0.40015721]),\n",
       " array([0.40015721, 0.76162549, 1.3795532 , 2.17410774, 0.40015721]),\n",
       " array([0.40015721, 0.69046756, 1.20015102, 1.8974988 , 0.40015721]),\n",
       " array([0.40015721, 0.70277428, 1.23117853, 1.94533817, 0.40015721]),\n",
       " array([0.40015721, 0.61855615, 1.01884918, 1.82163602, 0.40015721]),\n",
       " array([0.41349574, 0.78958724, 1.45004991, 2.2408932 , 0.40015721]),\n",
       " array([0.40015721, 0.67221155, 1.15412428, 1.86001005, 0.40015721]),\n",
       " array([0.40015721, 0.58942059, 0.9655121 , 1.80079844, 0.40015721]),\n",
       " array([0.40015721, 0.65807165, 1.11847499, 1.84989727, 0.40015721]),\n",
       " array([0.40015721, 0.43723071, 0.81332221, 1.50989012, 0.40015721]),\n",
       " array([0.40015721, 0.54343204, 0.91952354, 1.7679077 , 0.40015721]),\n",
       " array([0.40015721, 0.67829797, 1.16946925, 1.86436302, 0.40015721]),\n",
       " array([0.40015721, 0.53910804, 0.91519954, 1.7648152 , 0.40015721]),\n",
       " array([0.40015721, 0.66244266, 1.12949512, 1.85302339, 0.40015721]),\n",
       " array([0.40015721, 0.59126858, 0.96736008, 1.80212011, 0.40015721]),\n",
       " array([0.40015721, 0.48096296, 0.85705446, 1.62014712, 0.40015721]),\n",
       " array([0.40015721, 0.54219376, 0.91828526, 1.76702209, 0.40015721]),\n",
       " array([0.40015721, 0.64437127, 1.08393383, 1.84009884, 0.40015721]),\n",
       " array([0.40015721, 0.65223454, 1.10375856, 1.8457226 , 0.40015721]),\n",
       " array([0.40015721, 0.64601116, 1.08806828, 1.84127168, 0.40015721]),\n",
       " array([0.40015721, 0.67567559, 1.16285775, 1.8624875 , 0.40015721]),\n",
       " array([0.40015721, 0.67526281, 1.16181706, 1.86219229, 0.40015721]),\n",
       " array([0.40015721, 0.59226512, 0.96835662, 1.80283283, 0.40015721]),\n",
       " array([0.40015721, 0.76719587, 1.39359715, 2.19576122, 0.40015721]),\n",
       " array([0.40015721, 0.56824921, 0.94434071, 1.78565679, 0.40015721]),\n",
       " array([0.40015721, 0.59393741, 0.97002891, 1.80402884, 0.40015721]),\n",
       " array([0.40015721, 0.76545711, 1.38921341, 2.18900221, 0.40015721]),\n",
       " array([0.40015721, 0.73321502, 1.3079252 , 2.06366904, 0.40015721]),\n",
       " array([0.40015721, 0.69473883, 1.21091967, 1.91410231, 0.40015721]),\n",
       " array([0.40015721, 0.46770679, 0.8437983 , 1.5867259 , 0.40015721]),\n",
       " array([0.40015721, 0.77582191, 1.41534498, 2.22929283, 0.40015721]),\n",
       " array([0.40015721, 0.6986324 , 1.22073607, 1.9292376 , 0.40015721]),\n",
       " array([0.42957868, 0.80567018, 1.49059795, 2.2408932 , 0.40015721]),\n",
       " array([0.40015721, 0.48621855, 0.86231005, 1.63339744, 0.40015721])]"
      ]
     },
     "execution_count": 213,
     "metadata": {},
     "output_type": "execute_result"
    }
   ],
   "source": [
    "x_new_samples = [continuous_stratified_resample(sorted_weights, sorted_x) for i in range(100)]\n",
    "x_new_samples"
   ]
  },
  {
   "cell_type": "code",
   "execution_count": 235,
   "metadata": {},
   "outputs": [
    {
     "data": {
      "image/png": "[encoded data removed]",
      "text/plain": [
       "<Figure size 432x288 with 1 Axes>"
      ]
     },
     "metadata": {
      "needs_background": "light"
     },
     "output_type": "display_data"
    }
   ],
   "source": [
    "plt.plot(sorted(x_new_samples[0]))\n",
    "plt.plot(sorted(x_new_samples[10]));"
   ]
  },
  {
   "cell_type": "code",
   "execution_count": 237,
   "metadata": {},
   "outputs": [
    {
     "data": {
      "image/png": "[encoded data removed]",
      "text/plain": [
       "<Figure size 432x288 with 1 Axes>"
      ]
     },
     "metadata": {
      "needs_background": "light"
     },
     "output_type": "display_data"
    }
   ],
   "source": [
    "[sns.ecdfplot(i, label='cont-CDF', alpha=0.8, color='firebrick') for i in x_new_samples[:3]]\n",
    "sns.ecdfplot(x);"
   ]
  },
  {
   "cell_type": "code",
   "execution_count": 239,
   "metadata": {},
   "outputs": [
    {
     "data": {
      "image/png": "[encoded data removed]",
      "text/plain": [
       "<Figure size 432x288 with 1 Axes>"
      ]
     },
     "metadata": {
      "needs_background": "light"
     },
     "output_type": "display_data"
    }
   ],
   "source": [
    "[sns.ecdfplot(i, label='cont-CDF', alpha=0.8, color='firebrick') for i in x_new_samples]\n",
    "sns.ecdfplot(x);"
   ]
  },
  {
   "cell_type": "code",
   "execution_count": 227,
   "metadata": {},
   "outputs": [],
   "source": [
    "keys = np.random.randint(0, high = 1000, size=100)\n",
    "jax_x_new_samples = [jax_cont_resample(sorted_weights, sorted_x, key = keys[i]) for i in range(100)]"
   ]
  },
  {
   "cell_type": "code",
   "execution_count": 228,
   "metadata": {},
   "outputs": [
    {
     "data": {
      "image/png": "[encoded data removed]",
      "text/plain": [
       "<Figure size 432x288 with 1 Axes>"
      ]
     },
     "metadata": {
      "needs_background": "light"
     },
     "output_type": "display_data"
    }
   ],
   "source": [
    "[sns.ecdfplot(i, label='cont-CDF', alpha=0.8, color='firebrick') for i in jax_x_new_samples]\n",
    "sns.ecdfplot(x);"
   ]
  },
  {
   "cell_type": "markdown",
   "metadata": {},
   "source": [
    "## Gaussian Copula"
   ]
  },
  {
   "cell_type": "code",
   "execution_count": null,
   "metadata": {},
   "outputs": [],
   "source": []
  }
 ],
 "metadata": {
  "kernelspec": {
   "display_name": "Python 3",
   "language": "python",
   "name": "python3"
  },
  "language_info": {
   "codemirror_mode": {
    "name": "ipython",
    "version": 3
   },
   "file_extension": ".py",
   "mimetype": "text/x-python",
   "name": "python",
   "nbconvert_exporter": "python",
   "pygments_lexer": "ipython3",
   "version": "3.6.13"
  },
  "latex_envs": {
   "LaTeX_envs_menu_present": true,
   "autoclose": false,
   "autocomplete": true,
   "bibliofile": "biblio.bib",
   "cite_by": "apalike",
   "current_citInitial": 1,
   "eqLabelWithNumbers": true,
   "eqNumInitial": 1,
   "hotkeys": {
    "equation": "Ctrl-E",
    "itemize": "Ctrl-I"
   },
   "labels_anchors": false,
   "latex_user_defs": false,
   "report_style_numbering": false,
   "user_envs_cfg": false
  }
 },
 "nbformat": 4,
 "nbformat_minor": 4
}
