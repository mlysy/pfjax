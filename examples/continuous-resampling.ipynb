{
 "cells": [
  {
   "cell_type": "markdown",
   "metadata": {},
   "source": [
    "Malik and Pitt resampling:\n",
    "\n",
    "We are assuming that we have a set of uniforms that we use\n",
    "to invert the cdf $\\tilde{F}(x)$ above. So, we have the set of N, sorted in ascending order, uniform variates u1 < · · · < uN . The generation of the, possibly stratified, uniforms is discussed later in this appendix.\n",
    "\n",
    "\n",
    "The pseudo-algorithm given below samples the index corre- sponding to the region which are stored as r1, r2, . . . , rN , and also produces a new set of uniforms, u∗1, . . . , u∗N \n",
    "\n",
    "set s = 0, j = 1; for {i = 0 : N}\n",
    "{\n",
    "    s = s + πi;\n",
    "    while(uj ≤s & j≤N){\n",
    "        rj =i;\n",
    "        u∗j = (uj − (s − πi))/πi \n",
    "        j=j+1\n",
    "}\n",
    "\n",
    "For the selected regions where $r^j = 0$, we set $x_j^* = x^{(1)}$ and when $r^j = N$ we set $x_j^* = x^{(N)}$. Otherwise set: \n",
    "(x(rj+1) − x(rj)) × u∗j + x(rj\n",
    "$x_j^* = (x^{(r^j+1)} - x^{(r^j)}) * u_j^* + x^{(r^j)}$"
   ]
  },
  {
   "cell_type": "code",
   "execution_count": 1,
   "metadata": {},
   "outputs": [],
   "source": [
    "import numpy as np"
   ]
  },
  {
   "cell_type": "code",
   "execution_count": 6,
   "metadata": {},
   "outputs": [],
   "source": [
    "s = 0\n",
    "j = 1\n",
    "N = 10\n",
    "\n",
    "# normalized weights\n",
    "w = np.random.uniform(size=N)\n",
    "w = w/sum(w)\n",
    "\n",
    "r = np.zeros(N+1)\n",
    "u_star = np.zeros(N+1)\n",
    "np.random.uniform(size=N)"
   ]
  },
  {
   "cell_type": "code",
   "execution_count": null,
   "metadata": {},
   "outputs": [],
   "source": [
    "for i in range(N):\n",
    "    s = s + w[i]\n",
    "    while (u[j] < s) and (j <= N):\n",
    "        r[j] = i\n",
    "        u_star[j] = (u[j] - (s - w[i]))/w[i]\n",
    "        j += 1"
   ]
  }
 ],
 "metadata": {
  "kernelspec": {
   "display_name": "Python 3",
   "language": "python",
   "name": "python3"
  },
  "language_info": {
   "codemirror_mode": {
    "name": "ipython",
    "version": 3
   },
   "file_extension": ".py",
   "mimetype": "text/x-python",
   "name": "python",
   "nbconvert_exporter": "python",
   "pygments_lexer": "ipython3",
   "version": "3.6.13"
  },
  "latex_envs": {
   "LaTeX_envs_menu_present": true,
   "autoclose": false,
   "autocomplete": true,
   "bibliofile": "biblio.bib",
   "cite_by": "apalike",
   "current_citInitial": 1,
   "eqLabelWithNumbers": true,
   "eqNumInitial": 1,
   "hotkeys": {
    "equation": "Ctrl-E",
    "itemize": "Ctrl-I"
   },
   "labels_anchors": false,
   "latex_user_defs": false,
   "report_style_numbering": false,
   "user_envs_cfg": false
  }
 },
 "nbformat": 4,
 "nbformat_minor": 4
}
