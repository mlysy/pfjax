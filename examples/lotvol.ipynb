{
 "cells": [
  {
   "cell_type": "markdown",
   "metadata": {},
   "source": [
    "## Simulate and Plot Data"
   ]
  },
  {
   "cell_type": "code",
   "execution_count": null,
   "metadata": {},
   "outputs": [],
   "source": [
    "import numpy as np\n",
    "import jax\n",
    "import jax.numpy as jnp\n",
    "import jax.scipy as jsp\n",
    "import jax.random as random\n",
    "import pandas as pd\n",
    "import seaborn as sns\n",
    "\n",
    "import particle_filter as pf\n",
    "from proj_data import proj_data\n",
    "from lotvol_model import LotVolModel\n",
    "\n",
    "key = random.PRNGKey(0)\n",
    "\n",
    "# parameter values\n",
    "\n",
    "alpha = 1.0\n",
    "beta = 1.0\n",
    "gamma = 4.0\n",
    "delta = 1.0\n",
    "sigma_h = 0.1\n",
    "sigma_l = 0.1\n",
    "tau_h = 0.25\n",
    "tau_l = 0.25\n",
    "\n",
    "theta = np.array([alpha, beta, gamma, delta, sigma_h, sigma_l, tau_h, tau_l])\n",
    "\n",
    "dt = 0.1\n",
    "n_res = 1\n",
    "n_obs = 50\n",
    "lotvol_model = LotVolModel(dt, n_res) \n",
    "key, subkey = random.split(key)\n",
    "\n",
    "\n",
    "x_init = lotvol_model.init_sample(y_init=jnp.log(jnp.array([5., 3.])),\n",
    "                     theta=jnp.append(theta[0:6], jnp.array([0., 0.])),\n",
    "                     key=subkey)\n",
    "\n",
    "y_meas, x_state = pf.meas_sim(lotvol_model, n_obs, x_init, theta, subkey)\n"
   ]
  },
  {
   "cell_type": "markdown",
   "metadata": {},
   "source": [
    "Plotting the observations of the state (latent variables) as well as the observations. The latent observations are the smooth lines given below and the observations are the slightly more jagged lines."
   ]
  },
  {
   "cell_type": "code",
   "execution_count": null,
   "metadata": {},
   "outputs": [],
   "source": [
    "import matplotlib.pyplot as plt\n",
    "plt.plot(y_meas[:, 0])\n",
    "plt.plot(y_meas[:, 1])\n",
    "plt.plot(jnp.exp(x_state[:,0]))\n",
    "plt.plot(jnp.exp(x_state[:, 1]))\n",
    "plt.title(\"Observations and Latent\")"
   ]
  },
  {
   "cell_type": "markdown",
   "metadata": {},
   "source": [
    "## Parameter Estimation with Complete Data\n",
    "\n",
    "In other words, we estimate $\\theta$ as if both $y_{0:T}$ and $x_{0:T}$ were known.  Let's start with projection plots of the complete data (log)likelihood\n",
    "\n",
    "$$\n",
    "\\ell(\\theta \\mid x_{0:T}, y_{0:T}) = \\log p(y_0 \\mid x_0, \\theta) + \\sum_{t=1}^T \\log p(y_t \\mid x_t, \\theta) + \\log p(x_t \\mid x_{t-1}, \\theta).\n",
    "$$"
   ]
  },
  {
   "cell_type": "code",
   "execution_count": null,
   "metadata": {},
   "outputs": [],
   "source": [
    "theta_lims = np.array([[0., 2.], [.75, 1.2], [2.0, 6.0], [0., 2.],\n",
    "                       [.05, .2], [.05, .2], [.1, .5], [.1, .5]])\n",
    "theta_names = [\"alpha\", \"beta\", \"gamma\", \"delta\",\n",
    "               \"sigma_h\", \"sigma_l\", \"tau_h\", \"tau_l\"]\n",
    "n_pts = 100\n",
    "\n",
    "# calculate projection plot\n",
    "\n",
    "\n",
    "@jax.jit\n",
    "def lotvol_loglik(theta):\n",
    "    return pf.joint_loglik(model=lotvol_model, theta=theta, x_state=x_state, y_meas=y_meas)\n",
    "\n",
    "\n",
    "plot_df = proj_data(lotvol_loglik,\n",
    "                    theta, theta_lims, theta_names)\n",
    "\n",
    "sns.relplot(\n",
    "    data=plot_df, kind=\"line\",\n",
    "    x=\"x\", y=\"y\", col=\"theta\",\n",
    "    col_wrap = 4,\n",
    "    facet_kws=dict(sharex=False, sharey=False)\n",
    ")"
   ]
  },
  {
   "cell_type": "markdown",
   "metadata": {},
   "source": [
    "## Parameter Estimation with Particle Filter"
   ]
  },
  {
   "cell_type": "code",
   "execution_count": null,
   "metadata": {},
   "outputs": [],
   "source": [
    "theta_lims = np.array([[0.2, 2.], [0.5, 5.], [1.0, 5.0], [0.2, 2.], [0.2, 2.], [0.2, 2.], [0.2, 2.], [0.2, 2.]])\n",
    "theta_names = [\"alpha\", \"beta\", \"gamma\", \"delta\", \"sigma_h\", \"sigma_l\", \"tau_h\", \"tau_l\"]\n",
    "n_pts = 100\n",
    "\n",
    "# calculate projection plot\n",
    "n_particles = 1000\n",
    "\n",
    "\n",
    "@jax.jit\n",
    "def lotvol_pflik(theta):\n",
    "    temp = pf.particle_filter(theta=theta, model=lotvol_model, y_meas=y_meas,\n",
    "                              n_particles=n_particles, key=key)\n",
    "    return pf.particle_loglik(temp['logw_particles'])\n",
    "\n",
    "\n",
    "plot_df = proj_data(lotvol_pflik,\n",
    "                    theta, theta_lims, theta_names)\n",
    "\n",
    "sns.relplot(\n",
    "    data=plot_df, kind=\"line\",\n",
    "    x=\"x\", y=\"y\", col=\"theta\",\n",
    "    col_wrap = 4,\n",
    "    facet_kws=dict(sharex=False, sharey=False)\n",
    ")"
   ]
  },
  {
   "cell_type": "markdown",
   "metadata": {},
   "source": [
    "### Stochastic Optimization\n",
    "\n",
    "For now, we initialize it to be the starting values that were chosen. In addition to this, we also initialize the mask array to be this so that we can verify the results on a one dimensional optimization problem."
   ]
  },
  {
   "cell_type": "code",
   "execution_count": null,
   "metadata": {},
   "outputs": [],
   "source": [
    "from particle_filter import stoch_opt, get_sum_lweights"
   ]
  },
  {
   "cell_type": "code",
   "execution_count": null,
   "metadata": {},
   "outputs": [],
   "source": [
    "stoch_opt(lotvol_model, jnp.array([1.,1.,4., 1., 0.01, 0.01, 0.25, 0.25]), get_sum_lweights, y_meas, key=key, learning_rate=0.0000000001, iterations=2000, n_particles=1000,\n",
    "         mask=np.array([0,1,0,0,0,0,0,0]))"
   ]
  },
  {
   "cell_type": "markdown",
   "metadata": {},
   "source": [
    "## Scratch"
   ]
  },
  {
   "cell_type": "code",
   "execution_count": null,
   "metadata": {},
   "outputs": [],
   "source": [
    "n_particles = 10\n",
    "\n",
    "pf_out = pf.particle_filter(theta=theta, model=lotvol_model, y_meas=y_meas,\n",
    "                              n_particles=n_particles, key=key)"
   ]
  },
  {
   "cell_type": "code",
   "execution_count": null,
   "metadata": {},
   "outputs": [],
   "source": [
    "i_obs = 1\n",
    "print(pf_out[\"X_particles\"][i_obs])\n",
    "print(y_meas[i_obs])"
   ]
  },
  {
   "cell_type": "code",
   "execution_count": null,
   "metadata": {},
   "outputs": [],
   "source": [
    "theta"
   ]
  },
  {
   "cell_type": "code",
   "execution_count": null,
   "metadata": {},
   "outputs": [],
   "source": [
    "@jax.jit\n",
    "def lotvol_pflik(theta, key):\n",
    "    temp = pf.particle_filter(theta=theta, model=lotvol_model, y_meas=y_meas,\n",
    "                              n_particles=n_particles, key=key)\n",
    "    return pf.particle_loglik(temp['logw_particles'])\n",
    "\n",
    "n_particles = 100\n",
    "\n",
    "i_theta = 0 # which index of theta to update\n",
    "theta_min = theta_lims[i_theta][0]\n",
    "theta_max = theta_lims[i_theta][1]\n",
    "#theta_min = 3.0\n",
    "#theta_max = 5.0\n",
    "theta_seq = np.linspace(theta_min, theta_max, num=n_pts)\n",
    "ll_seq = np.zeros(theta_seq.shape)\n",
    "for i in range(n_pts):\n",
    "    key, subkey = random.split(key)\n",
    "    theta_tmp = theta\n",
    "    theta_tmp[i_theta] = theta_seq[i]\n",
    "    ll_seq[i] = lotvol_pflik(theta_tmp, subkey)\n",
    "    #theta_tmp = theta_tmp.at[0].set(alpha_seq[i])\n",
    "    #ll_seq = ll_seq.at[i].set(lotvol_pflik(theta_tmp, subkey))\n",
    "\n",
    "plt.plot(theta_seq, ll_seq)"
   ]
  },
  {
   "cell_type": "code",
   "execution_count": null,
   "metadata": {},
   "outputs": [],
   "source": []
  }
 ],
 "metadata": {
  "kernelspec": {
   "display_name": "Python 3",
   "language": "python",
   "name": "python3"
  },
  "language_info": {
   "codemirror_mode": {
    "name": "ipython",
    "version": 3
   },
   "file_extension": ".py",
   "mimetype": "text/x-python",
   "name": "python",
   "nbconvert_exporter": "python",
   "pygments_lexer": "ipython3",
   "version": "3.7.7"
  }
 },
 "nbformat": 4,
 "nbformat_minor": 5
}
