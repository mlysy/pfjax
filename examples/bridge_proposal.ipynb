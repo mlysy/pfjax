{
 "cells": [
  {
   "cell_type": "markdown",
   "id": "4bc9a0fe",
   "metadata": {},
   "source": [
    "# Bridge Proposals for SDEs\n",
    "\n",
    "**Martin Lysy, University of Waterloo** \n",
    "\n",
    "**January 1, 2022**\n",
    "\n",
    "## Formula for a Conditional Normal Distribution\n",
    "\n",
    "Suppose that we have\n",
    "\n",
    "$$\n",
    "\\begin{aligned}\n",
    "\\WW & \\sim \\N(\\mmu_W, \\SSi_W) \\\\\n",
    "\\XX \\mid \\WW & \\sim \\N(\\WW + \\mmu_{X|W}, \\SSi_{X|W}) \\\\\n",
    "\\YY \\mid \\XX, \\WW & \\sim \\N(\\AA \\XX, \\OOm).\n",
    "\\end{aligned}\n",
    "$$\n",
    "\n",
    "then \n",
    "\n",
    "$$\n",
    "\\begin{bmatrix} \\WW \\\\ \\XX \\\\ \\YY \\end{bmatrix} \\sim \\N\\left(\\begin{bmatrix} \\mmu_W \\\\ \\mmu_W + \\mmu_{X|W} \\\\ \\mmu_{Y} \\end{bmatrix}, \\begin{bmatrix} \\SSi_W & \\SSi_W & \\SSi_W \\AA' \\\\ \n",
    "\\SSi_W & \\SSi_W + \\SSi_{X|W} & (\\SSi_W + \\SSi_{XW}) \\AA' \\\\\n",
    "\\AA \\SSi_W & \\AA (\\SSi_W + \\SSi_{XW}) & \\SSi_Y\\end{bmatrix} \\right),\n",
    "$$\n",
    "\n",
    "where $\\mmu_{Y} = \\AA[\\mmu_W + \\mmu_{X|W}]$ and $\\SSi_Y = \\AA (\\SSi_W + \\SSi_{X|W}) \\AA' + \\OOm$, such that\n",
    "\n",
    "$$\n",
    "\\WW \\mid \\YY \\sim \\N\\left(\\mmu_W + \\SSi_W \\AA' \\SSi_Y^{-1}(\\YY - \\mmu_Y), \\SSi_W - \\SSi_W \\AA' \\SSi_Y^{-1} \\AA \\SSi_W \\right).\n",
    "$$"
   ]
  },
  {
   "cell_type": "markdown",
   "id": "e698ce47",
   "metadata": {},
   "source": [
    "### Numerical Verification\n",
    "\n",
    "We first verify the factorization $p(\\WW, \\XX, \\YY) = p(\\WW) p(\\XX \\mid \\WW) p(\\YY \\mid \\XX, \\WW)$, where the RHS is the product of the three normal PDFs in the first equation and the LHS is the multivariate normal in the second equation."
   ]
  },
  {
   "cell_type": "code",
   "execution_count": 2,
   "id": "6db2ac82",
   "metadata": {},
   "outputs": [
    {
     "name": "stderr",
     "output_type": "stream",
     "text": [
      "WARNING:absl:No GPU/TPU found, falling back to CPU. (Set TF_CPP_MIN_LOG_LEVEL=0 and rerun for more info.)\n"
     ]
    },
    {
     "data": {
      "text/plain": [
       "(DeviceArray(-500.63470941, dtype=float64),\n",
       " DeviceArray(-500.63470941, dtype=float64))"
      ]
     },
     "execution_count": 2,
     "metadata": {},
     "output_type": "execute_result"
    }
   ],
   "source": [
    "import jax.numpy as jnp\n",
    "import jax.scipy as jsp\n",
    "import jax.random as random\n",
    "\n",
    "key = random.PRNGKey(0)\n",
    "\n",
    "\n",
    "def var_sim(key, size):\n",
    "    \"\"\"\n",
    "    Generate a variance matrix of given size.\n",
    "    \"\"\"\n",
    "    Z = random.normal(key, (size, size))\n",
    "    return jnp.matmul(Z.T, Z)\n",
    "\n",
    "\n",
    "def mvn_bridge_pars(mu_W, Sigma_W, mu_XW, Sigma_XW, Y, A, Omega):\n",
    "    \"\"\"\n",
    "    Calculate the mean and variance of the conditional distribution `p(W | Y)`.\n",
    "    \"\"\"\n",
    "\n",
    "    mu_Y = jnp.matmul(A, mu_W + mu_XW)\n",
    "    AS_W = jnp.matmul(A, Sigma_W)\n",
    "    Sigma_Y = jnp.linalg.multi_dot([A, Sigma_W + Sigma_XW, A.T]) + Omega\n",
    "    # solve both linear systems simultaneously\n",
    "    sol = jnp.matmul(AS_W.T, jnp.linalg.solve(\n",
    "        Sigma_Y, jnp.hstack([jnp.array([Y-mu_Y]).T, AS_W])))\n",
    "    return mu_W + jnp.squeeze(sol[:, 0]), Sigma_W - sol[:, 1:]\n",
    "\n",
    "\n",
    "n_lat = 3  # number of dimensions of W and X\n",
    "n_obs = 2  # number of dimensions of Y\n",
    "\n",
    "# generate random values of the matrices and vectors\n",
    "\n",
    "key, *subkeys = random.split(key, num=4)\n",
    "mu_W = random.normal(subkeys[0], (n_lat,))\n",
    "Sigma_W = var_sim(subkeys[1], n_lat)\n",
    "W = random.normal(subkeys[2], (n_lat,))\n",
    "\n",
    "key, *subkeys = random.split(key, num=4)\n",
    "mu_XW = random.normal(subkeys[0], (n_lat,))\n",
    "Sigma_XW = var_sim(subkeys[1], n_lat)\n",
    "X = random.normal(subkeys[2], (n_lat,))\n",
    "\n",
    "key, *subkeys = random.split(key, num=4)\n",
    "A = random.normal(subkeys[0], (n_obs, n_lat))\n",
    "Omega = var_sim(subkeys[1], n_obs)\n",
    "Y = random.normal(subkeys[2], (n_obs,))\n",
    "\n",
    "# joint distribution using factorization\n",
    "lpdf1 = jsp.stats.multivariate_normal.logpdf(W, mu_W, Sigma_W)\n",
    "lpdf1 = lpdf1 + jsp.stats.multivariate_normal.logpdf(X, W + mu_XW, Sigma_XW)\n",
    "lpdf1 = lpdf1 + \\\n",
    "    jsp.stats.multivariate_normal.logpdf(Y, jnp.matmul(A, X), Omega)\n",
    "\n",
    "# joint distribution using single mvn\n",
    "mu_Y = jnp.matmul(A, mu_W + mu_XW)\n",
    "Sigma_Y = jnp.linalg.multi_dot([A, Sigma_W + Sigma_XW, A.T]) + Omega\n",
    "AS_W = jnp.matmul(A, Sigma_W)\n",
    "AS_XW = jnp.matmul(A, Sigma_W + Sigma_XW)\n",
    "mu = jnp.block([mu_W, mu_W + mu_XW, mu_Y])\n",
    "Sigma = jnp.block([\n",
    "    [Sigma_W, Sigma_W, AS_W.T],\n",
    "    [Sigma_W, Sigma_W + Sigma_XW, AS_XW.T],\n",
    "    [AS_W, AS_XW, Sigma_Y]\n",
    "])\n",
    "lpdf2 = jsp.stats.multivariate_normal.logpdf(jnp.block([W, X, Y]), mu, Sigma)\n",
    "\n",
    "(lpdf1, lpdf2)"
   ]
  },
  {
   "cell_type": "markdown",
   "id": "44f935dd",
   "metadata": {},
   "source": [
    "Next, we verify that $p(\\WW, \\YY) = p(\\YY) p(\\WW \\mid \\YY)$, where the LHS is the multivariate normal with mean and variance subset from those of $p(\\WW, \\XX, \\YY)$, and the RHS is the product of the conditional distribution of interest and the marginal of $\\WW$, which is the top left corner of $p(\\WW, \\XX, \\YY)$."
   ]
  },
  {
   "cell_type": "code",
   "execution_count": 89,
   "id": "20555653",
   "metadata": {},
   "outputs": [
    {
     "data": {
      "text/plain": [
       "(DeviceArray(-254.89534275, dtype=float64),\n",
       " DeviceArray(-254.89534275, dtype=float64))"
      ]
     },
     "execution_count": 89,
     "metadata": {},
     "output_type": "execute_result"
    }
   ],
   "source": [
    "# joint distribution using factorization\n",
    "mu_WY, Sigma_WY = mvn_bridge_pars(mu_W, Sigma_W, mu_XW, Sigma_XW, Y, A, Omega)\n",
    "lpdf1 = jsp.stats.multivariate_normal.logpdf(Y, mu_Y, Sigma_Y)\n",
    "lpdf1 = lpdf1 + jsp.stats.multivariate_normal.logpdf(W, mu_WY, Sigma_WY)\n",
    "\n",
    "# joint distribution using single mvn\n",
    "ind = jnp.concatenate([jnp.arange(n_lat), 2*n_lat + jnp.arange(n_obs)])\n",
    "lpdf2 = jsp.stats.multivariate_normal.logpdf(jnp.block([W, Y]), mu[ind], Sigma[jnp.ix_(ind, ind)])\n",
    "\n",
    "(lpdf1, lpdf2)"
   ]
  },
  {
   "cell_type": "code",
   "execution_count": 91,
   "id": "ce7a0500",
   "metadata": {},
   "outputs": [
    {
     "data": {
      "text/plain": [
       "DeviceArray([0, 1, 2, 3, 4, 5, 6, 7, 8], dtype=int64)"
      ]
     },
     "execution_count": 91,
     "metadata": {},
     "output_type": "execute_result"
    }
   ],
   "source": [
    "x = jnp.arange(10)\n",
    "x[:-1]"
   ]
  },
  {
   "cell_type": "code",
   "execution_count": 92,
   "id": "b806ea80",
   "metadata": {},
   "outputs": [
    {
     "data": {
      "text/plain": [
       "DeviceArray(9, dtype=int64)"
      ]
     },
     "execution_count": 92,
     "metadata": {},
     "output_type": "execute_result"
    }
   ],
   "source": [
    "x[-1]"
   ]
  },
  {
   "cell_type": "code",
   "execution_count": 93,
   "id": "e5db52e0",
   "metadata": {},
   "outputs": [
    {
     "data": {
      "text/plain": [
       "DeviceArray([0, 1, 2, 3, 4, 5, 6, 7, 8, 9], dtype=int64)"
      ]
     },
     "execution_count": 93,
     "metadata": {},
     "output_type": "execute_result"
    }
   ],
   "source": [
    "x"
   ]
  },
  {
   "cell_type": "code",
   "execution_count": 11,
   "id": "f56f9294",
   "metadata": {},
   "outputs": [
    {
     "data": {
      "text/plain": [
       "DeviceArray([[0., 1., 2.],\n",
       "             [0., 0., 0.],\n",
       "             [0., 0., 0.],\n",
       "             [0., 0., 0.],\n",
       "             [0., 0., 0.],\n",
       "             [0., 0., 0.]], dtype=float64)"
      ]
     },
     "execution_count": 11,
     "metadata": {},
     "output_type": "execute_result"
    }
   ],
   "source": [
    "x = jnp.arange(3)\n",
    "y = jnp.zeros((5, 3))\n",
    "jnp.append(jnp.expand_dims(x, axis=0), y, axis=0)"
   ]
  },
  {
   "cell_type": "code",
   "execution_count": 18,
   "id": "ee7e5c62",
   "metadata": {},
   "outputs": [
    {
     "data": {
      "text/plain": [
       "DeviceArray([[0., 1., 2.],\n",
       "             [0., 0., 0.],\n",
       "             [0., 0., 0.],\n",
       "             [0., 0., 0.],\n",
       "             [0., 0., 0.],\n",
       "             [0., 0., 0.]], dtype=float64)"
      ]
     },
     "execution_count": 18,
     "metadata": {},
     "output_type": "execute_result"
    }
   ],
   "source": [
    "jnp.block([[x], [y]])"
   ]
  },
  {
   "cell_type": "code",
   "execution_count": 21,
   "id": "cafe6ced",
   "metadata": {},
   "outputs": [
    {
     "data": {
      "text/plain": [
       "DeviceArray([[[1., 1., 1.],\n",
       "              [1., 1., 1.]],\n",
       "\n",
       "             [[0., 0., 0.],\n",
       "              [0., 0., 0.]],\n",
       "\n",
       "             [[0., 0., 0.],\n",
       "              [0., 0., 0.]],\n",
       "\n",
       "             [[0., 0., 0.],\n",
       "              [0., 0., 0.]],\n",
       "\n",
       "             [[0., 0., 0.],\n",
       "              [0., 0., 0.]]], dtype=float64)"
      ]
     },
     "execution_count": 21,
     "metadata": {},
     "output_type": "execute_result"
    }
   ],
   "source": [
    "x = jnp.ones((2, 3))\n",
    "y = jnp.zeros((4, 2, 3))\n",
    "jnp.append(jnp.expand_dims(x, axis=0), y, axis=0)"
   ]
  },
  {
   "cell_type": "code",
   "execution_count": 24,
   "id": "37fbca2b",
   "metadata": {},
   "outputs": [
    {
     "data": {
      "text/plain": [
       "(7, 2, 3)"
      ]
     },
     "execution_count": 24,
     "metadata": {},
     "output_type": "execute_result"
    }
   ],
   "source": [
    "(7,) + x.shape"
   ]
  },
  {
   "cell_type": "code",
   "execution_count": null,
   "id": "04936aa7",
   "metadata": {},
   "outputs": [],
   "source": []
  }
 ],
 "metadata": {
  "kernelspec": {
   "display_name": "Python 3 (ipykernel)",
   "language": "python",
   "name": "python3"
  },
  "language_info": {
   "codemirror_mode": {
    "name": "ipython",
    "version": 3
   },
   "file_extension": ".py",
   "mimetype": "text/x-python",
   "name": "python",
   "nbconvert_exporter": "python",
   "pygments_lexer": "ipython3",
   "version": "3.8.12"
  },
  "latex_envs": {
   "LaTeX_envs_menu_present": true,
   "autoclose": false,
   "autocomplete": false,
   "bibliofile": "biblio.bib",
   "cite_by": "apalike",
   "current_citInitial": 1,
   "eqLabelWithNumbers": true,
   "eqNumInitial": 1,
   "hotkeys": {
    "equation": "Ctrl-E",
    "itemize": "Ctrl-I"
   },
   "labels_anchors": false,
   "latex_user_defs": true,
   "report_style_numbering": false,
   "user_envs_cfg": false
  }
 },
 "nbformat": 4,
 "nbformat_minor": 5
}
