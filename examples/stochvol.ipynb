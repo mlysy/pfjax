{
 "cells": [
  {
   "cell_type": "markdown",
   "metadata": {},
   "source": [
    "## Stochastic Volatility Model Explanation and Code"
   ]
  },
  {
   "cell_type": "markdown",
   "metadata": {},
   "source": [
    "The stochastic volatility model is one that is commonly seen in finance for options pricing. They generally consist of a two-dimensional stochastic differential equation (SDE) represented below:"
   ]
  },
  {
   "cell_type": "markdown",
   "metadata": {},
   "source": [
    "$$ dS_t = \\alpha S_t dt + S_t V_t dB_{t}^{S} $$\n",
    "$$ dV_t = \\mu(V_t, \\phi) dt + \\sigma(V_t, \\phi) dB_t^{V}"
   ]
  },
  {
   "cell_type": "markdown",
   "metadata": {},
   "source": [
    "Where $B_t^{V}$ and $B_t^{S}$ are both brownian motions. In this particular case, we will be looking at the multivariate version of this SDE where we have the following equations:"
   ]
  },
  {
   "cell_type": "markdown",
   "metadata": {},
   "source": [
    "$$dS_{it} = \\alpha S_{it} dt + S_{it}V_{it}dB_{it}^{S}$$\n",
    "$$d \\log (V_{it}) = \\gamma_{i}(\\mu_i - \\log V_{it})dt + \\sigma_{i} dB_{it}^{V}$$\n",
    "$$d \\log (V_{0t}) = \\gamma_{0}(\\mu_0 - \\log V_{0t})dt + \\sigma_{0} dB_{0t}^{V}$$"
   ]
  },
  {
   "cell_type": "markdown",
   "metadata": {},
   "source": []
  },
  {
   "cell_type": "code",
   "execution_count": null,
   "metadata": {},
   "outputs": [],
   "source": [
    "import jax.numpy as jnp\n",
    "import jax.scipy as jsp\n",
    "from jax import random\n",
    "\n",
    "class StochVolModel(sde.SDEModel):\n",
    "    def __init__(self, dt, n_res):\n",
    "        # creates \"private\" variables self._dt and self._n_res\n",
    "        super().__init__(dt, n_res, diff_diag=True)\n",
    "        self._n_state = (self._n_res, 2)\n",
    "\n",
    "    def drift(self, key, x, theta, q):\n",
    "        \"\"\"\n",
    "        Calculates the SDE drift function.\n",
    "        \"\"\"\n",
    "\n",
    "        for i in range(q):\n",
    "            b_v = random.noraml(key)\n",
    "            b_s = random.normal(key)\n",
    "            alpha = theta[i, 0]\n",
    "            mu = theta[i, 1]\n",
    "            phi = theta[i, 2]\n",
    "            sigma = theta[i, 3]\n",
    "            new_S = alpha * x[i,0] + x[i, 0] * x[i, 1] * b_s\n",
    "            new_V = mu(x[i, 0], phi) + sigma(x[i, 1], phi) * b_v\n",
    "\n",
    "    def diff(self, x, theta):\n",
    "        \"\"\"\n",
    "        Calculates the SDE diffusion function.\n",
    "        \"\"\"\n",
    "        return theta[4:6]\n"
   ]
  },
  {
   "cell_type": "code",
   "execution_count": null,
   "metadata": {},
   "outputs": [],
   "source": []
  }
 ],
 "metadata": {
  "interpreter": {
   "hash": "9e7464abe13babb6cd624e04f139f12a78ac45e130cf16382ea46b96353db4fd"
  },
  "kernelspec": {
   "display_name": "Python 3.8.2 ('venv': venv)",
   "language": "python",
   "name": "python3"
  },
  "language_info": {
   "name": "python",
   "version": "3.8.2"
  },
  "orig_nbformat": 4
 },
 "nbformat": 4,
 "nbformat_minor": 2
}
