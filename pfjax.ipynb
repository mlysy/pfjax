{
 "cells": [
  {
   "cell_type": "markdown",
   "metadata": {},
   "source": [
    "# Particle Filter with JAX\n",
    "\n",
    "**Martin Lysy, University of Waterloo**\n",
    "\n",
    "**November 11, 2021**\n",
    "\n",
    "## Summary\n",
    "\n",
    "The goal is to provide a fast implementation of a particle filter to estimate the marginal likelihood of a state-space model,\n",
    "$$\n",
    "\\begin{aligned}\n",
    "\\mathcal{L}(\\theta) & = p(y_{0:T} \\mid \\theta) \\\\\n",
    "& = \\int \\prod_{t=0}^T p(y_t \\mid x_t, \\theta) \\times \\prod_{t=1}^T p(x_t \\mid x_{t-1}, \\theta) \\times p(x_0 \\mid \\theta)\\, d x_{0:T},   \n",
    "\\end{aligned}\n",
    "$$\n",
    "along with its gradient, $\\nabla \\mathcal{L}(\\theta) = \\frac{\\partial}{\\partial \\theta} \\mathcal{L}(\\theta)$.  The [**JAX**](https://github.com/google/jax) library is used to efficiently compose jit and autodiff operations  in order to achieve this.\n",
    "\n",
    "## Notation\n",
    "\n",
    "### Functions\n",
    "\n",
    "- `state_lpdf(x_curr, x_last, theta)`: Log-density of $p(x_t | x_{t-1}, \\theta)$.\n",
    "- `state_sample(x_last, theta)`: Sample from $p(x_t | x_{t-1}, \\theta)$.\n",
    "- `meas_lpdf(y_curr, x_curr, theta)`: Log-density of $p(y_t | x_t, \\theta)$.\n",
    "- `meas_sample(x_curr, theta)`: Sample from $p(y_t | x_t, \\theta)$.\n",
    "\n",
    "### Dimensions\n",
    "\n",
    "- `n_obs`: Number of time points.\n",
    "- `n_particle`: Number of particles.\n",
    "- `n_state`: Tuple of state dimensions.\n",
    "- `n_meas`: Tuple of measured dimensions.\n",
    "\n",
    "## TODO\n",
    "\n",
    "- [ ] Test against true BM likelihood.\n",
    "\n",
    "- [x] Data should be $y_{0:T}$ instead of $y_{1:T}$.  This has been changed in some of the documentation but not all of it...\n",
    "\n",
    "- [x] Add arbitrary prior specification $p(x_0 \\mid \\theta)$.  Should also be able to specify $x_0$ directly to calculate the marginal likelihood $\\mathcal{L}(x_0, \\theta) = p(y_{0:T} \\mid x_0, \\theta)$.\n",
    "\n",
    "- [ ] Example where `n_state` and `n_meas` are not scalar.  This can be SDE with `n_res > 1`.\n",
    "\n",
    "- [ ] Interface for supplying new models to generic PF code.  Specifically, if we have `import pfjax as pfj` then we may need to JIT something like \n",
    "\n",
    "    ```python\n",
    "    def my_pf(theta):\n",
    "        out = pfj.particle_filter(y_meas, theta, n_particles,\n",
    "                                  my_state_sample, my_meas_lpdf,\n",
    "                                  *args, **kwargs)\n",
    "        return pfj.particle_loglik(out)\n",
    "    ```\n",
    "    \n",
    "    Or, perhaps instead we can create a `my_pf` object and then `jax.jit(my_pf.loglik)(theta)`?\n",
    "    \n",
    "- [ ] Add arbitrary proposal distribution $q(x_t \\mid x_{t-1}, \\theta)$.  This should perhaps be done using:\n",
    "\n",
    "    ```python\n",
    "    step_sample(x_prev, t, theta)\n",
    "    step_logw(x_curr, x_prev, t, theta)\n",
    "    ```\n",
    "    \n",
    "    instead of e.g., `state_prop_lpdf()`, `state_targ_lpdf()` and `meas_lpdf()` which gets assembled internally for the user.  This is what was done in [**SMCTC**](https://warwick.ac.uk/fac/sci/statistics/staff/academic-research/johansen/smctc/).  But what are the right args to these functions?  Sort of depends if they know about the \"global\" `y_meas`.  I think the right compromise is:\n",
    "    \n",
    "    ```python\n",
    "    step_sample(x_prev, y_curr, t, theta)\n",
    "    step_logw(x_curr, x_prev, y_curr, t, theta)\n",
    "    ```\n",
    "    \n",
    "    In other words, can use `y_curr` for an optimal filter, can support non-homogeneous state-space models via `t`, and anything more complicated will require globals.\n",
    "    \n",
    "- [ ] Add proper unit tests.  But of what?  Seems like JAX and NumPy are so similar that checking code from one against the other will hardly be that helpful...\n",
    "\n",
    "- [ ] Add CPU parallelism support."
   ]
  },
  {
   "cell_type": "markdown",
   "metadata": {},
   "source": [
    "## Example: Brownian motion with drift\n",
    "\n",
    "The model is\n",
    "$$\n",
    "\\newcommand{\\N}{\\mathcal{N}}\n",
    "\\newcommand{\\dt}{\\Delta t}\n",
    "\\begin{aligned}\n",
    "x_0 & \\sim \\pi(x_0) \\\\\n",
    "x_t & \\sim \\N(x_{t-1} + \\mu \\dt, \\sigma^2 \\dt) \\\\\n",
    "y_t & \\sim \\N(x_t, \\tau^2).\n",
    "\\end{aligned}\n",
    "$$\n",
    "\n",
    "Therefore, `n_state` = `n_meas` = 1, and we have a \"global\" constant $\\dt$ through which we never need to take derivatives.  \n",
    "\n",
    "Note that with $\\pi(x_0) \\propto 1$, we may condition on $y_0$ and obtain $x_0 \\mid y_0 \\sim \\N(y_0, \\tau^2)$."
   ]
  },
  {
   "cell_type": "markdown",
   "metadata": {},
   "source": [
    "### Using JAX\n",
    "\n",
    "**FIXME:** Since the relationship between JAX functions and how to jit them is a bit tricky (e.g., not clear whether/how `import` allows its functions to see others), for now we just load code files via `%run -i`, which is essentially equivalent to copy-pasting contents into notebook.  This will need to be changed as API becomes more usable.  "
   ]
  },
  {
   "cell_type": "code",
   "execution_count": 1,
   "metadata": {},
   "outputs": [
    {
     "name": "stderr",
     "output_type": "stream",
     "text": [
      "WARNING:absl:No GPU/TPU found, falling back to CPU. (Set TF_CPP_MIN_LOG_LEVEL=0 and rerun for more info.)\n"
     ]
    },
    {
     "name": "stdout",
     "output_type": "stream",
     "text": [
      "[5.  1.  0.1]\n",
      "max_diff between sim_for and sim_scan:\n",
      "\n",
      "y_meas = \n",
      " 0.0\n",
      "x_state = \n",
      " 0.0\n",
      "max_diff between pf_for and pf_scan:\n",
      "\n",
      "X_particles  = \n",
      " 3.3306690738754696e-16\n",
      "logw_particles  = \n",
      " 1.379290474904166\n",
      "ancestor_particles  = \n",
      " 0\n"
     ]
    }
   ],
   "source": [
    "# first a quick test of correctness\n",
    "exec(open(\"test_particle_filter.py\").read())"
   ]
  },
  {
   "cell_type": "code",
   "execution_count": 2,
   "metadata": {},
   "outputs": [
    {
     "name": "stdout",
     "output_type": "stream",
     "text": [
      "34.2 ms ± 1.96 ms per loop (mean ± std. dev. of 7 runs, 10 loops each)\n"
     ]
    }
   ],
   "source": [
    "# now some timings\n",
    "\n",
    "key = random.PRNGKey(0)\n",
    "\n",
    "# parameter values\n",
    "mu = 5\n",
    "sigma = 1\n",
    "tau = .1\n",
    "theta = jnp.array([mu, sigma, tau])\n",
    "\n",
    "# data specification\n",
    "dt = .1\n",
    "n_obs = 5\n",
    "x_init = jnp.array([0.])\n",
    "\n",
    "\n",
    "%timeit meas_sim_for(n_obs, x_init, theta, key)"
   ]
  },
  {
   "cell_type": "code",
   "execution_count": 3,
   "metadata": {},
   "outputs": [
    {
     "name": "stdout",
     "output_type": "stream",
     "text": [
      "18.9 µs ± 6.71 µs per loop (mean ± std. dev. of 7 runs, 1 loop each)\n"
     ]
    }
   ],
   "source": [
    "from functools import partial\n",
    "\n",
    "meas_sim_scan = jax.jit(meas_sim, static_argnums=0)\n",
    "%timeit meas_sim_scan(n_obs, x_init, theta, key)"
   ]
  },
  {
   "cell_type": "code",
   "execution_count": 4,
   "metadata": {},
   "outputs": [
    {
     "name": "stdout",
     "output_type": "stream",
     "text": [
      "26.6 µs ± 645 ns per loop (mean ± std. dev. of 7 runs, 10000 loops each)\n"
     ]
    }
   ],
   "source": [
    "%timeit particle_filter(y_meas, theta, n_particles, subkey)"
   ]
  },
  {
   "cell_type": "code",
   "execution_count": 5,
   "metadata": {},
   "outputs": [
    {
     "name": "stdout",
     "output_type": "stream",
     "text": [
      "34.5 µs ± 12.3 µs per loop (mean ± std. dev. of 7 runs, 1 loop each)\n"
     ]
    }
   ],
   "source": [
    "particle_filter_scan = jax.jit(particle_filter, static_argnums=2)\n",
    "%timeit particle_filter_scan(y_meas, theta, n_particles, subkey)"
   ]
  },
  {
   "cell_type": "markdown",
   "metadata": {},
   "source": [
    "### Test against exact likelihood\n",
    "\n",
    "The exact likelihood is defined as $p(y_{1:T} \\mid y_0, \\theta)$ rather than $p(y_{0:T} \\mid \\theta)$.  The reason is that the latter expression requires one to integrate over $x_0 \\sim \\pi(x_0)$, which can only be done when $\\pi(x_0)$ is a proper prior.  However, for our choice of $\\pi(x_0) \\propto 1$ this is not the case.  On the other hand, $p(y_{1:T} \\mid y_0, \\theta)$ only requires us to integrate over $p(x_0 \\mid y_0, \\theta)$, which only requires the posterior to be proper (which is always the case for valid Bayesian inference).\n",
    "\n",
    "Conditioned on $x_0$ and $\\theta$, the Brownian latent variables $x_{1:T}$ are multivariate normal with\n",
    "$$\n",
    "\\newcommand{\\cov}{\\operatorname{cov}}\n",
    "\\begin{aligned}\n",
    "%E[x_0 \\mid \\theta] & = y_0 & \\var(x_0\\\\\n",
    "E[x_t \\mid x_0, \\theta] & = x_0 + \\mu t, \\\\\n",
    "\\cov(x_s, x_t \\mid x_0, \\theta) & = \\sigma^2 \\min(s, t).\n",
    "\\end{aligned}\n",
    "$$\n",
    "Conditioned on $x_{0:T}$ and $\\theta$, the measurement variables $y_{1:T}$ are multivariate normal with\n",
    "$$\n",
    "\\begin{aligned}\n",
    "E[y_t \\mid x_{0:T}, \\theta] & = x_{1:T}, \\\\\n",
    "\\cov(y_s, y_t \\mid x_{0:T}, \\theta) & = \\tau^2 \\delta_{st}.\n",
    "\\end{aligned}\n",
    "$$\n",
    "Therefore, the marginal distribution of $y_{1:T}$ is multivariate normal with\n",
    "$$\n",
    "\\begin{aligned}\n",
    "E[y_t \\mid x_0, \\theta] & = x_0 + \\mu t, \\\\\n",
    "\\cov(y_s, y_t \\mid x_0, \\theta) & = \\sigma^2 \\min(s, t) + \\tau^2 \\delta_{st}.\n",
    "\\end{aligned}\n",
    "$$\n",
    "For the given choice of prior, we have $x_0 \\mid y_0 \\sim \\N(y_0, \\tau^2)$ for the initial observation $y_0$.  Integrating over $x_0$, the marginal distribution of $y_{1:T}$ is MVN with\n",
    "$$\n",
    "\\begin{aligned}\n",
    "E[y_t \\mid y_0, \\theta] & = y_0 + \\mu t, \\\\\n",
    "\\cov(y_s, y_t \\mid y_0, \\theta) & = \\sigma^2 \\min(s, t) + \\tau^2(\\delta_{st} + 1).\n",
    "\\end{aligned}\n",
    "$$"
   ]
  },
  {
   "cell_type": "code",
   "execution_count": 6,
   "metadata": {},
   "outputs": [
    {
     "data": {
      "text/plain": [
       "DeviceArray(-0.14218079, dtype=float64)"
      ]
     },
     "execution_count": 6,
     "metadata": {},
     "output_type": "execute_result"
    }
   ],
   "source": [
    "import numpy as np\n",
    "\n",
    "\n",
    "@jax.jit\n",
    "def bm_loglik(y_meas, dt, theta):\n",
    "    \"\"\"\n",
    "    Exact loglikelihood of the BM model.\n",
    "    \"\"\"\n",
    "    mu = theta[0]\n",
    "    sigma2 = theta[1] * theta[1]\n",
    "    tau2 = theta[2] * theta[2]\n",
    "    n_obs = y_meas.shape[0]-1  # conditioning on y_0\n",
    "    t_meas = jnp.arange(1, n_obs+1) * dt\n",
    "    Sigma_y = sigma2 * jax.vmap(lambda t: jnp.minimum(t, t_meas))(t_meas) + \\\n",
    "        tau2 * (jnp.ones((n_obs, n_obs)) + jnp.eye(n_obs))\n",
    "    mu_y = y_meas[0] + mu * t_meas\n",
    "    return jsp.stats.multivariate_normal.logpdf(jnp.squeeze(y_meas[1:]), mu_y, Sigma_y)\n",
    "\n",
    "\n",
    "bm_loglik(y_meas, dt, np.array([5, 1.2, 0]))"
   ]
  },
  {
   "cell_type": "code",
   "execution_count": 7,
   "metadata": {},
   "outputs": [
    {
     "data": {
      "text/plain": [
       "<seaborn.axisgrid.FacetGrid at 0x7faeb819c970>"
      ]
     },
     "execution_count": 7,
     "metadata": {},
     "output_type": "execute_result"
    },
    {
     "data": {
      "image/png": "[encoded data removed]",
      "text/plain": [
       "<Figure size 423.125x360 with 1 Axes>"
      ]
     },
     "metadata": {
      "needs_background": "light"
     },
     "output_type": "display_data"
    }
   ],
   "source": [
    "import numpy as np\n",
    "import pandas as pd\n",
    "import seaborn as sns\n",
    "from proj_data import proj_data\n",
    "\n",
    "# Simulate some data\n",
    "key = random.PRNGKey(10)\n",
    "\n",
    "# parameter values\n",
    "mu = 5.\n",
    "sigma = .2\n",
    "tau = 1.\n",
    "theta = np.array([mu, sigma, tau])\n",
    "# data specification\n",
    "dt = .2\n",
    "n_obs = 100\n",
    "x_init = jnp.array([0.])\n",
    "\n",
    "# simulate data\n",
    "key, subkey = random.split(key)\n",
    "y_meas, x_state = meas_sim(n_obs, x_init, theta, subkey)\n",
    "\n",
    "# plot data\n",
    "plot_df = (pd.DataFrame({\"time\": jnp.arange(n_obs) * dt,\n",
    "                         \"state\": jnp.squeeze(x_state),\n",
    "                         \"meas\": jnp.squeeze(y_meas)})\n",
    "           .melt(id_vars=\"time\", var_name=\"type\"))\n",
    "sns.relplot(\n",
    "    data=plot_df, kind=\"line\",\n",
    "    x=\"time\", y=\"value\", hue=\"type\"\n",
    ")"
   ]
  },
  {
   "cell_type": "code",
   "execution_count": 13,
   "metadata": {
    "scrolled": true
   },
   "outputs": [
    {
     "data": {
      "text/plain": [
       "<seaborn.axisgrid.FacetGrid at 0x7faebab44580>"
      ]
     },
     "execution_count": 13,
     "metadata": {},
     "output_type": "execute_result"
    },
    {
     "data": {
      "image/png": "[encoded data removed]",
      "text/plain": [
       "<Figure size 1080x360 with 3 Axes>"
      ]
     },
     "metadata": {
      "needs_background": "light"
     },
     "output_type": "display_data"
    }
   ],
   "source": [
    "# plot exact likelihood\n",
    "theta_lims = np.array([[3., 8.], [.1, .5], [.5, 2]])\n",
    "#theta_lims = np.array([[3., 8.], [.194, .195], [0, 10]])\n",
    "theta_names = [\"mu\", \"sigma\", \"tau\"]\n",
    "n_pts = 100\n",
    "\n",
    "# calculate projection plot\n",
    "plot_df = proj_data(lambda th: bm_loglik(y_meas, dt, th),\n",
    "                    theta, theta_lims, theta_names)\n",
    "\n",
    "sns.relplot(\n",
    "    data=plot_df, kind=\"line\",\n",
    "    x=\"x\", y=\"y\", col=\"theta\",\n",
    "    facet_kws=dict(sharex=False, sharey=False)\n",
    ")"
   ]
  },
  {
   "cell_type": "code",
   "execution_count": 22,
   "metadata": {},
   "outputs": [
    {
     "name": "stdout",
     "output_type": "stream",
     "text": [
      "1.17 ms ± 18.2 µs per loop (mean ± std. dev. of 7 runs, 1000 loops each)\n"
     ]
    }
   ],
   "source": [
    "# now with particle filter\n",
    "n_particles = 100\n",
    "theta = jnp.array([mu, sigma, tau])\n",
    "%timeit pf_out = particle_filter_scan(y_meas, theta, n_particles, key)"
   ]
  },
  {
   "cell_type": "markdown",
   "metadata": {},
   "source": [
    "## Tests with `pmap`\n",
    "\n",
    "A few interesting threads:\n",
    "\n",
    "- [Here's](https://github.com/google/jax/issues/5506) to tell XLA to use multiple CPUs.\n",
    "- Not sure what happens if you set more devices than there are cores, so perhaps best to use `vmap` inside `pmap`.  However, could potentially do with [`xmap`](https://jax.readthedocs.io/en/latest/notebooks/xmap_tutorial.html) instead.  Note there an alternative way of setting the number of CPU devices from within Python, but may not actually dispatch to multiple cores..."
   ]
  },
  {
   "cell_type": "code",
   "execution_count": 1,
   "metadata": {},
   "outputs": [
    {
     "name": "stderr",
     "output_type": "stream",
     "text": [
      "WARNING:absl:No GPU/TPU found, falling back to CPU. (Set TF_CPP_MIN_LOG_LEVEL=0 and rerun for more info.)\n"
     ]
    },
    {
     "data": {
      "text/plain": [
       "[<jaxlib.xla_extension.Device at 0x7fea2504aa70>]"
      ]
     },
     "execution_count": 1,
     "metadata": {},
     "output_type": "execute_result"
    }
   ],
   "source": [
    "import jax\n",
    "jax.devices()"
   ]
  },
  {
   "cell_type": "markdown",
   "metadata": {},
   "source": [
    "## Scratch"
   ]
  },
  {
   "cell_type": "code",
   "execution_count": 30,
   "metadata": {},
   "outputs": [
    {
     "data": {
      "text/html": [
       "<style type=\"text/css\">pre { line-height: 125%; }\n",
       "td.linenos .normal { color: inherit; background-color: transparent; padding-left: 5px; padding-right: 5px; }\n",
       "span.linenos { color: inherit; background-color: transparent; padding-left: 5px; padding-right: 5px; }\n",
       "td.linenos .special { color: #000000; background-color: #ffffc0; padding-left: 5px; padding-right: 5px; }\n",
       "span.linenos.special { color: #000000; background-color: #ffffc0; padding-left: 5px; padding-right: 5px; }\n",
       ".highlight .hll { background-color: #ffffcc }\n",
       ".highlight { background: #f8f8f8; }\n",
       ".highlight .c { color: #408080; font-style: italic } /* Comment */\n",
       ".highlight .err { border: 1px solid #FF0000 } /* Error */\n",
       ".highlight .k { color: #008000; font-weight: bold } /* Keyword */\n",
       ".highlight .o { color: #666666 } /* Operator */\n",
       ".highlight .ch { color: #408080; font-style: italic } /* Comment.Hashbang */\n",
       ".highlight .cm { color: #408080; font-style: italic } /* Comment.Multiline */\n",
       ".highlight .cp { color: #BC7A00 } /* Comment.Preproc */\n",
       ".highlight .cpf { color: #408080; font-style: italic } /* Comment.PreprocFile */\n",
       ".highlight .c1 { color: #408080; font-style: italic } /* Comment.Single */\n",
       ".highlight .cs { color: #408080; font-style: italic } /* Comment.Special */\n",
       ".highlight .gd { color: #A00000 } /* Generic.Deleted */\n",
       ".highlight .ge { font-style: italic } /* Generic.Emph */\n",
       ".highlight .gr { color: #FF0000 } /* Generic.Error */\n",
       ".highlight .gh { color: #000080; font-weight: bold } /* Generic.Heading */\n",
       ".highlight .gi { color: #00A000 } /* Generic.Inserted */\n",
       ".highlight .go { color: #888888 } /* Generic.Output */\n",
       ".highlight .gp { color: #000080; font-weight: bold } /* Generic.Prompt */\n",
       ".highlight .gs { font-weight: bold } /* Generic.Strong */\n",
       ".highlight .gu { color: #800080; font-weight: bold } /* Generic.Subheading */\n",
       ".highlight .gt { color: #0044DD } /* Generic.Traceback */\n",
       ".highlight .kc { color: #008000; font-weight: bold } /* Keyword.Constant */\n",
       ".highlight .kd { color: #008000; font-weight: bold } /* Keyword.Declaration */\n",
       ".highlight .kn { color: #008000; font-weight: bold } /* Keyword.Namespace */\n",
       ".highlight .kp { color: #008000 } /* Keyword.Pseudo */\n",
       ".highlight .kr { color: #008000; font-weight: bold } /* Keyword.Reserved */\n",
       ".highlight .kt { color: #B00040 } /* Keyword.Type */\n",
       ".highlight .m { color: #666666 } /* Literal.Number */\n",
       ".highlight .s { color: #BA2121 } /* Literal.String */\n",
       ".highlight .na { color: #7D9029 } /* Name.Attribute */\n",
       ".highlight .nb { color: #008000 } /* Name.Builtin */\n",
       ".highlight .nc { color: #0000FF; font-weight: bold } /* Name.Class */\n",
       ".highlight .no { color: #880000 } /* Name.Constant */\n",
       ".highlight .nd { color: #AA22FF } /* Name.Decorator */\n",
       ".highlight .ni { color: #999999; font-weight: bold } /* Name.Entity */\n",
       ".highlight .ne { color: #D2413A; font-weight: bold } /* Name.Exception */\n",
       ".highlight .nf { color: #0000FF } /* Name.Function */\n",
       ".highlight .nl { color: #A0A000 } /* Name.Label */\n",
       ".highlight .nn { color: #0000FF; font-weight: bold } /* Name.Namespace */\n",
       ".highlight .nt { color: #008000; font-weight: bold } /* Name.Tag */\n",
       ".highlight .nv { color: #19177C } /* Name.Variable */\n",
       ".highlight .ow { color: #AA22FF; font-weight: bold } /* Operator.Word */\n",
       ".highlight .w { color: #bbbbbb } /* Text.Whitespace */\n",
       ".highlight .mb { color: #666666 } /* Literal.Number.Bin */\n",
       ".highlight .mf { color: #666666 } /* Literal.Number.Float */\n",
       ".highlight .mh { color: #666666 } /* Literal.Number.Hex */\n",
       ".highlight .mi { color: #666666 } /* Literal.Number.Integer */\n",
       ".highlight .mo { color: #666666 } /* Literal.Number.Oct */\n",
       ".highlight .sa { color: #BA2121 } /* Literal.String.Affix */\n",
       ".highlight .sb { color: #BA2121 } /* Literal.String.Backtick */\n",
       ".highlight .sc { color: #BA2121 } /* Literal.String.Char */\n",
       ".highlight .dl { color: #BA2121 } /* Literal.String.Delimiter */\n",
       ".highlight .sd { color: #BA2121; font-style: italic } /* Literal.String.Doc */\n",
       ".highlight .s2 { color: #BA2121 } /* Literal.String.Double */\n",
       ".highlight .se { color: #BB6622; font-weight: bold } /* Literal.String.Escape */\n",
       ".highlight .sh { color: #BA2121 } /* Literal.String.Heredoc */\n",
       ".highlight .si { color: #BB6688; font-weight: bold } /* Literal.String.Interpol */\n",
       ".highlight .sx { color: #008000 } /* Literal.String.Other */\n",
       ".highlight .sr { color: #BB6688 } /* Literal.String.Regex */\n",
       ".highlight .s1 { color: #BA2121 } /* Literal.String.Single */\n",
       ".highlight .ss { color: #19177C } /* Literal.String.Symbol */\n",
       ".highlight .bp { color: #008000 } /* Name.Builtin.Pseudo */\n",
       ".highlight .fm { color: #0000FF } /* Name.Function.Magic */\n",
       ".highlight .vc { color: #19177C } /* Name.Variable.Class */\n",
       ".highlight .vg { color: #19177C } /* Name.Variable.Global */\n",
       ".highlight .vi { color: #19177C } /* Name.Variable.Instance */\n",
       ".highlight .vm { color: #19177C } /* Name.Variable.Magic */\n",
       ".highlight .il { color: #666666 } /* Literal.Number.Integer.Long */</style><div class=\"highlight\"><pre><span></span><span class=\"sd\">&quot;&quot;&quot;</span>\n",
       "<span class=\"sd\">Particle filter in JAX.</span>\n",
       "\n",
       "<span class=\"sd\">Uses the same API as NumPy/SciPy version.</span>\n",
       "<span class=\"sd\">&quot;&quot;&quot;</span>\n",
       "\n",
       "<span class=\"kn\">import</span> <span class=\"nn\">jax</span>\n",
       "<span class=\"kn\">import</span> <span class=\"nn\">jax.numpy</span> <span class=\"k\">as</span> <span class=\"nn\">jnp</span>\n",
       "<span class=\"kn\">import</span> <span class=\"nn\">jax.scipy</span> <span class=\"k\">as</span> <span class=\"nn\">jsp</span>\n",
       "<span class=\"kn\">from</span> <span class=\"nn\">jax</span> <span class=\"kn\">import</span> <span class=\"n\">random</span>\n",
       "\n",
       "\n",
       "<span class=\"k\">def</span> <span class=\"nf\">meas_sim</span><span class=\"p\">(</span><span class=\"n\">n_obs</span><span class=\"p\">,</span> <span class=\"n\">x_init</span><span class=\"p\">,</span> <span class=\"n\">theta</span><span class=\"p\">,</span> <span class=\"n\">key</span><span class=\"p\">):</span>\n",
       "    <span class=\"sd\">&quot;&quot;&quot;</span>\n",
       "<span class=\"sd\">    Simulate data from the state-space model.</span>\n",
       "\n",
       "<span class=\"sd\">    Args:</span>\n",
       "<span class=\"sd\">        n_obs: Number of observations to generate.</span>\n",
       "<span class=\"sd\">        x_init: Initial state value at time `t = 0`.</span>\n",
       "<span class=\"sd\">        theta: Parameter value.</span>\n",
       "<span class=\"sd\">        key: PRNG key.</span>\n",
       "\n",
       "<span class=\"sd\">    Returns:</span>\n",
       "<span class=\"sd\">        y_meas: The sequence of measurement variables `y_meas = (y_0, ..., y_T)`, where `T = n_obs-1`.</span>\n",
       "<span class=\"sd\">        x_state: The sequence of state variables `x_state = (x_0, ..., x_T)`, where `T = n_obs-1`.</span>\n",
       "<span class=\"sd\">    &quot;&quot;&quot;</span>\n",
       "    <span class=\"n\">y_meas</span> <span class=\"o\">=</span> <span class=\"n\">jnp</span><span class=\"o\">.</span><span class=\"n\">zeros</span><span class=\"p\">((</span><span class=\"n\">n_obs</span><span class=\"p\">,</span> <span class=\"n\">n_meas</span><span class=\"p\">))</span>\n",
       "    <span class=\"n\">x_state</span> <span class=\"o\">=</span> <span class=\"n\">jnp</span><span class=\"o\">.</span><span class=\"n\">zeros</span><span class=\"p\">((</span><span class=\"n\">n_obs</span><span class=\"p\">,</span> <span class=\"n\">n_state</span><span class=\"p\">))</span>\n",
       "    <span class=\"n\">x_state</span> <span class=\"o\">=</span> <span class=\"n\">x_state</span><span class=\"o\">.</span><span class=\"n\">at</span><span class=\"p\">[</span><span class=\"mi\">0</span><span class=\"p\">]</span><span class=\"o\">.</span><span class=\"n\">set</span><span class=\"p\">(</span><span class=\"n\">x_init</span><span class=\"p\">)</span>\n",
       "    <span class=\"k\">for</span> <span class=\"n\">t</span> <span class=\"ow\">in</span> <span class=\"nb\">range</span><span class=\"p\">(</span><span class=\"mi\">1</span><span class=\"p\">,</span> <span class=\"n\">n_obs</span><span class=\"p\">):</span>\n",
       "        <span class=\"n\">key</span><span class=\"p\">,</span> <span class=\"o\">*</span><span class=\"n\">subkeys</span> <span class=\"o\">=</span> <span class=\"n\">random</span><span class=\"o\">.</span><span class=\"n\">split</span><span class=\"p\">(</span><span class=\"n\">key</span><span class=\"p\">,</span> <span class=\"n\">num</span><span class=\"o\">=</span><span class=\"mi\">3</span><span class=\"p\">)</span>\n",
       "        <span class=\"n\">x_state</span> <span class=\"o\">=</span> <span class=\"n\">x_state</span><span class=\"o\">.</span><span class=\"n\">at</span><span class=\"p\">[</span><span class=\"n\">t</span><span class=\"p\">]</span><span class=\"o\">.</span><span class=\"n\">set</span><span class=\"p\">(</span>\n",
       "            <span class=\"n\">state_sample</span><span class=\"p\">(</span><span class=\"n\">x_state</span><span class=\"p\">[</span><span class=\"n\">t</span><span class=\"o\">-</span><span class=\"mi\">1</span><span class=\"p\">],</span> <span class=\"n\">theta</span><span class=\"p\">,</span> <span class=\"n\">subkeys</span><span class=\"p\">[</span><span class=\"mi\">0</span><span class=\"p\">])</span>\n",
       "        <span class=\"p\">)</span>\n",
       "        <span class=\"n\">y_meas</span> <span class=\"o\">=</span> <span class=\"n\">y_meas</span><span class=\"o\">.</span><span class=\"n\">at</span><span class=\"p\">[</span><span class=\"n\">t</span><span class=\"p\">]</span><span class=\"o\">.</span><span class=\"n\">set</span><span class=\"p\">(</span><span class=\"n\">meas_sample</span><span class=\"p\">(</span><span class=\"n\">x_state</span><span class=\"p\">[</span><span class=\"n\">t</span><span class=\"p\">],</span> <span class=\"n\">theta</span><span class=\"p\">,</span> <span class=\"n\">subkeys</span><span class=\"p\">[</span><span class=\"mi\">1</span><span class=\"p\">]))</span>\n",
       "    <span class=\"k\">return</span> <span class=\"n\">y_meas</span><span class=\"p\">,</span> <span class=\"n\">x_state</span>\n",
       "\n",
       "\n",
       "<span class=\"k\">def</span> <span class=\"nf\">particle_resample</span><span class=\"p\">(</span><span class=\"n\">logw</span><span class=\"p\">,</span> <span class=\"n\">key</span><span class=\"p\">):</span>\n",
       "    <span class=\"sd\">&quot;&quot;&quot;</span>\n",
       "<span class=\"sd\">    Particle resampler.</span>\n",
       "\n",
       "<span class=\"sd\">    This basic one just does a multinomial sampler, i.e., sample with replacement proportional to weights.</span>\n",
       "\n",
       "<span class=\"sd\">    Args:</span>\n",
       "<span class=\"sd\">        logw: Vector of `n_particles` unnormalized log-weights.</span>\n",
       "<span class=\"sd\">        key: PRNG key.</span>\n",
       "\n",
       "<span class=\"sd\">    Returns:</span>\n",
       "<span class=\"sd\">        Vector of `n_particles` integers between 0 and `n_particles-1`, sampled with replacement with probability vector `exp(logw) / sum(exp(logw))`.</span>\n",
       "<span class=\"sd\">    &quot;&quot;&quot;</span>\n",
       "    <span class=\"n\">wgt</span> <span class=\"o\">=</span> <span class=\"n\">jnp</span><span class=\"o\">.</span><span class=\"n\">exp</span><span class=\"p\">(</span><span class=\"n\">logw</span> <span class=\"o\">-</span> <span class=\"n\">jnp</span><span class=\"o\">.</span><span class=\"n\">max</span><span class=\"p\">(</span><span class=\"n\">logw</span><span class=\"p\">))</span>\n",
       "    <span class=\"n\">prob</span> <span class=\"o\">=</span> <span class=\"n\">wgt</span> <span class=\"o\">/</span> <span class=\"n\">jnp</span><span class=\"o\">.</span><span class=\"n\">sum</span><span class=\"p\">(</span><span class=\"n\">wgt</span><span class=\"p\">)</span>\n",
       "    <span class=\"n\">n_particles</span> <span class=\"o\">=</span> <span class=\"n\">logw</span><span class=\"o\">.</span><span class=\"n\">size</span>\n",
       "    <span class=\"k\">return</span> <span class=\"n\">random</span><span class=\"o\">.</span><span class=\"n\">choice</span><span class=\"p\">(</span><span class=\"n\">key</span><span class=\"p\">,</span>\n",
       "                         <span class=\"n\">a</span><span class=\"o\">=</span><span class=\"n\">jnp</span><span class=\"o\">.</span><span class=\"n\">arange</span><span class=\"p\">(</span><span class=\"n\">n_particles</span><span class=\"p\">),</span> <span class=\"n\">shape</span><span class=\"o\">=</span><span class=\"p\">(</span><span class=\"n\">n_particles</span><span class=\"p\">,),</span> <span class=\"n\">p</span><span class=\"o\">=</span><span class=\"n\">prob</span><span class=\"p\">)</span>\n",
       "\n",
       "\n",
       "<span class=\"k\">def</span> <span class=\"nf\">particle_filter</span><span class=\"p\">(</span><span class=\"n\">y_meas</span><span class=\"p\">,</span> <span class=\"n\">theta</span><span class=\"p\">,</span> <span class=\"n\">n_particles</span><span class=\"p\">,</span> <span class=\"n\">key</span><span class=\"p\">):</span>\n",
       "    <span class=\"sd\">&quot;&quot;&quot;</span>\n",
       "<span class=\"sd\">    Apply particle filter for given value of `theta`.</span>\n",
       "\n",
       "<span class=\"sd\">    Closely follows Algorithm 2 of https://arxiv.org/pdf/1306.3277.pdf.</span>\n",
       "\n",
       "<span class=\"sd\">    Args:</span>\n",
       "<span class=\"sd\">        y_meas: The sequence of `n_obs` measurement variables `y_meas = (y_0, ..., y_T)`, where `T = n_obs-1`.</span>\n",
       "<span class=\"sd\">        theta: Parameter value.</span>\n",
       "<span class=\"sd\">        n_particles: Number of particles.</span>\n",
       "<span class=\"sd\">        key: PRNG key.</span>\n",
       "\n",
       "<span class=\"sd\">    Returns:</span>\n",
       "<span class=\"sd\">        A dictionary with elements:</span>\n",
       "<span class=\"sd\">            - `X_particles`: An `ndarray` with leading dimensions `(n_obs, n_particles)` containing the state variable particles.</span>\n",
       "<span class=\"sd\">            - `logw_particles`: An `ndarray` of shape `(n_obs, n_particles)` giving the unnormalized log-weights of each particle at each time point.</span>\n",
       "<span class=\"sd\">            - `ancestor_particles`: An integer `ndarray` of shape `(n_obs, n_particles)` where each element gives the index of the particle&#39;s ancestor at the previous time point.  Since the first time point does not have ancestors, the first row of `ancestor_particles` contains all `-1`.</span>\n",
       "<span class=\"sd\">    &quot;&quot;&quot;</span>\n",
       "    <span class=\"c1\"># memory allocation</span>\n",
       "    <span class=\"n\">n_obs</span> <span class=\"o\">=</span> <span class=\"n\">y_meas</span><span class=\"o\">.</span><span class=\"n\">shape</span><span class=\"p\">[</span><span class=\"mi\">0</span><span class=\"p\">]</span>\n",
       "    <span class=\"n\">X_particles</span> <span class=\"o\">=</span> <span class=\"n\">jnp</span><span class=\"o\">.</span><span class=\"n\">zeros</span><span class=\"p\">((</span><span class=\"n\">n_obs</span><span class=\"p\">,</span> <span class=\"n\">n_particles</span><span class=\"p\">,</span> <span class=\"n\">n_state</span><span class=\"p\">))</span>\n",
       "    <span class=\"n\">logw_particles</span> <span class=\"o\">=</span> <span class=\"n\">jnp</span><span class=\"o\">.</span><span class=\"n\">zeros</span><span class=\"p\">((</span><span class=\"n\">n_obs</span><span class=\"p\">,</span> <span class=\"n\">n_particles</span><span class=\"p\">))</span>\n",
       "    <span class=\"n\">ancestor_particles</span> <span class=\"o\">=</span> <span class=\"n\">jnp</span><span class=\"o\">.</span><span class=\"n\">zeros</span><span class=\"p\">((</span><span class=\"n\">n_obs</span><span class=\"p\">,</span> <span class=\"n\">n_particles</span><span class=\"p\">),</span> <span class=\"n\">dtype</span><span class=\"o\">=</span><span class=\"nb\">int</span><span class=\"p\">)</span>\n",
       "    <span class=\"c1\"># initial particles have no ancestors</span>\n",
       "    <span class=\"n\">ancestor_particles</span> <span class=\"o\">=</span> <span class=\"n\">ancestor_particles</span><span class=\"o\">.</span><span class=\"n\">at</span><span class=\"p\">[</span><span class=\"mi\">0</span><span class=\"p\">]</span><span class=\"o\">.</span><span class=\"n\">set</span><span class=\"p\">(</span><span class=\"o\">-</span><span class=\"mi\">1</span><span class=\"p\">)</span>\n",
       "    <span class=\"c1\"># initial time point</span>\n",
       "    <span class=\"n\">key</span><span class=\"p\">,</span> <span class=\"o\">*</span><span class=\"n\">subkeys</span> <span class=\"o\">=</span> <span class=\"n\">random</span><span class=\"o\">.</span><span class=\"n\">split</span><span class=\"p\">(</span><span class=\"n\">key</span><span class=\"p\">,</span> <span class=\"n\">num</span><span class=\"o\">=</span><span class=\"n\">n_particles</span><span class=\"o\">+</span><span class=\"mi\">1</span><span class=\"p\">)</span>\n",
       "    <span class=\"n\">X_particles</span> <span class=\"o\">=</span> <span class=\"n\">X_particles</span><span class=\"o\">.</span><span class=\"n\">at</span><span class=\"p\">[</span><span class=\"mi\">0</span><span class=\"p\">]</span><span class=\"o\">.</span><span class=\"n\">set</span><span class=\"p\">(</span>\n",
       "        <span class=\"n\">jax</span><span class=\"o\">.</span><span class=\"n\">vmap</span><span class=\"p\">(</span><span class=\"k\">lambda</span> <span class=\"n\">k</span><span class=\"p\">:</span> <span class=\"n\">init_sample</span><span class=\"p\">(</span><span class=\"n\">y_meas</span><span class=\"p\">[</span><span class=\"mi\">0</span><span class=\"p\">],</span> <span class=\"n\">theta</span><span class=\"p\">,</span> <span class=\"n\">k</span><span class=\"p\">))(</span>\n",
       "            <span class=\"n\">jnp</span><span class=\"o\">.</span><span class=\"n\">array</span><span class=\"p\">(</span><span class=\"n\">subkeys</span><span class=\"p\">)</span>\n",
       "        <span class=\"p\">)</span>\n",
       "    <span class=\"p\">)</span>\n",
       "    <span class=\"n\">logw_particles</span> <span class=\"o\">=</span> <span class=\"n\">logw_particles</span><span class=\"o\">.</span><span class=\"n\">at</span><span class=\"p\">[</span><span class=\"mi\">0</span><span class=\"p\">]</span><span class=\"o\">.</span><span class=\"n\">set</span><span class=\"p\">(</span>\n",
       "        <span class=\"n\">jax</span><span class=\"o\">.</span><span class=\"n\">vmap</span><span class=\"p\">(</span><span class=\"k\">lambda</span> <span class=\"n\">xs</span><span class=\"p\">:</span> <span class=\"n\">init_logw</span><span class=\"p\">(</span><span class=\"n\">xs</span><span class=\"p\">,</span> <span class=\"n\">y_meas</span><span class=\"p\">[</span><span class=\"mi\">0</span><span class=\"p\">],</span> <span class=\"n\">theta</span><span class=\"p\">)</span> <span class=\"o\">+</span>\n",
       "                 <span class=\"n\">meas_lpdf</span><span class=\"p\">(</span><span class=\"n\">y_meas</span><span class=\"p\">[</span><span class=\"mi\">0</span><span class=\"p\">],</span> <span class=\"n\">xs</span><span class=\"p\">,</span> <span class=\"n\">theta</span><span class=\"p\">))(</span><span class=\"n\">X_particles</span><span class=\"p\">[</span><span class=\"mi\">0</span><span class=\"p\">])</span>\n",
       "    <span class=\"p\">)</span>\n",
       "    <span class=\"c1\"># subsequent time points</span>\n",
       "    <span class=\"k\">for</span> <span class=\"n\">t</span> <span class=\"ow\">in</span> <span class=\"nb\">range</span><span class=\"p\">(</span><span class=\"mi\">1</span><span class=\"p\">,</span> <span class=\"n\">n_obs</span><span class=\"p\">):</span>\n",
       "        <span class=\"c1\"># resampling step</span>\n",
       "        <span class=\"n\">key</span><span class=\"p\">,</span> <span class=\"n\">subkey</span> <span class=\"o\">=</span> <span class=\"n\">random</span><span class=\"o\">.</span><span class=\"n\">split</span><span class=\"p\">(</span><span class=\"n\">key</span><span class=\"p\">)</span>\n",
       "        <span class=\"n\">ancestor_particles</span> <span class=\"o\">=</span> <span class=\"n\">ancestor_particles</span><span class=\"o\">.</span><span class=\"n\">at</span><span class=\"p\">[</span><span class=\"n\">t</span><span class=\"p\">]</span><span class=\"o\">.</span><span class=\"n\">set</span><span class=\"p\">(</span>\n",
       "            <span class=\"n\">particle_resample</span><span class=\"p\">(</span><span class=\"n\">logw_particles</span><span class=\"p\">[</span><span class=\"n\">t</span><span class=\"o\">-</span><span class=\"mi\">1</span><span class=\"p\">],</span> <span class=\"n\">subkey</span><span class=\"p\">)</span>\n",
       "        <span class=\"p\">)</span>\n",
       "        <span class=\"c1\"># update</span>\n",
       "        <span class=\"n\">key</span><span class=\"p\">,</span> <span class=\"o\">*</span><span class=\"n\">subkeys</span> <span class=\"o\">=</span> <span class=\"n\">random</span><span class=\"o\">.</span><span class=\"n\">split</span><span class=\"p\">(</span><span class=\"n\">key</span><span class=\"p\">,</span> <span class=\"n\">num</span><span class=\"o\">=</span><span class=\"n\">n_particles</span><span class=\"o\">+</span><span class=\"mi\">1</span><span class=\"p\">)</span>\n",
       "        <span class=\"n\">X_particles</span> <span class=\"o\">=</span> <span class=\"n\">X_particles</span><span class=\"o\">.</span><span class=\"n\">at</span><span class=\"p\">[</span><span class=\"n\">t</span><span class=\"p\">]</span><span class=\"o\">.</span><span class=\"n\">set</span><span class=\"p\">(</span>\n",
       "            <span class=\"n\">jax</span><span class=\"o\">.</span><span class=\"n\">vmap</span><span class=\"p\">(</span><span class=\"k\">lambda</span> <span class=\"n\">xs</span><span class=\"p\">,</span> <span class=\"n\">k</span><span class=\"p\">:</span> <span class=\"n\">state_sample</span><span class=\"p\">(</span><span class=\"n\">xs</span><span class=\"p\">,</span> <span class=\"n\">theta</span><span class=\"p\">,</span> <span class=\"n\">k</span><span class=\"p\">))(</span>\n",
       "                <span class=\"n\">X_particles</span><span class=\"p\">[</span><span class=\"n\">t</span><span class=\"o\">-</span><span class=\"mi\">1</span><span class=\"p\">,</span> <span class=\"n\">ancestor_particles</span><span class=\"p\">[</span><span class=\"n\">t</span><span class=\"p\">]],</span> <span class=\"n\">jnp</span><span class=\"o\">.</span><span class=\"n\">array</span><span class=\"p\">(</span><span class=\"n\">subkeys</span><span class=\"p\">)</span>\n",
       "            <span class=\"p\">)</span>\n",
       "        <span class=\"p\">)</span>\n",
       "        <span class=\"n\">logw_particles</span> <span class=\"o\">=</span> <span class=\"n\">logw_particles</span><span class=\"o\">.</span><span class=\"n\">at</span><span class=\"p\">[</span><span class=\"n\">t</span><span class=\"p\">]</span><span class=\"o\">.</span><span class=\"n\">set</span><span class=\"p\">(</span>\n",
       "            <span class=\"n\">jax</span><span class=\"o\">.</span><span class=\"n\">vmap</span><span class=\"p\">(</span><span class=\"k\">lambda</span> <span class=\"n\">xs</span><span class=\"p\">:</span> <span class=\"n\">meas_lpdf</span><span class=\"p\">(</span><span class=\"n\">y_meas</span><span class=\"p\">[</span><span class=\"n\">t</span><span class=\"p\">],</span> <span class=\"n\">xs</span><span class=\"p\">,</span> <span class=\"n\">theta</span><span class=\"p\">))(</span>\n",
       "                <span class=\"n\">X_particles</span><span class=\"p\">[</span><span class=\"n\">t</span><span class=\"p\">]</span>\n",
       "            <span class=\"p\">)</span>\n",
       "        <span class=\"p\">)</span>\n",
       "    <span class=\"k\">return</span> <span class=\"p\">{</span>\n",
       "        <span class=\"s2\">&quot;X_particles&quot;</span><span class=\"p\">:</span> <span class=\"n\">X_particles</span><span class=\"p\">,</span>\n",
       "        <span class=\"s2\">&quot;logw_particles&quot;</span><span class=\"p\">:</span> <span class=\"n\">logw_particles</span><span class=\"p\">,</span>\n",
       "        <span class=\"s2\">&quot;ancestor_particles&quot;</span><span class=\"p\">:</span> <span class=\"n\">ancestor_particles</span>\n",
       "    <span class=\"p\">}</span>\n",
       "\n",
       "\n",
       "<span class=\"k\">def</span> <span class=\"nf\">particle_loglik</span><span class=\"p\">(</span><span class=\"n\">logw_particles</span><span class=\"p\">):</span>\n",
       "    <span class=\"sd\">&quot;&quot;&quot;</span>\n",
       "<span class=\"sd\">    Calculate particle filter marginal loglikelihood.</span>\n",
       "\n",
       "<span class=\"sd\">    FIXME: Libbi paper does `logmeanexp` instead of `logsumexp`...</span>\n",
       "\n",
       "<span class=\"sd\">    Args:</span>\n",
       "<span class=\"sd\">        logw_particles: An `ndarray` of shape `(n_obs, n_particles)` giving the unnormalized log-weights of each particle at each time point.        </span>\n",
       "\n",
       "<span class=\"sd\">    Returns:</span>\n",
       "<span class=\"sd\">        Particle filter approximation of </span>\n",
       "<span class=\"sd\">        ```</span>\n",
       "<span class=\"sd\">        log p(y_meas | theta) = log int p(y_meas | x_state, theta) * p(x_state | theta) dx_state</span>\n",
       "<span class=\"sd\">        ```</span>\n",
       "<span class=\"sd\">    &quot;&quot;&quot;</span>\n",
       "    <span class=\"k\">return</span> <span class=\"n\">jnp</span><span class=\"o\">.</span><span class=\"n\">sum</span><span class=\"p\">(</span><span class=\"n\">jsp</span><span class=\"o\">.</span><span class=\"n\">special</span><span class=\"o\">.</span><span class=\"n\">logsumexp</span><span class=\"p\">(</span><span class=\"n\">logw_particles</span><span class=\"p\">,</span> <span class=\"n\">axis</span><span class=\"o\">=</span><span class=\"mi\">1</span><span class=\"p\">))</span>\n",
       "</pre></div>\n"
      ],
      "text/plain": [
       "<IPython.core.display.HTML object>"
      ]
     },
     "execution_count": 30,
     "metadata": {},
     "output_type": "execute_result"
    }
   ],
   "source": [
    "# Output .py file with jupyter highlighting\n",
    "from pygments import highlight\n",
    "from pygments.lexers import PythonLexer\n",
    "from pygments.formatters import HtmlFormatter\n",
    "import IPython\n",
    "\n",
    "with open('particle_filter_jax.py') as f:\n",
    "    code = f.read()\n",
    "\n",
    "formatter = HtmlFormatter()\n",
    "IPython.display.HTML('<style type=\"text/css\">{}</style>{}'.format(\n",
    "    formatter.get_style_defs('.highlight'),\n",
    "    highlight(code, PythonLexer(), formatter)))"
   ]
  },
  {
   "cell_type": "code",
   "execution_count": null,
   "metadata": {},
   "outputs": [],
   "source": [
    "# for tau = 0, MLE of mu and sigma are analytically available\n",
    "mu_hat = jnp.mean(jnp.diff(jnp.squeeze(y_meas)))/dt\n",
    "sigma_hat = jnp.sqrt(jnp.mean((jnp.diff(jnp.squeeze(y_meas)) - mu*dt)**2)/dt)\n",
    "sigma_hat2 = jnp.std(jnp.diff(jnp.squeeze(y_meas))) / np.sqrt(dt)\n",
    "print(\"mu_hat = \", mu_hat)\n",
    "print(\"sigma_hat = \", sigma_hat)\n",
    "print(\"sigma_hat2 = \", sigma_hat2)\n",
    "print(\"theta = \", theta)\n",
    "# bm_loglik(y_meas, dt, np.array([mu, sigma, tau]))"
   ]
  },
  {
   "cell_type": "code",
   "execution_count": null,
   "metadata": {},
   "outputs": [],
   "source": [
    "plot_df = (pd.DataFrame(np.concatenate((plot_data[0], plot_data[1])).T,\n",
    "                        columns=[a+b for b in map(str, [\"_x\", \"_y\"]) for a in theta_names])\n",
    "           .melt()\n",
    "           )\n",
    "plot_df[[\"theta\", \"axis\"]] = plot_df[\"variable\"].str.split(\"_\", 1, expand=True)\n",
    "plot_df = plot_df[[\"axis\", \"theta\", \"value\"]]\n",
    "# plot_df\n",
    "plot_df.pivot(columns=\"axis\", values=[\"theta\", \"value\"])\n",
    "# df = pd.DataFrame({'foo': ['one', 'one', 'one', 'two', 'two',\n",
    "#                           'two'],\n",
    "#                   'bar': ['A', 'B', 'C', 'A', 'B', 'C'],\n",
    "#                   'baz': [1, 2, 3, 4, 5, 6],\n",
    "#                   'zoo': ['x', 'y', 'z', 'q', 'w', 't']})\n",
    "# df\n",
    "#df.pivot(index='foo', columns='bar', values='baz')"
   ]
  },
  {
   "cell_type": "code",
   "execution_count": null,
   "metadata": {},
   "outputs": [],
   "source": [
    "pd.DataFrame(\n",
    "    jnp.array([[4, 7, 10],\n",
    "               [5, 8, 11],\n",
    "               [6, 9, 12]]),\n",
    "    #index=[1, 2, 3],\n",
    "    columns=['a', 'b', 'c'])"
   ]
  },
  {
   "cell_type": "code",
   "execution_count": null,
   "metadata": {},
   "outputs": [],
   "source": [
    "# check how smooth random.choice is\n",
    "\n",
    "key = random.PRNGKey(2)\n",
    "\n",
    "\n",
    "def fun(p):\n",
    "    \"\"\"\n",
    "    Sample one draw from a Bernoulli with probability `p`.\n",
    "    \"\"\"\n",
    "    return random.choice(key, a=jnp.arange(2), p=jnp.array([p, 1-p]))\n",
    "\n",
    "\n",
    "# see how output varies as we keep the seed fixed but let p range between 0 and 1\n",
    "n = 100\n",
    "prob = jnp.linspace(0, 1, n)\n",
    "x = jnp.zeros(n)\n",
    "for i in range(n):\n",
    "    x = x.at[i].set(fun(prob[i]))\n",
    "\n",
    "# result: sampler is indeed smooth in p.\n",
    "x"
   ]
  },
  {
   "cell_type": "code",
   "execution_count": null,
   "metadata": {},
   "outputs": [],
   "source": []
  },
  {
   "cell_type": "code",
   "execution_count": null,
   "metadata": {},
   "outputs": [],
   "source": []
  }
 ],
 "metadata": {
  "kernelspec": {
   "display_name": "Python 3 (ipykernel)",
   "language": "python",
   "name": "python3"
  },
  "language_info": {
   "codemirror_mode": {
    "name": "ipython",
    "version": 3
   },
   "file_extension": ".py",
   "mimetype": "text/x-python",
   "name": "python",
   "nbconvert_exporter": "python",
   "pygments_lexer": "ipython3",
   "version": "3.8.12"
  }
 },
 "nbformat": 4,
 "nbformat_minor": 4
}
